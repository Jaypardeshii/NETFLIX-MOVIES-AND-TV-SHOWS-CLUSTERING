{
  "nbformat": 4,
  "nbformat_minor": 0,
  "metadata": {
    "colab": {
      "provenance": [],
      "collapsed_sections": [
        "vncDsAP0Gaoa",
        "FJNUwmbgGyua",
        "w6K7xa23Elo4",
        "yQaldy8SH6Dl",
        "mDgbUHAGgjLW",
        "O_i_v8NEhb9l",
        "HhfV-JJviCcP",
        "Y3lxredqlCYt",
        "3RnN4peoiCZX",
        "x71ZqKXriCWQ",
        "7hBIi_osiCS2",
        "JlHwYmJAmNHm",
        "35m5QtbWiB9F",
        "PoPl-ycgm1ru",
        "H0kj-8xxnORC",
        "nA9Y7ga8ng1Z",
        "PBTbrJXOngz2",
        "u3PMJOP6ngxN",
        "dauF4eBmngu3",
        "bKJF3rekwFvQ",
        "MSa1f5Uengrz",
        "GF8Ens_Soomf",
        "0wOQAZs5pc--",
        "K5QZ13OEpz2H",
        "lQ7QKXXCp7Bj",
        "448CDAPjqfQr",
        "KSlN3yHqYklG",
        "t6dVpIINYklI",
        "ijmpgYnKYklI",
        "-JiQyfWJYklI",
        "EM7whBJCYoAo",
        "fge-S5ZAYoAp",
        "85gYPyotYoAp",
        "RoGjAbkUYoAp",
        "4Of9eVA-YrdM",
        "iky9q4vBYrdO",
        "F6T5p64dYrdO",
        "y-Ehk30pYrdP",
        "bamQiAODYuh1",
        "QHF8YVU7Yuh3",
        "GwzvFGzlYuh3",
        "qYpmQ266Yuh3",
        "OH-pJp9IphqM",
        "bbFf2-_FphqN",
        "_ouA3fa0phqN",
        "Seke61FWphqN",
        "PIIx-8_IphqN",
        "t27r6nlMphqO",
        "r2jJGEOYphqO",
        "b0JNsNcRphqO",
        "BZR9WyysphqO",
        "jj7wYXLtphqO",
        "eZrbJ2SmphqO",
        "rFu4xreNphqO",
        "YJ55k-q6phqO",
        "gCFgpxoyphqP",
        "OVtJsKN_phqQ",
        "lssrdh5qphqQ",
        "U2RJ9gkRphqQ",
        "1M8mcRywphqQ",
        "tgIPom80phqQ",
        "JMzcOPDDphqR",
        "x-EpHcCOp1ci",
        "X_VqEhTip1ck",
        "8zGJKyg5p1ck",
        "PVzmfK_Ep1ck",
        "n3dbpmDWp1ck",
        "ylSl6qgtp1ck",
        "ZWILFDl5p1ck",
        "M7G43BXep1ck",
        "Ag9LCva-p1cl",
        "E6MkPsBcp1cl",
        "2cELzS2fp1cl",
        "3MPXvC8up1cl",
        "NC_X3p0fY2L0",
        "UV0SzAkaZNRQ",
        "YPEH6qLeZNRQ",
        "q29F0dvdveiT",
        "EXh0U9oCveiU",
        "22aHeOlLveiV",
        "g-ATYxFrGrvw",
        "Yfr_Vlr8HBkt",
        "8yEUt7NnHlrM",
        "tEA2Xm5dHt1r",
        "I79__PHVH19G",
        "Ou-I18pAyIpj",
        "fF3858GYyt-u",
        "4_0_7-oCpUZd",
        "hwyV_J3ipUZe",
        "3yB-zSqbpUZe",
        "dEUvejAfpUZe",
        "Fd15vwWVpUZf",
        "bn_IUdTipZyH",
        "49K5P_iCpZyH",
        "Nff-vKELpZyI",
        "kLW572S8pZyI",
        "dWbDXHzopZyI",
        "yLjJCtPM0KBk",
        "xiyOF9F70UgQ",
        "7wuGOrhz0itI",
        "id1riN9m0vUs",
        "578E2V7j08f6",
        "89xtkJwZ18nB",
        "67NQN5KX2AMe",
        "Iwf50b-R2tYG",
        "GMQiZwjn3iu7",
        "WVIkgGqN3qsr",
        "XkPnILGE3zoT",
        "Hlsf0x5436Go",
        "mT9DMSJo4nBL",
        "c49ITxTc407N",
        "OeJFEK0N496M",
        "9ExmJH0g5HBk",
        "cJNqERVU536h",
        "k5UmGsbsOxih",
        "T0VqWOYE6DLQ",
        "qBMux9mC6MCf",
        "-oLEiFgy-5Pf",
        "C74aWNz2AliB",
        "2DejudWSA-a0",
        "pEMng2IbBLp7",
        "rAdphbQ9Bhjc",
        "TNVZ9zx19K6k",
        "nqoHp30x9hH9",
        "rMDnDkt2B6du",
        "yiiVWRdJDDil",
        "1UUpS68QDMuG",
        "kexQrXU-DjzY",
        "T5CmagL3EC8N",
        "BhH2vgX9EjGr",
        "qjKvONjwE8ra",
        "P1XJ9OREExlT",
        "VFOzZv6IFROw",
        "TIqpNgepFxVj",
        "VfCC591jGiD4",
        "OB4l2ZhMeS1U",
        "ArJBuiUVfxKd",
        "4qY1EAkEfxKe",
        "PiV4Ypx8fxKe",
        "TfvqoZmBfxKf",
        "dJ2tPlVmpsJ0",
        "JWYfwnehpsJ1",
        "-jK_YjpMpsJ2",
        "HAih1iBOpsJ2",
        "zVGeBEFhpsJ2",
        "bmKjuQ-FpsJ3",
        "Fze-IPXLpx6K",
        "7AN1z2sKpx6M",
        "9PIHJqyupx6M",
        "_-qAgymDpx6N",
        "Z-hykwinpx6N",
        "h_CCil-SKHpo",
        "cBFFvTBNJzUa",
        "HvGl1hHyA_VK",
        "EyNgTHvd2WFk",
        "KH5McJBi2d8v",
        "iW_Lq9qf2h6X",
        "-Kee-DAl2viO",
        "gCX9965dhzqZ",
        "gIfDvo9L0UH2"
      ],
      "include_colab_link": true
    },
    "kernelspec": {
      "name": "python3",
      "display_name": "Python 3"
    },
    "language_info": {
      "name": "python"
    },
    "gpuClass": "standard"
  },
  "cells": [
    {
      "cell_type": "markdown",
      "metadata": {
        "id": "view-in-github",
        "colab_type": "text"
      },
      "source": [
        "<a href=\"https://colab.research.google.com/github/Jaypardeshii/NETFLIX-MOVIES-AND-TV-SHOWS-CLUSTERING/blob/main/NETFLIX_MOVIES_AND_TV_SHOWS_CLUSTERING.ipynb\" target=\"_parent\"><img src=\"https://colab.research.google.com/assets/colab-badge.svg\" alt=\"Open In Colab\"/></a>"
      ]
    },
    {
      "cell_type": "markdown",
      "source": [
        "# **Project Name**    - \n",
        "\n"
      ],
      "metadata": {
        "id": "vncDsAP0Gaoa"
      }
    },
    {
      "cell_type": "markdown",
      "source": [
        "##### **Project Type**    - EDA/Regression/Classification/Unsupervised\n",
        "##### **Contribution**    - Individual/Team\n",
        "##### **Team Member 1 -**\n",
        "##### **Team Member 2 -**\n",
        "##### **Team Member 3 -**\n",
        "##### **Team Member 4 -**"
      ],
      "metadata": {
        "id": "beRrZCGUAJYm"
      }
    },
    {
      "cell_type": "markdown",
      "source": [
        "# **Project Summary -**"
      ],
      "metadata": {
        "id": "FJNUwmbgGyua"
      }
    },
    {
      "cell_type": "markdown",
      "source": [
        "Write the summary here within 500-600 words."
      ],
      "metadata": {
        "id": "F6v_1wHtG2nS"
      }
    },
    {
      "cell_type": "markdown",
      "source": [
        "# **GitHub Link -**"
      ],
      "metadata": {
        "id": "w6K7xa23Elo4"
      }
    },
    {
      "cell_type": "markdown",
      "source": [
        "Provide your GitHub Link here."
      ],
      "metadata": {
        "id": "h1o69JH3Eqqn"
      }
    },
    {
      "cell_type": "markdown",
      "source": [
        "# **Problem Statement**\n"
      ],
      "metadata": {
        "id": "yQaldy8SH6Dl"
      }
    },
    {
      "cell_type": "markdown",
      "source": [
        "This dataset consists of TV shows and movies available on Netflix as of 2019. So, in this project we required to understand what type of content is available in different countries, If Netflix has increasingly focusing on TV rather than movies in recent years, and clustering similar content by matching text-based features."
      ],
      "metadata": {
        "id": "DpeJGUA3kjGy"
      }
    },
    {
      "cell_type": "markdown",
      "source": [
        "# **General Guidelines** : -  "
      ],
      "metadata": {
        "id": "mDgbUHAGgjLW"
      }
    },
    {
      "cell_type": "markdown",
      "source": [
        "1.   Well-structured, formatted, and commented code is required. \n",
        "2.   Exception Handling, Production Grade Code & Deployment Ready Code will be a plus. Those students will be awarded some additional credits. \n",
        "     \n",
        "     The additional credits will have advantages over other students during Star Student selection.\n",
        "       \n",
        "             [ Note: - Deployment Ready Code is defined as, the whole .ipynb notebook should be executable in one go\n",
        "                       without a single error logged. ]\n",
        "\n",
        "3.   Each and every logic should have proper comments.\n",
        "4. You may add as many number of charts you want. Make Sure for each and every chart the following format should be answered.\n",
        "        \n",
        "\n",
        "```\n",
        "# Chart visualization code\n",
        "```\n",
        "            \n",
        "\n",
        "*   Why did you pick the specific chart?\n",
        "*   What is/are the insight(s) found from the chart?\n",
        "* Will the gained insights help creating a positive business impact? \n",
        "Are there any insights that lead to negative growth? Justify with specific reason.\n",
        "\n",
        "5. You have to create at least 15 logical & meaningful charts having important insights.\n",
        "\n",
        "\n",
        "[ Hints : - Do the Vizualization in  a structured way while following \"UBM\" Rule. \n",
        "\n",
        "U - Univariate Analysis,\n",
        "\n",
        "B - Bivariate Analysis (Numerical - Categorical, Numerical - Numerical, Categorical - Categorical)\n",
        "\n",
        "M - Multivariate Analysis\n",
        " ]\n",
        "\n",
        "\n",
        "\n",
        "\n",
        "\n",
        "6. You may add more ml algorithms for model creation. Make sure for each and every algorithm, the following format should be answered.\n",
        "\n",
        "\n",
        "*   Explain the ML Model used and it's performance using Evaluation metric Score Chart.\n",
        "\n",
        "\n",
        "*   Cross- Validation & Hyperparameter Tuning\n",
        "\n",
        "*   Have you seen any improvement? Note down the improvement with updates Evaluation metric Score Chart.\n",
        "\n",
        "*   Explain each evaluation metric's indication towards business and the business impact pf the ML model used.\n",
        "\n",
        "\n",
        "\n",
        "\n",
        "\n",
        "\n",
        "\n",
        "\n",
        "\n",
        "\n",
        "\n",
        "\n",
        "\n",
        "\n",
        "\n",
        "\n",
        "\n",
        "\n"
      ],
      "metadata": {
        "id": "ZrxVaUj-hHfC"
      }
    },
    {
      "cell_type": "markdown",
      "source": [
        "# ***Let's Begin !***"
      ],
      "metadata": {
        "id": "O_i_v8NEhb9l"
      }
    },
    {
      "cell_type": "markdown",
      "source": [
        "## ***1. Know Your Data***"
      ],
      "metadata": {
        "id": "HhfV-JJviCcP"
      }
    },
    {
      "cell_type": "markdown",
      "source": [
        "### Import Libraries"
      ],
      "metadata": {
        "id": "Y3lxredqlCYt"
      }
    },
    {
      "cell_type": "code",
      "source": [
        "# Import Libraries\n",
        "import numpy as np\n",
        "import pandas as pd\n",
        "import seaborn as sns\n",
        "import matplotlib.pyplot as plt\n",
        "import re\n",
        "from nltk.corpus import stopwords\n",
        "from nltk.tokenize import word_tokenize\n",
        "from nltk.corpus import stopwords\n",
        "from string import punctuation\n",
        "from collections import Counter\n",
        "import nltk\n",
        "nltk.download('punkt')\n",
        "nltk.download('stopwords')\n",
        "from sklearn.cluster import KMeans\n",
        "from sklearn.metrics import silhouette_score\n",
        "from sklearn.feature_extraction.text import TfidfVectorizer\n",
        "from sklearn import metrics"
      ],
      "metadata": {
        "id": "M8Vqi-pPk-HR",
        "colab": {
          "base_uri": "https://localhost:8080/"
        },
        "outputId": "1316adbe-e489-4f53-da01-6d9550486a8d"
      },
      "execution_count": 1,
      "outputs": [
        {
          "output_type": "stream",
          "name": "stderr",
          "text": [
            "[nltk_data] Downloading package punkt to /root/nltk_data...\n",
            "[nltk_data]   Unzipping tokenizers/punkt.zip.\n",
            "[nltk_data] Downloading package stopwords to /root/nltk_data...\n",
            "[nltk_data]   Unzipping corpora/stopwords.zip.\n"
          ]
        }
      ]
    },
    {
      "cell_type": "markdown",
      "source": [
        "### Dataset Loading"
      ],
      "metadata": {
        "id": "3RnN4peoiCZX"
      }
    },
    {
      "cell_type": "code",
      "source": [
        "# Load Dataset\n",
        "from google.colab import drive\n",
        "drive.mount('/content/drive')\n"
      ],
      "metadata": {
        "id": "4CkvbW_SlZ_R",
        "colab": {
          "base_uri": "https://localhost:8080/"
        },
        "outputId": "46df0172-5f6e-4766-83e0-6ec2898308b1"
      },
      "execution_count": 2,
      "outputs": [
        {
          "output_type": "stream",
          "name": "stdout",
          "text": [
            "Mounted at /content/drive\n"
          ]
        }
      ]
    },
    {
      "cell_type": "code",
      "source": [
        "file_path = '/content/drive/MyDrive/Datasets/NETFLIX MOVIES AND TV SHOWS CLUSTERING.csv'\n",
        "df = pd.read_csv(file_path)"
      ],
      "metadata": {
        "id": "rNaw7stuDeUH"
      },
      "execution_count": 3,
      "outputs": []
    },
    {
      "cell_type": "markdown",
      "source": [
        "### Dataset First View"
      ],
      "metadata": {
        "id": "x71ZqKXriCWQ"
      }
    },
    {
      "cell_type": "code",
      "source": [
        "df.head()"
      ],
      "metadata": {
        "id": "LWNFOSvLl09H",
        "colab": {
          "base_uri": "https://localhost:8080/",
          "height": 424
        },
        "outputId": "96f1ad00-28e4-4176-b3ac-db8b93e3e6f0"
      },
      "execution_count": 4,
      "outputs": [
        {
          "output_type": "execute_result",
          "data": {
            "text/plain": [
              "  show_id     type  title           director  \\\n",
              "0      s1  TV Show     3%                NaN   \n",
              "1      s2    Movie   7:19  Jorge Michel Grau   \n",
              "2      s3    Movie  23:59       Gilbert Chan   \n",
              "3      s4    Movie      9        Shane Acker   \n",
              "4      s5    Movie     21     Robert Luketic   \n",
              "\n",
              "                                                cast        country  \\\n",
              "0  João Miguel, Bianca Comparato, Michel Gomes, R...         Brazil   \n",
              "1  Demián Bichir, Héctor Bonilla, Oscar Serrano, ...         Mexico   \n",
              "2  Tedd Chan, Stella Chung, Henley Hii, Lawrence ...      Singapore   \n",
              "3  Elijah Wood, John C. Reilly, Jennifer Connelly...  United States   \n",
              "4  Jim Sturgess, Kevin Spacey, Kate Bosworth, Aar...  United States   \n",
              "\n",
              "          date_added  release_year rating   duration  \\\n",
              "0    August 14, 2020          2020  TV-MA  4 Seasons   \n",
              "1  December 23, 2016          2016  TV-MA     93 min   \n",
              "2  December 20, 2018          2011      R     78 min   \n",
              "3  November 16, 2017          2009  PG-13     80 min   \n",
              "4    January 1, 2020          2008  PG-13    123 min   \n",
              "\n",
              "                                           listed_in  \\\n",
              "0  International TV Shows, TV Dramas, TV Sci-Fi &...   \n",
              "1                       Dramas, International Movies   \n",
              "2                Horror Movies, International Movies   \n",
              "3  Action & Adventure, Independent Movies, Sci-Fi...   \n",
              "4                                             Dramas   \n",
              "\n",
              "                                         description  \n",
              "0  In a future where the elite inhabit an island ...  \n",
              "1  After a devastating earthquake hits Mexico Cit...  \n",
              "2  When an army recruit is found dead, his fellow...  \n",
              "3  In a postapocalyptic world, rag-doll robots hi...  \n",
              "4  A brilliant group of students become card-coun...  "
            ],
            "text/html": [
              "\n",
              "  <div id=\"df-5b3e5e15-7296-4c58-ae5d-47620020ee99\">\n",
              "    <div class=\"colab-df-container\">\n",
              "      <div>\n",
              "<style scoped>\n",
              "    .dataframe tbody tr th:only-of-type {\n",
              "        vertical-align: middle;\n",
              "    }\n",
              "\n",
              "    .dataframe tbody tr th {\n",
              "        vertical-align: top;\n",
              "    }\n",
              "\n",
              "    .dataframe thead th {\n",
              "        text-align: right;\n",
              "    }\n",
              "</style>\n",
              "<table border=\"1\" class=\"dataframe\">\n",
              "  <thead>\n",
              "    <tr style=\"text-align: right;\">\n",
              "      <th></th>\n",
              "      <th>show_id</th>\n",
              "      <th>type</th>\n",
              "      <th>title</th>\n",
              "      <th>director</th>\n",
              "      <th>cast</th>\n",
              "      <th>country</th>\n",
              "      <th>date_added</th>\n",
              "      <th>release_year</th>\n",
              "      <th>rating</th>\n",
              "      <th>duration</th>\n",
              "      <th>listed_in</th>\n",
              "      <th>description</th>\n",
              "    </tr>\n",
              "  </thead>\n",
              "  <tbody>\n",
              "    <tr>\n",
              "      <th>0</th>\n",
              "      <td>s1</td>\n",
              "      <td>TV Show</td>\n",
              "      <td>3%</td>\n",
              "      <td>NaN</td>\n",
              "      <td>João Miguel, Bianca Comparato, Michel Gomes, R...</td>\n",
              "      <td>Brazil</td>\n",
              "      <td>August 14, 2020</td>\n",
              "      <td>2020</td>\n",
              "      <td>TV-MA</td>\n",
              "      <td>4 Seasons</td>\n",
              "      <td>International TV Shows, TV Dramas, TV Sci-Fi &amp;...</td>\n",
              "      <td>In a future where the elite inhabit an island ...</td>\n",
              "    </tr>\n",
              "    <tr>\n",
              "      <th>1</th>\n",
              "      <td>s2</td>\n",
              "      <td>Movie</td>\n",
              "      <td>7:19</td>\n",
              "      <td>Jorge Michel Grau</td>\n",
              "      <td>Demián Bichir, Héctor Bonilla, Oscar Serrano, ...</td>\n",
              "      <td>Mexico</td>\n",
              "      <td>December 23, 2016</td>\n",
              "      <td>2016</td>\n",
              "      <td>TV-MA</td>\n",
              "      <td>93 min</td>\n",
              "      <td>Dramas, International Movies</td>\n",
              "      <td>After a devastating earthquake hits Mexico Cit...</td>\n",
              "    </tr>\n",
              "    <tr>\n",
              "      <th>2</th>\n",
              "      <td>s3</td>\n",
              "      <td>Movie</td>\n",
              "      <td>23:59</td>\n",
              "      <td>Gilbert Chan</td>\n",
              "      <td>Tedd Chan, Stella Chung, Henley Hii, Lawrence ...</td>\n",
              "      <td>Singapore</td>\n",
              "      <td>December 20, 2018</td>\n",
              "      <td>2011</td>\n",
              "      <td>R</td>\n",
              "      <td>78 min</td>\n",
              "      <td>Horror Movies, International Movies</td>\n",
              "      <td>When an army recruit is found dead, his fellow...</td>\n",
              "    </tr>\n",
              "    <tr>\n",
              "      <th>3</th>\n",
              "      <td>s4</td>\n",
              "      <td>Movie</td>\n",
              "      <td>9</td>\n",
              "      <td>Shane Acker</td>\n",
              "      <td>Elijah Wood, John C. Reilly, Jennifer Connelly...</td>\n",
              "      <td>United States</td>\n",
              "      <td>November 16, 2017</td>\n",
              "      <td>2009</td>\n",
              "      <td>PG-13</td>\n",
              "      <td>80 min</td>\n",
              "      <td>Action &amp; Adventure, Independent Movies, Sci-Fi...</td>\n",
              "      <td>In a postapocalyptic world, rag-doll robots hi...</td>\n",
              "    </tr>\n",
              "    <tr>\n",
              "      <th>4</th>\n",
              "      <td>s5</td>\n",
              "      <td>Movie</td>\n",
              "      <td>21</td>\n",
              "      <td>Robert Luketic</td>\n",
              "      <td>Jim Sturgess, Kevin Spacey, Kate Bosworth, Aar...</td>\n",
              "      <td>United States</td>\n",
              "      <td>January 1, 2020</td>\n",
              "      <td>2008</td>\n",
              "      <td>PG-13</td>\n",
              "      <td>123 min</td>\n",
              "      <td>Dramas</td>\n",
              "      <td>A brilliant group of students become card-coun...</td>\n",
              "    </tr>\n",
              "  </tbody>\n",
              "</table>\n",
              "</div>\n",
              "      <button class=\"colab-df-convert\" onclick=\"convertToInteractive('df-5b3e5e15-7296-4c58-ae5d-47620020ee99')\"\n",
              "              title=\"Convert this dataframe to an interactive table.\"\n",
              "              style=\"display:none;\">\n",
              "        \n",
              "  <svg xmlns=\"http://www.w3.org/2000/svg\" height=\"24px\"viewBox=\"0 0 24 24\"\n",
              "       width=\"24px\">\n",
              "    <path d=\"M0 0h24v24H0V0z\" fill=\"none\"/>\n",
              "    <path d=\"M18.56 5.44l.94 2.06.94-2.06 2.06-.94-2.06-.94-.94-2.06-.94 2.06-2.06.94zm-11 1L8.5 8.5l.94-2.06 2.06-.94-2.06-.94L8.5 2.5l-.94 2.06-2.06.94zm10 10l.94 2.06.94-2.06 2.06-.94-2.06-.94-.94-2.06-.94 2.06-2.06.94z\"/><path d=\"M17.41 7.96l-1.37-1.37c-.4-.4-.92-.59-1.43-.59-.52 0-1.04.2-1.43.59L10.3 9.45l-7.72 7.72c-.78.78-.78 2.05 0 2.83L4 21.41c.39.39.9.59 1.41.59.51 0 1.02-.2 1.41-.59l7.78-7.78 2.81-2.81c.8-.78.8-2.07 0-2.86zM5.41 20L4 18.59l7.72-7.72 1.47 1.35L5.41 20z\"/>\n",
              "  </svg>\n",
              "      </button>\n",
              "      \n",
              "  <style>\n",
              "    .colab-df-container {\n",
              "      display:flex;\n",
              "      flex-wrap:wrap;\n",
              "      gap: 12px;\n",
              "    }\n",
              "\n",
              "    .colab-df-convert {\n",
              "      background-color: #E8F0FE;\n",
              "      border: none;\n",
              "      border-radius: 50%;\n",
              "      cursor: pointer;\n",
              "      display: none;\n",
              "      fill: #1967D2;\n",
              "      height: 32px;\n",
              "      padding: 0 0 0 0;\n",
              "      width: 32px;\n",
              "    }\n",
              "\n",
              "    .colab-df-convert:hover {\n",
              "      background-color: #E2EBFA;\n",
              "      box-shadow: 0px 1px 2px rgba(60, 64, 67, 0.3), 0px 1px 3px 1px rgba(60, 64, 67, 0.15);\n",
              "      fill: #174EA6;\n",
              "    }\n",
              "\n",
              "    [theme=dark] .colab-df-convert {\n",
              "      background-color: #3B4455;\n",
              "      fill: #D2E3FC;\n",
              "    }\n",
              "\n",
              "    [theme=dark] .colab-df-convert:hover {\n",
              "      background-color: #434B5C;\n",
              "      box-shadow: 0px 1px 3px 1px rgba(0, 0, 0, 0.15);\n",
              "      filter: drop-shadow(0px 1px 2px rgba(0, 0, 0, 0.3));\n",
              "      fill: #FFFFFF;\n",
              "    }\n",
              "  </style>\n",
              "\n",
              "      <script>\n",
              "        const buttonEl =\n",
              "          document.querySelector('#df-5b3e5e15-7296-4c58-ae5d-47620020ee99 button.colab-df-convert');\n",
              "        buttonEl.style.display =\n",
              "          google.colab.kernel.accessAllowed ? 'block' : 'none';\n",
              "\n",
              "        async function convertToInteractive(key) {\n",
              "          const element = document.querySelector('#df-5b3e5e15-7296-4c58-ae5d-47620020ee99');\n",
              "          const dataTable =\n",
              "            await google.colab.kernel.invokeFunction('convertToInteractive',\n",
              "                                                     [key], {});\n",
              "          if (!dataTable) return;\n",
              "\n",
              "          const docLinkHtml = 'Like what you see? Visit the ' +\n",
              "            '<a target=\"_blank\" href=https://colab.research.google.com/notebooks/data_table.ipynb>data table notebook</a>'\n",
              "            + ' to learn more about interactive tables.';\n",
              "          element.innerHTML = '';\n",
              "          dataTable['output_type'] = 'display_data';\n",
              "          await google.colab.output.renderOutput(dataTable, element);\n",
              "          const docLink = document.createElement('div');\n",
              "          docLink.innerHTML = docLinkHtml;\n",
              "          element.appendChild(docLink);\n",
              "        }\n",
              "      </script>\n",
              "    </div>\n",
              "  </div>\n",
              "  "
            ]
          },
          "metadata": {},
          "execution_count": 4
        }
      ]
    },
    {
      "cell_type": "code",
      "source": [
        "df.tail()"
      ],
      "metadata": {
        "id": "ildQ1yu2Fnby",
        "colab": {
          "base_uri": "https://localhost:8080/",
          "height": 476
        },
        "outputId": "2946ebc8-154c-44cc-867e-0bbee7bb8955"
      },
      "execution_count": 5,
      "outputs": [
        {
          "output_type": "execute_result",
          "data": {
            "text/plain": [
              "     show_id     type                                    title     director  \\\n",
              "7782   s7783    Movie                                     Zozo  Josef Fares   \n",
              "7783   s7784    Movie                                   Zubaan  Mozez Singh   \n",
              "7784   s7785    Movie                        Zulu Man in Japan          NaN   \n",
              "7785   s7786  TV Show                    Zumbo's Just Desserts          NaN   \n",
              "7786   s7787    Movie  ZZ TOP: THAT LITTLE OL' BAND FROM TEXAS     Sam Dunn   \n",
              "\n",
              "                                                   cast  \\\n",
              "7782  Imad Creidi, Antoinette Turk, Elias Gergi, Car...   \n",
              "7783  Vicky Kaushal, Sarah-Jane Dias, Raaghav Chanan...   \n",
              "7784                                            Nasty C   \n",
              "7785                         Adriano Zumbo, Rachel Khoo   \n",
              "7786                                                NaN   \n",
              "\n",
              "                                                country          date_added  \\\n",
              "7782  Sweden, Czech Republic, United Kingdom, Denmar...    October 19, 2020   \n",
              "7783                                              India       March 2, 2019   \n",
              "7784                                                NaN  September 25, 2020   \n",
              "7785                                          Australia    October 31, 2020   \n",
              "7786              United Kingdom, Canada, United States       March 1, 2020   \n",
              "\n",
              "      release_year rating  duration  \\\n",
              "7782          2005  TV-MA    99 min   \n",
              "7783          2015  TV-14   111 min   \n",
              "7784          2019  TV-MA    44 min   \n",
              "7785          2019  TV-PG  1 Season   \n",
              "7786          2019  TV-MA    90 min   \n",
              "\n",
              "                                              listed_in  \\\n",
              "7782                       Dramas, International Movies   \n",
              "7783     Dramas, International Movies, Music & Musicals   \n",
              "7784  Documentaries, International Movies, Music & M...   \n",
              "7785                 International TV Shows, Reality TV   \n",
              "7786                    Documentaries, Music & Musicals   \n",
              "\n",
              "                                            description  \n",
              "7782  When Lebanon's Civil War deprives Zozo of his ...  \n",
              "7783  A scrappy but poor boy worms his way into a ty...  \n",
              "7784  In this documentary, South African rapper Nast...  \n",
              "7785  Dessert wizard Adriano Zumbo looks for the nex...  \n",
              "7786  This documentary delves into the mystique behi...  "
            ],
            "text/html": [
              "\n",
              "  <div id=\"df-dbff2e55-ed79-4447-83e6-c117ec4d493f\">\n",
              "    <div class=\"colab-df-container\">\n",
              "      <div>\n",
              "<style scoped>\n",
              "    .dataframe tbody tr th:only-of-type {\n",
              "        vertical-align: middle;\n",
              "    }\n",
              "\n",
              "    .dataframe tbody tr th {\n",
              "        vertical-align: top;\n",
              "    }\n",
              "\n",
              "    .dataframe thead th {\n",
              "        text-align: right;\n",
              "    }\n",
              "</style>\n",
              "<table border=\"1\" class=\"dataframe\">\n",
              "  <thead>\n",
              "    <tr style=\"text-align: right;\">\n",
              "      <th></th>\n",
              "      <th>show_id</th>\n",
              "      <th>type</th>\n",
              "      <th>title</th>\n",
              "      <th>director</th>\n",
              "      <th>cast</th>\n",
              "      <th>country</th>\n",
              "      <th>date_added</th>\n",
              "      <th>release_year</th>\n",
              "      <th>rating</th>\n",
              "      <th>duration</th>\n",
              "      <th>listed_in</th>\n",
              "      <th>description</th>\n",
              "    </tr>\n",
              "  </thead>\n",
              "  <tbody>\n",
              "    <tr>\n",
              "      <th>7782</th>\n",
              "      <td>s7783</td>\n",
              "      <td>Movie</td>\n",
              "      <td>Zozo</td>\n",
              "      <td>Josef Fares</td>\n",
              "      <td>Imad Creidi, Antoinette Turk, Elias Gergi, Car...</td>\n",
              "      <td>Sweden, Czech Republic, United Kingdom, Denmar...</td>\n",
              "      <td>October 19, 2020</td>\n",
              "      <td>2005</td>\n",
              "      <td>TV-MA</td>\n",
              "      <td>99 min</td>\n",
              "      <td>Dramas, International Movies</td>\n",
              "      <td>When Lebanon's Civil War deprives Zozo of his ...</td>\n",
              "    </tr>\n",
              "    <tr>\n",
              "      <th>7783</th>\n",
              "      <td>s7784</td>\n",
              "      <td>Movie</td>\n",
              "      <td>Zubaan</td>\n",
              "      <td>Mozez Singh</td>\n",
              "      <td>Vicky Kaushal, Sarah-Jane Dias, Raaghav Chanan...</td>\n",
              "      <td>India</td>\n",
              "      <td>March 2, 2019</td>\n",
              "      <td>2015</td>\n",
              "      <td>TV-14</td>\n",
              "      <td>111 min</td>\n",
              "      <td>Dramas, International Movies, Music &amp; Musicals</td>\n",
              "      <td>A scrappy but poor boy worms his way into a ty...</td>\n",
              "    </tr>\n",
              "    <tr>\n",
              "      <th>7784</th>\n",
              "      <td>s7785</td>\n",
              "      <td>Movie</td>\n",
              "      <td>Zulu Man in Japan</td>\n",
              "      <td>NaN</td>\n",
              "      <td>Nasty C</td>\n",
              "      <td>NaN</td>\n",
              "      <td>September 25, 2020</td>\n",
              "      <td>2019</td>\n",
              "      <td>TV-MA</td>\n",
              "      <td>44 min</td>\n",
              "      <td>Documentaries, International Movies, Music &amp; M...</td>\n",
              "      <td>In this documentary, South African rapper Nast...</td>\n",
              "    </tr>\n",
              "    <tr>\n",
              "      <th>7785</th>\n",
              "      <td>s7786</td>\n",
              "      <td>TV Show</td>\n",
              "      <td>Zumbo's Just Desserts</td>\n",
              "      <td>NaN</td>\n",
              "      <td>Adriano Zumbo, Rachel Khoo</td>\n",
              "      <td>Australia</td>\n",
              "      <td>October 31, 2020</td>\n",
              "      <td>2019</td>\n",
              "      <td>TV-PG</td>\n",
              "      <td>1 Season</td>\n",
              "      <td>International TV Shows, Reality TV</td>\n",
              "      <td>Dessert wizard Adriano Zumbo looks for the nex...</td>\n",
              "    </tr>\n",
              "    <tr>\n",
              "      <th>7786</th>\n",
              "      <td>s7787</td>\n",
              "      <td>Movie</td>\n",
              "      <td>ZZ TOP: THAT LITTLE OL' BAND FROM TEXAS</td>\n",
              "      <td>Sam Dunn</td>\n",
              "      <td>NaN</td>\n",
              "      <td>United Kingdom, Canada, United States</td>\n",
              "      <td>March 1, 2020</td>\n",
              "      <td>2019</td>\n",
              "      <td>TV-MA</td>\n",
              "      <td>90 min</td>\n",
              "      <td>Documentaries, Music &amp; Musicals</td>\n",
              "      <td>This documentary delves into the mystique behi...</td>\n",
              "    </tr>\n",
              "  </tbody>\n",
              "</table>\n",
              "</div>\n",
              "      <button class=\"colab-df-convert\" onclick=\"convertToInteractive('df-dbff2e55-ed79-4447-83e6-c117ec4d493f')\"\n",
              "              title=\"Convert this dataframe to an interactive table.\"\n",
              "              style=\"display:none;\">\n",
              "        \n",
              "  <svg xmlns=\"http://www.w3.org/2000/svg\" height=\"24px\"viewBox=\"0 0 24 24\"\n",
              "       width=\"24px\">\n",
              "    <path d=\"M0 0h24v24H0V0z\" fill=\"none\"/>\n",
              "    <path d=\"M18.56 5.44l.94 2.06.94-2.06 2.06-.94-2.06-.94-.94-2.06-.94 2.06-2.06.94zm-11 1L8.5 8.5l.94-2.06 2.06-.94-2.06-.94L8.5 2.5l-.94 2.06-2.06.94zm10 10l.94 2.06.94-2.06 2.06-.94-2.06-.94-.94-2.06-.94 2.06-2.06.94z\"/><path d=\"M17.41 7.96l-1.37-1.37c-.4-.4-.92-.59-1.43-.59-.52 0-1.04.2-1.43.59L10.3 9.45l-7.72 7.72c-.78.78-.78 2.05 0 2.83L4 21.41c.39.39.9.59 1.41.59.51 0 1.02-.2 1.41-.59l7.78-7.78 2.81-2.81c.8-.78.8-2.07 0-2.86zM5.41 20L4 18.59l7.72-7.72 1.47 1.35L5.41 20z\"/>\n",
              "  </svg>\n",
              "      </button>\n",
              "      \n",
              "  <style>\n",
              "    .colab-df-container {\n",
              "      display:flex;\n",
              "      flex-wrap:wrap;\n",
              "      gap: 12px;\n",
              "    }\n",
              "\n",
              "    .colab-df-convert {\n",
              "      background-color: #E8F0FE;\n",
              "      border: none;\n",
              "      border-radius: 50%;\n",
              "      cursor: pointer;\n",
              "      display: none;\n",
              "      fill: #1967D2;\n",
              "      height: 32px;\n",
              "      padding: 0 0 0 0;\n",
              "      width: 32px;\n",
              "    }\n",
              "\n",
              "    .colab-df-convert:hover {\n",
              "      background-color: #E2EBFA;\n",
              "      box-shadow: 0px 1px 2px rgba(60, 64, 67, 0.3), 0px 1px 3px 1px rgba(60, 64, 67, 0.15);\n",
              "      fill: #174EA6;\n",
              "    }\n",
              "\n",
              "    [theme=dark] .colab-df-convert {\n",
              "      background-color: #3B4455;\n",
              "      fill: #D2E3FC;\n",
              "    }\n",
              "\n",
              "    [theme=dark] .colab-df-convert:hover {\n",
              "      background-color: #434B5C;\n",
              "      box-shadow: 0px 1px 3px 1px rgba(0, 0, 0, 0.15);\n",
              "      filter: drop-shadow(0px 1px 2px rgba(0, 0, 0, 0.3));\n",
              "      fill: #FFFFFF;\n",
              "    }\n",
              "  </style>\n",
              "\n",
              "      <script>\n",
              "        const buttonEl =\n",
              "          document.querySelector('#df-dbff2e55-ed79-4447-83e6-c117ec4d493f button.colab-df-convert');\n",
              "        buttonEl.style.display =\n",
              "          google.colab.kernel.accessAllowed ? 'block' : 'none';\n",
              "\n",
              "        async function convertToInteractive(key) {\n",
              "          const element = document.querySelector('#df-dbff2e55-ed79-4447-83e6-c117ec4d493f');\n",
              "          const dataTable =\n",
              "            await google.colab.kernel.invokeFunction('convertToInteractive',\n",
              "                                                     [key], {});\n",
              "          if (!dataTable) return;\n",
              "\n",
              "          const docLinkHtml = 'Like what you see? Visit the ' +\n",
              "            '<a target=\"_blank\" href=https://colab.research.google.com/notebooks/data_table.ipynb>data table notebook</a>'\n",
              "            + ' to learn more about interactive tables.';\n",
              "          element.innerHTML = '';\n",
              "          dataTable['output_type'] = 'display_data';\n",
              "          await google.colab.output.renderOutput(dataTable, element);\n",
              "          const docLink = document.createElement('div');\n",
              "          docLink.innerHTML = docLinkHtml;\n",
              "          element.appendChild(docLink);\n",
              "        }\n",
              "      </script>\n",
              "    </div>\n",
              "  </div>\n",
              "  "
            ]
          },
          "metadata": {},
          "execution_count": 5
        }
      ]
    },
    {
      "cell_type": "markdown",
      "source": [
        "### Dataset Rows & Columns count"
      ],
      "metadata": {
        "id": "7hBIi_osiCS2"
      }
    },
    {
      "cell_type": "code",
      "source": [
        "# Dataset Rows & Columns count\n",
        "df.shape"
      ],
      "metadata": {
        "id": "Kllu7SJgmLij",
        "colab": {
          "base_uri": "https://localhost:8080/"
        },
        "outputId": "60c62442-5b92-4bfb-9540-94c559874a85"
      },
      "execution_count": 6,
      "outputs": [
        {
          "output_type": "execute_result",
          "data": {
            "text/plain": [
              "(7787, 12)"
            ]
          },
          "metadata": {},
          "execution_count": 6
        }
      ]
    },
    {
      "cell_type": "markdown",
      "source": [
        "### Dataset Information"
      ],
      "metadata": {
        "id": "JlHwYmJAmNHm"
      }
    },
    {
      "cell_type": "code",
      "source": [
        "# Dataset Info\n",
        "df.info()"
      ],
      "metadata": {
        "id": "e9hRXRi6meOf",
        "colab": {
          "base_uri": "https://localhost:8080/"
        },
        "outputId": "d25fb0c8-dacd-4242-c0fd-21b1af4beb4f"
      },
      "execution_count": 7,
      "outputs": [
        {
          "output_type": "stream",
          "name": "stdout",
          "text": [
            "<class 'pandas.core.frame.DataFrame'>\n",
            "RangeIndex: 7787 entries, 0 to 7786\n",
            "Data columns (total 12 columns):\n",
            " #   Column        Non-Null Count  Dtype \n",
            "---  ------        --------------  ----- \n",
            " 0   show_id       7787 non-null   object\n",
            " 1   type          7787 non-null   object\n",
            " 2   title         7787 non-null   object\n",
            " 3   director      5398 non-null   object\n",
            " 4   cast          7069 non-null   object\n",
            " 5   country       7280 non-null   object\n",
            " 6   date_added    7777 non-null   object\n",
            " 7   release_year  7787 non-null   int64 \n",
            " 8   rating        7780 non-null   object\n",
            " 9   duration      7787 non-null   object\n",
            " 10  listed_in     7787 non-null   object\n",
            " 11  description   7787 non-null   object\n",
            "dtypes: int64(1), object(11)\n",
            "memory usage: 730.2+ KB\n"
          ]
        }
      ]
    },
    {
      "cell_type": "markdown",
      "source": [
        "#### Duplicate Values"
      ],
      "metadata": {
        "id": "35m5QtbWiB9F"
      }
    },
    {
      "cell_type": "code",
      "source": [
        "# Dataset Duplicate Value Count\n",
        "df[df.duplicated()].sum()"
      ],
      "metadata": {
        "id": "1sLdpKYkmox0",
        "colab": {
          "base_uri": "https://localhost:8080/"
        },
        "outputId": "7e6f2dbe-59ae-424e-f14b-60dfdf3be3b3"
      },
      "execution_count": 8,
      "outputs": [
        {
          "output_type": "execute_result",
          "data": {
            "text/plain": [
              "show_id         0.0\n",
              "type            0.0\n",
              "title           0.0\n",
              "director        0.0\n",
              "cast            0.0\n",
              "country         0.0\n",
              "date_added      0.0\n",
              "release_year    0.0\n",
              "rating          0.0\n",
              "duration        0.0\n",
              "listed_in       0.0\n",
              "description     0.0\n",
              "dtype: float64"
            ]
          },
          "metadata": {},
          "execution_count": 8
        }
      ]
    },
    {
      "cell_type": "markdown",
      "source": [
        "#### Missing Values/Null Values"
      ],
      "metadata": {
        "id": "PoPl-ycgm1ru"
      }
    },
    {
      "cell_type": "code",
      "source": [
        "# Missing Values/Null Values Count\n",
        "df.isna().sum()"
      ],
      "metadata": {
        "id": "GgHWkxvamxVg",
        "colab": {
          "base_uri": "https://localhost:8080/"
        },
        "outputId": "0e496f66-5302-42c5-adda-8830b33c28b9"
      },
      "execution_count": 9,
      "outputs": [
        {
          "output_type": "execute_result",
          "data": {
            "text/plain": [
              "show_id            0\n",
              "type               0\n",
              "title              0\n",
              "director        2389\n",
              "cast             718\n",
              "country          507\n",
              "date_added        10\n",
              "release_year       0\n",
              "rating             7\n",
              "duration           0\n",
              "listed_in          0\n",
              "description        0\n",
              "dtype: int64"
            ]
          },
          "metadata": {},
          "execution_count": 9
        }
      ]
    },
    {
      "cell_type": "code",
      "source": [
        "# Visualizing the missing values\n",
        "plt.figure(figsize=(15,6))\n",
        "sns.heatmap(df.isna(), yticklabels = False)\n",
        "plt.xlabel('Column Name')\n",
        "plt.title('Null values', fontweight = 'bold', size =17)\n",
        "plt.show()"
      ],
      "metadata": {
        "id": "3q5wnI3om9sJ",
        "colab": {
          "base_uri": "https://localhost:8080/",
          "height": 462
        },
        "outputId": "1dc05c48-07ca-4fd8-d9eb-3a0997afc36f"
      },
      "execution_count": 10,
      "outputs": [
        {
          "output_type": "display_data",
          "data": {
            "text/plain": [
              "<Figure size 1080x432 with 2 Axes>"
            ],
            "image/png": "[encoded data removed]"
          },
          "metadata": {
            "needs_background": "light"
          }
        }
      ]
    },
    {
      "cell_type": "markdown",
      "source": [
        "### What did you know about your dataset?"
      ],
      "metadata": {
        "id": "H0kj-8xxnORC"
      }
    },
    {
      "cell_type": "markdown",
      "source": [
        "* There are total 7787 rows and 12 columns in this dataset. \n",
        "* All columns are of object data type except the release_year which is of int type.\n",
        "* There are no duplicate value in this data set but there are many null values present in this dataset \n",
        "* Columns with null values are director, cast, country, date_added and rating"
      ],
      "metadata": {
        "id": "gfoNAAC-nUe_"
      }
    },
    {
      "cell_type": "markdown",
      "source": [
        "## ***2. Understanding Your Variables***"
      ],
      "metadata": {
        "id": "nA9Y7ga8ng1Z"
      }
    },
    {
      "cell_type": "code",
      "source": [
        "# Dataset Columns\n",
        "df.columns"
      ],
      "metadata": {
        "id": "j7xfkqrt5Ag5",
        "colab": {
          "base_uri": "https://localhost:8080/"
        },
        "outputId": "fc7722ae-de8b-4e1a-9ab7-9a4d0a6537df"
      },
      "execution_count": 11,
      "outputs": [
        {
          "output_type": "execute_result",
          "data": {
            "text/plain": [
              "Index(['show_id', 'type', 'title', 'director', 'cast', 'country', 'date_added',\n",
              "       'release_year', 'rating', 'duration', 'listed_in', 'description'],\n",
              "      dtype='object')"
            ]
          },
          "metadata": {},
          "execution_count": 11
        }
      ]
    },
    {
      "cell_type": "code",
      "source": [
        "# Dataset Describe\n",
        "df.describe()"
      ],
      "metadata": {
        "id": "DnOaZdaE5Q5t",
        "colab": {
          "base_uri": "https://localhost:8080/",
          "height": 300
        },
        "outputId": "5003bcb7-baed-471e-d96d-cc5eab493d8b"
      },
      "execution_count": 12,
      "outputs": [
        {
          "output_type": "execute_result",
          "data": {
            "text/plain": [
              "       release_year\n",
              "count   7787.000000\n",
              "mean    2013.932580\n",
              "std        8.757395\n",
              "min     1925.000000\n",
              "25%     2013.000000\n",
              "50%     2017.000000\n",
              "75%     2018.000000\n",
              "max     2021.000000"
            ],
            "text/html": [
              "\n",
              "  <div id=\"df-25964215-5df4-48c3-bd27-2178b7d7afb8\">\n",
              "    <div class=\"colab-df-container\">\n",
              "      <div>\n",
              "<style scoped>\n",
              "    .dataframe tbody tr th:only-of-type {\n",
              "        vertical-align: middle;\n",
              "    }\n",
              "\n",
              "    .dataframe tbody tr th {\n",
              "        vertical-align: top;\n",
              "    }\n",
              "\n",
              "    .dataframe thead th {\n",
              "        text-align: right;\n",
              "    }\n",
              "</style>\n",
              "<table border=\"1\" class=\"dataframe\">\n",
              "  <thead>\n",
              "    <tr style=\"text-align: right;\">\n",
              "      <th></th>\n",
              "      <th>release_year</th>\n",
              "    </tr>\n",
              "  </thead>\n",
              "  <tbody>\n",
              "    <tr>\n",
              "      <th>count</th>\n",
              "      <td>7787.000000</td>\n",
              "    </tr>\n",
              "    <tr>\n",
              "      <th>mean</th>\n",
              "      <td>2013.932580</td>\n",
              "    </tr>\n",
              "    <tr>\n",
              "      <th>std</th>\n",
              "      <td>8.757395</td>\n",
              "    </tr>\n",
              "    <tr>\n",
              "      <th>min</th>\n",
              "      <td>1925.000000</td>\n",
              "    </tr>\n",
              "    <tr>\n",
              "      <th>25%</th>\n",
              "      <td>2013.000000</td>\n",
              "    </tr>\n",
              "    <tr>\n",
              "      <th>50%</th>\n",
              "      <td>2017.000000</td>\n",
              "    </tr>\n",
              "    <tr>\n",
              "      <th>75%</th>\n",
              "      <td>2018.000000</td>\n",
              "    </tr>\n",
              "    <tr>\n",
              "      <th>max</th>\n",
              "      <td>2021.000000</td>\n",
              "    </tr>\n",
              "  </tbody>\n",
              "</table>\n",
              "</div>\n",
              "      <button class=\"colab-df-convert\" onclick=\"convertToInteractive('df-25964215-5df4-48c3-bd27-2178b7d7afb8')\"\n",
              "              title=\"Convert this dataframe to an interactive table.\"\n",
              "              style=\"display:none;\">\n",
              "        \n",
              "  <svg xmlns=\"http://www.w3.org/2000/svg\" height=\"24px\"viewBox=\"0 0 24 24\"\n",
              "       width=\"24px\">\n",
              "    <path d=\"M0 0h24v24H0V0z\" fill=\"none\"/>\n",
              "    <path d=\"M18.56 5.44l.94 2.06.94-2.06 2.06-.94-2.06-.94-.94-2.06-.94 2.06-2.06.94zm-11 1L8.5 8.5l.94-2.06 2.06-.94-2.06-.94L8.5 2.5l-.94 2.06-2.06.94zm10 10l.94 2.06.94-2.06 2.06-.94-2.06-.94-.94-2.06-.94 2.06-2.06.94z\"/><path d=\"M17.41 7.96l-1.37-1.37c-.4-.4-.92-.59-1.43-.59-.52 0-1.04.2-1.43.59L10.3 9.45l-7.72 7.72c-.78.78-.78 2.05 0 2.83L4 21.41c.39.39.9.59 1.41.59.51 0 1.02-.2 1.41-.59l7.78-7.78 2.81-2.81c.8-.78.8-2.07 0-2.86zM5.41 20L4 18.59l7.72-7.72 1.47 1.35L5.41 20z\"/>\n",
              "  </svg>\n",
              "      </button>\n",
              "      \n",
              "  <style>\n",
              "    .colab-df-container {\n",
              "      display:flex;\n",
              "      flex-wrap:wrap;\n",
              "      gap: 12px;\n",
              "    }\n",
              "\n",
              "    .colab-df-convert {\n",
              "      background-color: #E8F0FE;\n",
              "      border: none;\n",
              "      border-radius: 50%;\n",
              "      cursor: pointer;\n",
              "      display: none;\n",
              "      fill: #1967D2;\n",
              "      height: 32px;\n",
              "      padding: 0 0 0 0;\n",
              "      width: 32px;\n",
              "    }\n",
              "\n",
              "    .colab-df-convert:hover {\n",
              "      background-color: #E2EBFA;\n",
              "      box-shadow: 0px 1px 2px rgba(60, 64, 67, 0.3), 0px 1px 3px 1px rgba(60, 64, 67, 0.15);\n",
              "      fill: #174EA6;\n",
              "    }\n",
              "\n",
              "    [theme=dark] .colab-df-convert {\n",
              "      background-color: #3B4455;\n",
              "      fill: #D2E3FC;\n",
              "    }\n",
              "\n",
              "    [theme=dark] .colab-df-convert:hover {\n",
              "      background-color: #434B5C;\n",
              "      box-shadow: 0px 1px 3px 1px rgba(0, 0, 0, 0.15);\n",
              "      filter: drop-shadow(0px 1px 2px rgba(0, 0, 0, 0.3));\n",
              "      fill: #FFFFFF;\n",
              "    }\n",
              "  </style>\n",
              "\n",
              "      <script>\n",
              "        const buttonEl =\n",
              "          document.querySelector('#df-25964215-5df4-48c3-bd27-2178b7d7afb8 button.colab-df-convert');\n",
              "        buttonEl.style.display =\n",
              "          google.colab.kernel.accessAllowed ? 'block' : 'none';\n",
              "\n",
              "        async function convertToInteractive(key) {\n",
              "          const element = document.querySelector('#df-25964215-5df4-48c3-bd27-2178b7d7afb8');\n",
              "          const dataTable =\n",
              "            await google.colab.kernel.invokeFunction('convertToInteractive',\n",
              "                                                     [key], {});\n",
              "          if (!dataTable) return;\n",
              "\n",
              "          const docLinkHtml = 'Like what you see? Visit the ' +\n",
              "            '<a target=\"_blank\" href=https://colab.research.google.com/notebooks/data_table.ipynb>data table notebook</a>'\n",
              "            + ' to learn more about interactive tables.';\n",
              "          element.innerHTML = '';\n",
              "          dataTable['output_type'] = 'display_data';\n",
              "          await google.colab.output.renderOutput(dataTable, element);\n",
              "          const docLink = document.createElement('div');\n",
              "          docLink.innerHTML = docLinkHtml;\n",
              "          element.appendChild(docLink);\n",
              "        }\n",
              "      </script>\n",
              "    </div>\n",
              "  </div>\n",
              "  "
            ]
          },
          "metadata": {},
          "execution_count": 12
        }
      ]
    },
    {
      "cell_type": "markdown",
      "source": [
        "### Variables Description "
      ],
      "metadata": {
        "id": "PBTbrJXOngz2"
      }
    },
    {
      "cell_type": "markdown",
      "source": [
        "There is only one int type column in this dataset which is realease_year with total count : 7787, min : 1925, max : 2021, 50% : 2017, mean : 2013.9"
      ],
      "metadata": {
        "id": "aJV4KIxSnxay"
      }
    },
    {
      "cell_type": "markdown",
      "source": [
        "### Check Unique Values for each variable."
      ],
      "metadata": {
        "id": "u3PMJOP6ngxN"
      }
    },
    {
      "cell_type": "code",
      "source": [
        "# Check Unique Values for each variable.\n",
        "df['show_id'].unique()"
      ],
      "metadata": {
        "id": "zms12Yq5n-jE",
        "colab": {
          "base_uri": "https://localhost:8080/"
        },
        "outputId": "619abca4-9458-44f0-ecd5-832a7fb526a8"
      },
      "execution_count": 13,
      "outputs": [
        {
          "output_type": "execute_result",
          "data": {
            "text/plain": [
              "array(['s1', 's2', 's3', ..., 's7785', 's7786', 's7787'], dtype=object)"
            ]
          },
          "metadata": {},
          "execution_count": 13
        }
      ]
    },
    {
      "cell_type": "code",
      "source": [
        "df['type'].unique()"
      ],
      "metadata": {
        "id": "TYplQiL1N1JS",
        "colab": {
          "base_uri": "https://localhost:8080/"
        },
        "outputId": "a66cb01a-319d-4ded-95d8-1be8d21b5b57"
      },
      "execution_count": 14,
      "outputs": [
        {
          "output_type": "execute_result",
          "data": {
            "text/plain": [
              "array(['TV Show', 'Movie'], dtype=object)"
            ]
          },
          "metadata": {},
          "execution_count": 14
        }
      ]
    },
    {
      "cell_type": "code",
      "source": [
        "df['title'].unique()"
      ],
      "metadata": {
        "id": "OssQnRlpOiBo",
        "colab": {
          "base_uri": "https://localhost:8080/"
        },
        "outputId": "6b4ec0df-1cf1-4833-e57f-00b133f170f1"
      },
      "execution_count": 15,
      "outputs": [
        {
          "output_type": "execute_result",
          "data": {
            "text/plain": [
              "array(['3%', '7:19', '23:59', ..., 'Zulu Man in Japan',\n",
              "       \"Zumbo's Just Desserts\", \"ZZ TOP: THAT LITTLE OL' BAND FROM TEXAS\"],\n",
              "      dtype=object)"
            ]
          },
          "metadata": {},
          "execution_count": 15
        }
      ]
    },
    {
      "cell_type": "code",
      "source": [
        "df['director'].unique()"
      ],
      "metadata": {
        "id": "2lHapJaZOiJ6",
        "colab": {
          "base_uri": "https://localhost:8080/"
        },
        "outputId": "3e7e9a33-43e5-4f94-df39-99c1ca931ef3"
      },
      "execution_count": 16,
      "outputs": [
        {
          "output_type": "execute_result",
          "data": {
            "text/plain": [
              "array([nan, 'Jorge Michel Grau', 'Gilbert Chan', ..., 'Josef Fares',\n",
              "       'Mozez Singh', 'Sam Dunn'], dtype=object)"
            ]
          },
          "metadata": {},
          "execution_count": 16
        }
      ]
    },
    {
      "cell_type": "code",
      "source": [
        "df['cast'].unique()"
      ],
      "metadata": {
        "id": "aQZHAf8wOiNc",
        "colab": {
          "base_uri": "https://localhost:8080/"
        },
        "outputId": "fd7ab37a-3a67-47c7-e694-500e0038b25a"
      },
      "execution_count": 17,
      "outputs": [
        {
          "output_type": "execute_result",
          "data": {
            "text/plain": [
              "array(['João Miguel, Bianca Comparato, Michel Gomes, Rodolfo Valente, Vaneza Oliveira, Rafael Lozano, Viviane Porto, Mel Fronckowiak, Sergio Mamberti, Zezé Motta, Celso Frateschi',\n",
              "       'Demián Bichir, Héctor Bonilla, Oscar Serrano, Azalia Ortiz, Octavio Michel, Carmen Beato',\n",
              "       'Tedd Chan, Stella Chung, Henley Hii, Lawrence Koh, Tommy Kuan, Josh Lai, Mark Lee, Susan Leong, Benjamin Lim',\n",
              "       ...,\n",
              "       'Vicky Kaushal, Sarah-Jane Dias, Raaghav Chanana, Manish Chaudhary, Meghna Malik, Malkeet Rauni, Anita Shabdish, Chittaranjan Tripathy',\n",
              "       'Nasty C', 'Adriano Zumbo, Rachel Khoo'], dtype=object)"
            ]
          },
          "metadata": {},
          "execution_count": 17
        }
      ]
    },
    {
      "cell_type": "code",
      "source": [
        "df['country'].unique()"
      ],
      "metadata": {
        "id": "aONo1mUDOiRH",
        "colab": {
          "base_uri": "https://localhost:8080/"
        },
        "outputId": "b0536f77-bdc6-4dcf-891c-b7fae8cfb6b2"
      },
      "execution_count": 18,
      "outputs": [
        {
          "output_type": "execute_result",
          "data": {
            "text/plain": [
              "array(['Brazil', 'Mexico', 'Singapore', 'United States', 'Turkey',\n",
              "       'Egypt', 'India', 'Poland, United States', 'Thailand', 'Nigeria',\n",
              "       nan, 'Norway, Iceland, United States', 'United Kingdom', 'Japan',\n",
              "       'South Korea', 'Italy', 'Canada', 'Indonesia', 'Romania', 'Spain',\n",
              "       'Iceland', 'South Africa, Nigeria', 'France',\n",
              "       'United States, South Africa', 'Portugal, Spain',\n",
              "       'Hong Kong, China, Singapore', 'United States, Germany',\n",
              "       'South Africa, China, United States', 'Argentina',\n",
              "       'United States, France, Serbia', 'Germany',\n",
              "       'Denmark, France, Poland', 'Poland', 'Kenya',\n",
              "       'New Zealand, United Kingdom', 'Pakistan', 'Australia',\n",
              "       'Australia, United States', 'Mexico, United States',\n",
              "       'United States, China', 'China, Hong Kong', 'Taiwan',\n",
              "       'United States, United Kingdom', 'France, South Korea, Japan',\n",
              "       'United States, Canada', 'United Kingdom, United States',\n",
              "       'Netherlands, Denmark, South Africa', 'Canada, United States',\n",
              "       'Denmark', 'Hong Kong', 'France, Netherlands, Singapore', 'China',\n",
              "       'Philippines', 'United Kingdom, Spain, United States',\n",
              "       'United Arab Emirates, United States', 'Netherlands',\n",
              "       'United Kingdom, Hong Kong', 'Iran, France',\n",
              "       'United States, United Kingdom, France',\n",
              "       'United Kingdom, France, Belgium, United States, China',\n",
              "       'Argentina, Brazil, France, Poland, Germany, Denmark',\n",
              "       'Israel, United States', 'United States, Mexico',\n",
              "       'Uruguay, Argentina, Spain', 'Singapore, France',\n",
              "       'United Kingdom, United States, France, Germany',\n",
              "       'Turkey, United States', 'Bulgaria, United States',\n",
              "       'Australia, France', 'Hong Kong, Iceland, United States',\n",
              "       'United Arab Emirates', 'United States, Chile',\n",
              "       'Germany, France, Russia', 'Mauritius, South Africa',\n",
              "       'United States, Japan', 'Lebanon', 'United States, Bulgaria',\n",
              "       'Colombia', 'Uruguay, Argentina', 'Egypt, Algeria',\n",
              "       'France, Egypt', 'Uruguay', 'Soviet Union, India',\n",
              "       'Sweden, United States', 'South Africa', 'Malaysia',\n",
              "       'Ireland, United Kingdom, United States', 'Spain, Italy',\n",
              "       'United Kingdom, France, Germany',\n",
              "       'United States, Germany, Canada', 'United States, India',\n",
              "       'Japan, United States', 'Denmark, United States',\n",
              "       'South Africa, United States', 'Canada, Luxembourg',\n",
              "       'Serbia, United States', 'Canada, Nigeria',\n",
              "       'Iceland, Sweden, Belgium', 'Ireland, Canada',\n",
              "       'United States, Italy', 'Finland', 'India, Germany',\n",
              "       'China, Spain, South Korea, United States', 'Spain, Belgium',\n",
              "       'United Kingdom, Canada, United States, Germany',\n",
              "       'Brazil, Netherlands, United States, Colombia, Austria, Germany',\n",
              "       'France, Canada, Belgium',\n",
              "       'India, United Kingdom, China, Canada, Japan, South Korea, United States',\n",
              "       'France, Belgium', 'Indonesia, South Korea, Singapore', 'Norway',\n",
              "       'Peru', 'France, Senegal, Belgium', 'Canada, France', 'Chile',\n",
              "       'Romania, France, Switzerland, Germany',\n",
              "       'Bulgaria, United States, Spain, Canada', 'Sweden, Netherlands',\n",
              "       'Ghana', 'France, United States, Mexico',\n",
              "       'Australia, United Kingdom, United Arab Emirates, Canada',\n",
              "       'Singapore, United States', 'Japan, Canada, United States',\n",
              "       'Saudi Arabia',\n",
              "       'Australia, Armenia, Japan, Jordan, Mexico, Mongolia, New Zealand, Philippines, South Africa, Sweden, United States, Uruguay',\n",
              "       'United States, France', 'Norway, Denmark, Netherlands, Sweden',\n",
              "       'Namibia', 'Mexico, Finland', 'United States, Australia', 'Russia',\n",
              "       'Australia, Canada', 'United Kingdom, Ireland', 'Belgium, France',\n",
              "       'New Zealand', 'Uruguay, Spain, Mexico', 'South Korea, China',\n",
              "       'United States, Canada, Indonesia, United Kingdom, China, Singapore',\n",
              "       'India, Iran', 'United States, France, Japan',\n",
              "       'United Kingdom, France', 'Turkey, India', 'Philippines, Qatar',\n",
              "       'Vietnam', 'Ireland, Luxembourg, Belgium',\n",
              "       'Saudi Arabia, Syria, Egypt, Lebanon, Kuwait',\n",
              "       'Russia, United States', 'United Kingdom, Russia, United States',\n",
              "       'Argentina, Spain', 'Germany, Jordan, Netherlands',\n",
              "       'Hong Kong, China', 'Argentina, United States',\n",
              "       'France, Belgium, Spain', 'Germany, United States',\n",
              "       'Denmark, Sweden, Israel, United States',\n",
              "       'Ireland, United Kingdom', 'United States, Iceland',\n",
              "       'United Arab Emirates, United Kingdom, India', 'Sweden',\n",
              "       'Norway, Germany, Sweden', 'Finland, France', 'Denmark, Spain',\n",
              "       'United Kingdom, Russia',\n",
              "       'United States, United Kingdom, Australia',\n",
              "       'India, United Kingdom', 'United States, Canada, Ireland',\n",
              "       'Canada, United Kingdom',\n",
              "       'United States, Israel, Italy, South Africa',\n",
              "       'India, United States', 'United Kingdom, China',\n",
              "       'Indonesia, Singapore', 'Netherlands, Denmark, France, Germany',\n",
              "       'South Korea, Japan',\n",
              "       'Philippines, Canada, United Kingdom, United States',\n",
              "       'France, Malta, United States', 'Kuwait',\n",
              "       'United Kingdom, Pakistan', 'Ireland', 'France, New Zealand',\n",
              "       'United Kingdom, United States, Australia',\n",
              "       'United Kingdom, Czech Republic, United States, Germany, Bahamas',\n",
              "       'United States, Australia, China',\n",
              "       'China, Germany, India, United States', 'Germany, Sri Lanka',\n",
              "       'United States, Sweden', 'Canada, United States, Cayman Islands',\n",
              "       'India, France', 'United Kingdom, Canada',\n",
              "       'United States, India, Bangladesh',\n",
              "       'United States, Canada, France',\n",
              "       'Taiwan, China, France, United States', 'Brazil, France, Germany',\n",
              "       'United States,', 'Turkey, France, Germany, Poland',\n",
              "       'Australia, New Zealand, United States',\n",
              "       'Germany, United States, Hong Kong, Singapore',\n",
              "       'France, Germany, Switzerland', 'Mexico, Argentina',\n",
              "       'Italy, United States, Argentina',\n",
              "       'Germany, France, Luxembourg, United Kingdom, United States',\n",
              "       'Canada, United States, United Kingdom',\n",
              "       'United Kingdom, Canada, Italy', 'Czech Republic, France',\n",
              "       'Zimbabwe', 'United Kingdom, France, Germany, Spain',\n",
              "       'Taiwan, Hong Kong, United States, China', 'China, United States',\n",
              "       'Canada, Brazil', 'United Kingdom, Australia', 'Hungary',\n",
              "       'Germany, Australia', 'United Kingdom, Poland, United States',\n",
              "       'Bulgaria', 'Philippines, United States', 'Finland, Germany',\n",
              "       'United States, Thailand',\n",
              "       'Spain, Belgium, Switzerland, United States, China, United Kingdom',\n",
              "       'Denmark, Zimbabwe', 'United Kingdom, South Africa',\n",
              "       'Finland, Sweden, Norway, Latvia, Germany',\n",
              "       'United Kingdom, India',\n",
              "       'South Africa, United States, New Zealand, Canada',\n",
              "       'France, Qatar', 'France, Algeria',\n",
              "       'United States, Italy, United Kingdom, Liechtenstein',\n",
              "       'Denmark, France, Belgium, Italy, Netherlands, United States, United Kingdom',\n",
              "       'United States, Australia, Mexico',\n",
              "       'United Kingdom, Czech Republic, Germany, United States',\n",
              "       'Russia, Poland, Serbia', 'France, China, Japan, United States',\n",
              "       'United States, South Korea, China', 'Germany, Belgium',\n",
              "       'Chile, Argentina', 'China, United States, United Kingdom',\n",
              "       'Pakistan, Norway, United States',\n",
              "       'United Kingdom, Japan, United States', 'Philippines, Singapore',\n",
              "       'United States, Canada, Belgium, United Kingdom', 'Venezuela',\n",
              "       'Argentina, Uruguay, Serbia', 'United States, Mexico, Colombia',\n",
              "       'Colombia, Peru, United Kingdom', 'Brazil, United States',\n",
              "       'Czech Republic, United States',\n",
              "       'Canada, France, Italy, Morocco, United States',\n",
              "       'Canada, Spain, France', 'Hong Kong, United States',\n",
              "       'France, Canada, China, Cambodia', 'United States, Indonesia',\n",
              "       'Spain, France', 'Spain, Mexico, France', 'Spain, France, Italy',\n",
              "       'Spain, France, United States', 'United States, France, Canada',\n",
              "       'Israel', 'Italy, France', 'United Kingdom, Canada, United States',\n",
              "       'Cambodia, United States', 'China, Japan',\n",
              "       'United Arab Emirates, United States, United Kingdom',\n",
              "       'Argentina, Italy', 'United Kingdom, Israel, Russia',\n",
              "       'Italy, Switzerland, Albania, Poland', 'Spain, Cuba',\n",
              "       'United States, Brazil', 'United States, France, Mexico',\n",
              "       'United States, Nicaragua', 'Austria, Germany',\n",
              "       'United Arab Emirates, Jordan, Lebanon',\n",
              "       'France, United Kingdom, United States',\n",
              "       'United Kingdom, United States, Spain, Germany, Greece, Canada',\n",
              "       'France, Belgium, Luxembourg, Cambodia,', 'Italy, Turkey',\n",
              "       'Brazil, France', 'India, Turkey', 'Kenya, United States',\n",
              "       'United States, South Korea', 'South Korea, United States',\n",
              "       'Italy, Canada, France', 'Thailand, United States',\n",
              "       'United Kingdom, Denmark, Canada, Croatia', 'Netherlands, Belgium',\n",
              "       'United Kingdom, Canada, United States, Cayman Islands',\n",
              "       'Italy, Germany', 'United States, France, United Kingdom, Japan',\n",
              "       'United States, United Kingdom, Denmark, Sweden',\n",
              "       'United States, United Kingdom, Italy',\n",
              "       'United States, France, Canada, Spain', 'Uruguay, Guatemala',\n",
              "       'Germany, Australia, France, China',\n",
              "       'United States, United Kingdom, Japan',\n",
              "       'United States, United Kingdom, Canada',\n",
              "       'Italy, Switzerland, France, Germany',\n",
              "       'Russia, United States, China', 'United States, Canada, Germany',\n",
              "       'United States, Czech Republic', 'Ireland, United States',\n",
              "       'United States, United Arab Emirates',\n",
              "       'France, Australia, Germany', 'Hong Kong, China, United States',\n",
              "       'Lebanon, United Arab Emirates, France, Switzerland, Germany',\n",
              "       'United States, South Korea, Japan', 'Romania, United States',\n",
              "       'West Germany', 'United States, Ireland', 'Chile, Italy',\n",
              "       'Ireland, United Kingdom, Italy, United States', 'Belgium',\n",
              "       'Poland,', 'Slovenia, Croatia, Germany, Czech Republic, Qatar',\n",
              "       'Canada, United Kingdom, Netherlands',\n",
              "       'United Kingdom, United States, France',\n",
              "       'Indonesia, United Kingdom', 'United States, Spain, Germany',\n",
              "       'India, Japan', 'Switzerland, France, Belgium, United States',\n",
              "       'China, South Korea, United States',\n",
              "       'United Kingdom, France, Belgium',\n",
              "       'Canada, Ireland, United States',\n",
              "       'United Kingdom, United States, Dominican Republic',\n",
              "       'United States, Senegal', 'Germany, United Kingdom, United States',\n",
              "       'United States, Canada, United Kingdom',\n",
              "       'Canada, United States, France', 'United Kingdom, Germany, Canada',\n",
              "       'Argentina, France', 'South Africa, Germany, Netherlands, France',\n",
              "       'Canada, United States, United Kingdom, France, Luxembourg',\n",
              "       'Finland, Germany, Belgium',\n",
              "       'United States, United Kingdom, Germany', 'Taiwan, China',\n",
              "       'Cambodia', 'Spain, Portugal', 'Ireland, United States, France',\n",
              "       'Jordan', 'Austria', 'Germany, United States, Canada',\n",
              "       'United Kingdom, Germany, Canada, United States',\n",
              "       'United States, France, Canada, Lebanon, Qatar',\n",
              "       'Indonesia, Netherlands',\n",
              "       'Netherlands, Belgium, United Kingdom, United States',\n",
              "       'China, United States, Australia',\n",
              "       'France, Belgium, China, United States', 'Spain, United Kingdom',\n",
              "       'United States, Chile, Israel', 'Bangladesh',\n",
              "       'United Kingdom, Norway, Denmark, Germany, Sweden',\n",
              "       'United States, Japan, Canada', 'Norway, Denmark, Sweden',\n",
              "       'China, India, Nepal', 'United States, Argentina',\n",
              "       'Mexico, United States, Spain, Colombia',\n",
              "       'Colombia, Mexico, United States',\n",
              "       'United Kingdom, Belgium, Sweden', 'Nigeria, United Kingdom',\n",
              "       'United Kingdom, South Korea', 'United States, Taiwan',\n",
              "       'Netherlands, Belgium, Germany, Jordan', 'France, Canada',\n",
              "       'United Kingdom, France, United States',\n",
              "       'Denmark, Singapore, Canada, United States', 'Denmark, China',\n",
              "       'Malaysia, Singapore, Hong Kong', 'Norway, United States',\n",
              "       'United States, Philippines', 'United States, Greece, Brazil',\n",
              "       'France, United States', 'South Korea, France',\n",
              "       'United States, Australia, Samoa, United Kingdom',\n",
              "       'Canada, South Africa', 'United Kingdom, Italy',\n",
              "       'Germany, United Kingdom', 'China, United Kingdom',\n",
              "       'Argentina, Chile, Peru', 'United States, Russia',\n",
              "       'Uruguay, Germany', 'Turkey, Azerbaijan',\n",
              "       'United States, China, Hong Kong',\n",
              "       'Canada, Germany, France, United States',\n",
              "       'Argentina, United States, Mexico',\n",
              "       'France, United Kingdom, India', 'China, Taiwan',\n",
              "       'Italy, United Kingdom, France', 'Poland, West Germany',\n",
              "       'Germany, United States, Sweden', 'Canada, Spain',\n",
              "       'United Kingdom, France, Belgium, United States', 'France, Japan',\n",
              "       'Netherlands, Germany, Italy, Canada', 'United States, Cambodia',\n",
              "       'United States, Greece', 'United States, China, Colombia',\n",
              "       'United States, Spain, Italy',\n",
              "       'Norway, United Kingdom, France, Ireland',\n",
              "       'United States, Bermuda, Ecuador', 'United Kingdom, Poland',\n",
              "       'China, Canada, United States', 'United States, Spain',\n",
              "       'India, Mexico', 'United Kingdom, West Germany',\n",
              "       'Pakistan, United States', 'Israel, Sweden, Germany, Netherlands',\n",
              "       'Chile, United States, France', 'France, Morocco',\n",
              "       'United Kingdom, Germany', 'Georgia, Germany, France',\n",
              "       'Switzerland, France', 'Turkey, South Korea', 'Italy, India',\n",
              "       'United States, Botswana', 'United States, Colombia, Mexico',\n",
              "       'Chile, Argentina, France, Spain, United States',\n",
              "       'Puerto Rico, United States, Colombia', 'United States, Nigeria',\n",
              "       'Germany, United States, France',\n",
              "       'Spain, Germany, Denmark, United States',\n",
              "       'United Kingdom, United States, Japan',\n",
              "       'Netherlands, United States',\n",
              "       'United States, India, South Korea, China',\n",
              "       'Denmark, Germany, Belgium, United Kingdom, France',\n",
              "       'Denmark, Germany, Belgium, United Kingdom, France, Sweden',\n",
              "       'France, Switzerland, Spain, United States, United Arab Emirates',\n",
              "       'Norway, Sweden', 'United States, Ireland, United Kingdom, India',\n",
              "       'United Kingdom, Singapore', 'Spain, Germany',\n",
              "       'Germany, Czech Republic',\n",
              "       'Denmark, Brazil, France, Portugal, Sweden',\n",
              "       'Brazil, India, China, United States', 'India, Germany, Austria',\n",
              "       'Italy, United States', 'Denmark, France, United States, Sweden',\n",
              "       'Australia, Iraq', 'China, Morocco, Hong Kong', 'Spain, Colombia',\n",
              "       'Australia, United Arab Emirates',\n",
              "       'Canada, United States, Germany', 'France, Belgium, Italy',\n",
              "       'United Kingdom, Thailand', 'Venezuela, Colombia',\n",
              "       'France, Luxembourg, Canada', 'India, Nepal', 'Mexico, Spain',\n",
              "       'Colombia, United States', 'Colombia, Mexico',\n",
              "       'France, Germany, Czech Republic, Belgium',\n",
              "       'Germany, China, United Kingdom', 'Canada, Hungary, United States',\n",
              "       'Pakistan, United Arab Emirates', 'France, United Kingdom',\n",
              "       'Spain, United Kingdom, United States', 'United Kingdom, Kenya',\n",
              "       'United States, Norway, Canada', 'Canada, United States, Ireland',\n",
              "       'Switzerland, Vatican City, Italy, Germany, France',\n",
              "       'Portugal, France, Poland, United States',\n",
              "       'France, Japan, United States', 'United States, New Zealand',\n",
              "       'United States, New Zealand, Japan',\n",
              "       'United States, Netherlands, Japan, France', 'India, Switzerland',\n",
              "       'Canada, India', 'Canada, Japan, United States',\n",
              "       'United States, Morocco', 'United States, Mexico, Spain, Malta',\n",
              "       'Norway, Denmark', 'South Korea, Canada, United States, China',\n",
              "       'Singapore, Japan, France',\n",
              "       'Canada, Mexico, Germany, South Africa',\n",
              "       'United Kingdom, United States, Canada',\n",
              "       'Germany, France, United States, Canada, United Kingdom',\n",
              "       'Peru, Germany, Norway', 'Singapore, Malaysia',\n",
              "       'United States, Uruguay', 'India, Canada',\n",
              "       'Ireland, Canada, United Kingdom, United States',\n",
              "       'United States, Germany, Australia', 'Senegal',\n",
              "       'Israel, Germany, France', 'Australia, France, Ireland',\n",
              "       'South Africa, Angola', 'Austria, Czech Republic',\n",
              "       'Australia, India', 'United States, United Kingdom, Canada, Japan',\n",
              "       'Sweden, United Kingdom, Finland', 'Hong Kong, Taiwan',\n",
              "       'United States, United Kingdom, Spain, South Korea',\n",
              "       'South Korea, China, United States', 'Guatemala', 'Ukraine',\n",
              "       'United States, United Kingdom, Canada, China',\n",
              "       'Italy, South Africa, West Germany, Australia, United States',\n",
              "       'United Kingdom, Finland, Germany',\n",
              "       'South Africa, United States, Germany',\n",
              "       'United States, Germany, United Kingdom, Australia',\n",
              "       'India, Soviet Union', 'Italy, France, Switzerland',\n",
              "       'Canada, France, United States', 'United States, Colombia',\n",
              "       'India, Malaysia', 'Switzerland, United States',\n",
              "       'Thailand, Canada, United States',\n",
              "       'China, Hong Kong, United States', 'United Kingdom, New Zealand',\n",
              "       'United Kingdom, France, Germany, United States',\n",
              "       'South Korea, Czech Republic',\n",
              "       'Czech Republic, United Kingdom, France',\n",
              "       'Australia, United Kingdom, Canada',\n",
              "       'Canada, United Kingdom, United States', 'United States, Hungary',\n",
              "       'Jamaica, United States', 'Switzerland',\n",
              "       'Australia, United Kingdom, United States, New Zealand, Italy, France',\n",
              "       'France, United States, Canada', 'Australia, United Kingdom',\n",
              "       'United States, Denmark',\n",
              "       'United Kingdom, France, Canada, Belgium, United States',\n",
              "       'Denmark, United Kingdom, Sweden', 'Belarus', 'Cyprus',\n",
              "       'Lebanon, United States, United Arab Emirates',\n",
              "       'United States, Hong Kong', 'United States, Kazakhstan',\n",
              "       'Argentina, France, United States, Germany, Qatar',\n",
              "       'United States, Germany, United Kingdom',\n",
              "       'United States, Germany, United Kingdom, Italy',\n",
              "       'United States, New Zealand, United Kingdom',\n",
              "       'Finland, United States', 'Spain, France, Uruguay',\n",
              "       'France, Belgium, United States', 'France, Canada, United States',\n",
              "       'Spain, Argentina', 'United Kingdom, India, United States',\n",
              "       'Chile, France',\n",
              "       'United States, United Kingdom, France, Germany, Japan',\n",
              "       'Canada, Norway', 'United States, Hungary, Ireland, Canada',\n",
              "       'United States, Canada, China', 'United Kingdom, Malawi',\n",
              "       'Ireland, Canada, Luxembourg, United States, United Kingdom, Philippines, India',\n",
              "       'United States, Czech Republic, United Kingdom',\n",
              "       'Ghana, United States', 'Israel, Germany', 'Spain, Mexico',\n",
              "       'Mexico, France', 'Brazil, United Kingdom',\n",
              "       'France, Belgium, Luxembourg, Romania, Canada, United States',\n",
              "       'Israel, Germany, Poland, Luxembourg, Belgium, France, United States',\n",
              "       'France, Germany', 'United States, Malta, France, United Kingdom',\n",
              "       'United Kingdom, United States, Germany, Denmark, Belgium, Japan',\n",
              "       'Austria, United States', 'Canada, Australia',\n",
              "       'Greece, United States',\n",
              "       'United Kingdom, France, Belgium, Canada, United States',\n",
              "       'Argentina, Chile', 'Czech Republic, Slovakia',\n",
              "       'United Kingdom, Germany, United States, France',\n",
              "       'United Kingdom, Lithuania', 'Egypt, France',\n",
              "       'Spain, France, Canada', 'United States, Greece, United Kingdom',\n",
              "       'United Kingdom, China, United States, India', 'Taiwan, Malaysia',\n",
              "       'United States, Sweden, Norway',\n",
              "       'United Kingdom, United States, Morocco',\n",
              "       'United States, United Kingdom, Morocco',\n",
              "       'United States, China, Canada', 'Spain, Canada, United States',\n",
              "       'Canada, Belgium', 'United States, India, United Arab Emirates',\n",
              "       'United Kingdom, Canada, France, United States',\n",
              "       'Spain, Thailand, United States', 'Canada, Germany, South Africa',\n",
              "       'India, Germany, France',\n",
              "       'United States, Israel, United Kingdom, Canada',\n",
              "       'United Kingdom, Hungary, Australia', 'Lebanon, France',\n",
              "       'Belgium, Ireland, Netherlands, Germany, Afghanistan',\n",
              "       'Chile, Peru', 'Paraguay, Argentina',\n",
              "       'United Kingdom, Italy, Israel, Peru, United States',\n",
              "       'Norway, Germany', 'France, Canada, Italy, United States, China',\n",
              "       'Netherlands, Germany, Denmark, United Kingdom', 'France, Lebanon',\n",
              "       'Ireland, United Kingdom, Greece, France, Netherlands',\n",
              "       'Denmark, Indonesia, Finland, Norway, United Kingdom, Israel, France, United States, Germany, Netherlands',\n",
              "       'New Zealand, United States', 'Argentina, Uruguay, Spain, France',\n",
              "       'United Kingdom, Germany, United States',\n",
              "       'United States, Australia, South Africa, United Kingdom',\n",
              "       'Italy, Belgium', 'United States, Germany, Mexico',\n",
              "       'Chile, Spain, Argentina, Germany', 'Germany, Italy',\n",
              "       'United Kingdom, Nigeria',\n",
              "       'Belgium, United Kingdom, United States', 'Australia, New Zealand',\n",
              "       'Spain, Switzerland', 'Indonesia, United States',\n",
              "       'Canada, South Korea, United States',\n",
              "       'France, Iran, United States', 'Croatia',\n",
              "       'Somalia, Kenya, Sudan, South Africa, United States',\n",
              "       'Ireland, France, Iceland, United States, Mexico, Belgium, United Kingdom, Hong Kong',\n",
              "       'Spain, United States', 'United States, Canada, Japan, Panama',\n",
              "       'United Kingdom, Spain, Belgium', 'Serbia, South Korea, Slovenia',\n",
              "       'Denmark, United Kingdom, South Africa, Sweden, Belgium',\n",
              "       'Germany, Canada, United States', 'Ireland, South Africa',\n",
              "       'Canada, Germany', 'Spain, France, Canada, United States',\n",
              "       'India, United Kingdom, Canada, United States',\n",
              "       'United States, Belgium, Canada',\n",
              "       'United States, France, Canada, Belgium',\n",
              "       'United Kingdom, Egypt, United States',\n",
              "       'United Kingdom, Germany, United Arab Emirates, New Zealand',\n",
              "       'United Kingdom, France, United States, Belgium, Luxembourg, China, Germany',\n",
              "       'United Kingdom, Spain, United States, Germany',\n",
              "       'United States, France, Italy, United Kingdom', 'Georgia',\n",
              "       'United States, United Kingdom, India',\n",
              "       'Ireland, Canada, United States, United Kingdom',\n",
              "       'New Zealand, United Kingdom, Australia', 'United States, Poland',\n",
              "       'United Arab Emirates, Romania',\n",
              "       'United Kingdom, Australia, Canada, United States',\n",
              "       'Mexico, Netherlands', 'Spain, Italy, Argentina',\n",
              "       'Germany, United States, Italy', 'United States, Venezuela',\n",
              "       'United Kingdom, Canada, Japan', 'Canada, Japan, Netherlands',\n",
              "       'United Kingdom, United States, Czech Republic',\n",
              "       'United Kingdom, China, United States',\n",
              "       'United Kingdom, Brazil, Germany',\n",
              "       'Thailand, China, United States',\n",
              "       'United Kingdom, Namibia, South Africa, Zimbabwe, United States',\n",
              "       'United Kingdom, South Africa, Australia, United States',\n",
              "       'Canada, United States, India, United Kingdom',\n",
              "       'United States, Brazil, South Korea, Mexico, Japan, Germany',\n",
              "       'France, Lebanon, United Kingdom',\n",
              "       'United Kingdom, Jordan, Qatar, Iran',\n",
              "       'Switzerland, United Kingdom, United States',\n",
              "       'Belgium, Netherlands',\n",
              "       'United Kingdom, Germany, France, United States',\n",
              "       'Romania, United Kingdom', 'Lebanon, Qatar',\n",
              "       'United Kingdom, India, Sweden', 'United Kingdom, Belgium',\n",
              "       'India, Pakistan', 'United Kingdom,',\n",
              "       'Saudi Arabia, Netherlands, Germany, Jordan, United Arab Emirates, United States',\n",
              "       'France, Brazil, Spain, Belgium',\n",
              "       'United States, Brazil, India, Uganda, China',\n",
              "       'United Kingdom, Ireland, United States',\n",
              "       'Lebanon, Canada, France', 'India, Australia',\n",
              "       'Austria, Iraq, United States', 'France, Norway, Lebanon, Belgium',\n",
              "       'United Kingdom, France, United States, Belgium',\n",
              "       'Saudi Arabia, United Arab Emirates',\n",
              "       'Peru, United States, United Kingdom',\n",
              "       'Germany, United States, United Kingdom, Canada',\n",
              "       'Uruguay, Argentina, Germany, Spain',\n",
              "       'France, Luxembourg, United States', 'United Kingdom, Spain',\n",
              "       'Canada, India, Thailand, United States, United Arab Emirates',\n",
              "       'Romania, Bulgaria, Hungary',\n",
              "       'United States, East Germany, West Germany',\n",
              "       'France, Netherlands, South Africa, Finland',\n",
              "       'United Kingdom, Ukraine, United States',\n",
              "       'Egypt, Austria, United States', 'Russia, Spain',\n",
              "       'Croatia, Slovenia, Serbia, Montenegro', 'Japan, Canada',\n",
              "       'United States, France, South Korea, Indonesia',\n",
              "       'United Arab Emirates, Jordan',\n",
              "       'Sweden, Czech Republic, United Kingdom, Denmark, Netherlands'],\n",
              "      dtype=object)"
            ]
          },
          "metadata": {},
          "execution_count": 18
        }
      ]
    },
    {
      "cell_type": "code",
      "source": [
        "df['date_added'].unique()"
      ],
      "metadata": {
        "id": "kd2Vv03XOiUa",
        "colab": {
          "base_uri": "https://localhost:8080/"
        },
        "outputId": "9e5833b8-eec3-4e3b-d997-e8d2b9f8a474"
      },
      "execution_count": 19,
      "outputs": [
        {
          "output_type": "execute_result",
          "data": {
            "text/plain": [
              "array(['August 14, 2020', 'December 23, 2016', 'December 20, 2018', ...,\n",
              "       'December 6, 2018', 'March 9, 2016', 'January 11, 2020'],\n",
              "      dtype=object)"
            ]
          },
          "metadata": {},
          "execution_count": 19
        }
      ]
    },
    {
      "cell_type": "code",
      "source": [
        "df['release_year'].unique()"
      ],
      "metadata": {
        "id": "7eCa8dBTOiXc",
        "colab": {
          "base_uri": "https://localhost:8080/"
        },
        "outputId": "f0fdf30c-220e-41ba-b66d-46e5256ed45d"
      },
      "execution_count": 20,
      "outputs": [
        {
          "output_type": "execute_result",
          "data": {
            "text/plain": [
              "array([2020, 2016, 2011, 2009, 2008, 2019, 1997, 2017, 2018, 2014, 2015,\n",
              "       2010, 2005, 2013, 2012, 2006, 2000, 2003, 1989, 2004, 1977, 1971,\n",
              "       1993, 2007, 1998, 1988, 1996, 2002, 1986, 1990, 1979, 1980, 1974,\n",
              "       2001, 1999, 1966, 1991, 1982, 1994, 1995, 1978, 1992, 1972, 1975,\n",
              "       2021, 1973, 1967, 1960, 1981, 1958, 1976, 1968, 1956, 1985, 1965,\n",
              "       1984, 1983, 1987, 1945, 1946, 1962, 1925, 1942, 1969, 1955, 1963,\n",
              "       1964, 1954, 1970, 1944, 1947, 1959, 1943])"
            ]
          },
          "metadata": {},
          "execution_count": 20
        }
      ]
    },
    {
      "cell_type": "code",
      "source": [
        "df['rating'].unique()"
      ],
      "metadata": {
        "id": "3lM9fpygOicC",
        "colab": {
          "base_uri": "https://localhost:8080/"
        },
        "outputId": "f618b660-f96f-4bf0-81d0-bb5cca934e71"
      },
      "execution_count": 21,
      "outputs": [
        {
          "output_type": "execute_result",
          "data": {
            "text/plain": [
              "array(['TV-MA', 'R', 'PG-13', 'TV-14', 'TV-PG', 'NR', 'TV-G', 'TV-Y', nan,\n",
              "       'TV-Y7', 'PG', 'G', 'NC-17', 'TV-Y7-FV', 'UR'], dtype=object)"
            ]
          },
          "metadata": {},
          "execution_count": 21
        }
      ]
    },
    {
      "cell_type": "code",
      "source": [
        "df['duration'].unique()"
      ],
      "metadata": {
        "id": "o0P5zTaoOine",
        "colab": {
          "base_uri": "https://localhost:8080/"
        },
        "outputId": "722ececd-6f2e-48f2-9be7-6a8257eafade"
      },
      "execution_count": 22,
      "outputs": [
        {
          "output_type": "execute_result",
          "data": {
            "text/plain": [
              "array(['4 Seasons', '93 min', '78 min', '80 min', '123 min', '1 Season',\n",
              "       '95 min', '119 min', '118 min', '143 min', '103 min', '89 min',\n",
              "       '91 min', '149 min', '144 min', '124 min', '87 min', '110 min',\n",
              "       '128 min', '117 min', '100 min', '2 Seasons', '84 min', '99 min',\n",
              "       '90 min', '102 min', '104 min', '105 min', '56 min', '125 min',\n",
              "       '81 min', '97 min', '106 min', '107 min', '109 min', '44 min',\n",
              "       '75 min', '101 min', '3 Seasons', '37 min', '113 min', '114 min',\n",
              "       '130 min', '94 min', '140 min', '135 min', '82 min', '70 min',\n",
              "       '121 min', '92 min', '164 min', '53 min', '83 min', '116 min',\n",
              "       '86 min', '120 min', '96 min', '126 min', '129 min', '77 min',\n",
              "       '137 min', '148 min', '28 min', '122 min', '176 min', '85 min',\n",
              "       '22 min', '68 min', '111 min', '29 min', '142 min', '168 min',\n",
              "       '21 min', '59 min', '20 min', '98 min', '108 min', '76 min',\n",
              "       '26 min', '156 min', '30 min', '57 min', '150 min', '133 min',\n",
              "       '115 min', '154 min', '127 min', '146 min', '136 min', '88 min',\n",
              "       '131 min', '24 min', '112 min', '74 min', '63 min', '38 min',\n",
              "       '25 min', '174 min', '60 min', '153 min', '158 min', '151 min',\n",
              "       '162 min', '54 min', '51 min', '69 min', '64 min', '147 min',\n",
              "       '42 min', '79 min', '5 Seasons', '40 min', '45 min', '172 min',\n",
              "       '10 min', '163 min', '9 Seasons', '55 min', '72 min', '61 min',\n",
              "       '71 min', '160 min', '171 min', '48 min', '139 min', '157 min',\n",
              "       '15 min', '65 min', '134 min', '161 min', '62 min', '8 Seasons',\n",
              "       '186 min', '49 min', '73 min', '58 min', '165 min', '166 min',\n",
              "       '138 min', '159 min', '141 min', '132 min', '52 min', '67 min',\n",
              "       '34 min', '66 min', '312 min', '180 min', '47 min', '6 Seasons',\n",
              "       '155 min', '14 min', '177 min', '11 min', '9 min', '46 min',\n",
              "       '145 min', '11 Seasons', '7 Seasons', '13 Seasons', '8 min',\n",
              "       '12 min', '12 Seasons', '10 Seasons', '43 min', '50 min', '23 min',\n",
              "       '185 min', '200 min', '169 min', '27 min', '170 min', '196 min',\n",
              "       '33 min', '181 min', '204 min', '32 min', '35 min', '167 min',\n",
              "       '16 Seasons', '179 min', '193 min', '13 min', '214 min', '17 min',\n",
              "       '173 min', '192 min', '209 min', '187 min', '41 min', '182 min',\n",
              "       '224 min', '233 min', '189 min', '152 min', '19 min', '15 Seasons',\n",
              "       '208 min', '237 min', '31 min', '178 min', '230 min', '194 min',\n",
              "       '228 min', '195 min', '3 min', '16 min', '5 min', '18 min',\n",
              "       '205 min', '190 min', '36 min', '201 min', '253 min', '203 min',\n",
              "       '191 min'], dtype=object)"
            ]
          },
          "metadata": {},
          "execution_count": 22
        }
      ]
    },
    {
      "cell_type": "code",
      "source": [
        "df['listed_in'].unique()"
      ],
      "metadata": {
        "id": "iA-eQZP8PCg4",
        "colab": {
          "base_uri": "https://localhost:8080/"
        },
        "outputId": "b4747af5-aa9b-4b24-e9c4-5a9c312d4bcc"
      },
      "execution_count": 23,
      "outputs": [
        {
          "output_type": "execute_result",
          "data": {
            "text/plain": [
              "array(['International TV Shows, TV Dramas, TV Sci-Fi & Fantasy',\n",
              "       'Dramas, International Movies',\n",
              "       'Horror Movies, International Movies',\n",
              "       'Action & Adventure, Independent Movies, Sci-Fi & Fantasy',\n",
              "       'Dramas', 'International TV Shows, TV Dramas, TV Mysteries',\n",
              "       'Horror Movies, International Movies, Thrillers',\n",
              "       'Dramas, Thrillers',\n",
              "       'Crime TV Shows, International TV Shows, TV Dramas',\n",
              "       'Crime TV Shows, Docuseries, International TV Shows',\n",
              "       'Documentaries, International Movies, Sports Movies',\n",
              "       'Independent Movies, Sci-Fi & Fantasy, Thrillers',\n",
              "       'Dramas, International Movies, Thrillers',\n",
              "       'International TV Shows, TV Dramas',\n",
              "       'Comedies, Dramas, Independent Movies', 'Sports Movies',\n",
              "       'Dramas, Independent Movies, International Movies',\n",
              "       'Action & Adventure, Dramas, International Movies',\n",
              "       'Anime Series, International TV Shows', 'Documentaries',\n",
              "       'Reality TV', 'Documentaries, International Movies', 'TV Comedies',\n",
              "       'Dramas, International Movies, Romantic Movies', 'Comedies',\n",
              "       'Comedies, Romantic Movies', 'Documentaries, Sports Movies',\n",
              "       'Comedies, Dramas, International Movies',\n",
              "       'International TV Shows, Romantic TV Shows, TV Comedies',\n",
              "       'Comedies, International Movies',\n",
              "       'Action & Adventure, Sci-Fi & Fantasy', 'Dramas, Romantic Movies',\n",
              "       'Dramas, Romantic Movies, Sports Movies',\n",
              "       'Comedies, International Movies, Romantic Movies',\n",
              "       'Action & Adventure',\n",
              "       'International TV Shows, Romantic TV Shows, TV Dramas',\n",
              "       'Docuseries, Science & Nature TV',\n",
              "       'Dramas, International Movies, Sports Movies', 'Movies',\n",
              "       'British TV Shows, International TV Shows, Reality TV',\n",
              "       'Dramas, Independent Movies, Sports Movies',\n",
              "       'International TV Shows, Korean TV Shows, Romantic TV Shows',\n",
              "       'Horror Movies, Independent Movies, Thrillers',\n",
              "       'Crime TV Shows, TV Dramas, TV Mysteries',\n",
              "       'Crime TV Shows, Docuseries', 'Horror Movies, Thrillers',\n",
              "       'Action & Adventure, International Movies',\n",
              "       'Horror Movies, Independent Movies',\n",
              "       'Documentaries, Music & Musicals',\n",
              "       'International Movies, Music & Musicals', 'Sci-Fi & Fantasy',\n",
              "       'Dramas, Independent Movies', 'British TV Shows, Reality TV',\n",
              "       'Action & Adventure, Comedies, International Movies',\n",
              "       'Comedies, Dramas', 'Dramas, LGBTQ Movies',\n",
              "       'Documentaries, Faith & Spirituality',\n",
              "       'Action & Adventure, Comedies',\n",
              "       \"Kids' TV, TV Action & Adventure, TV Sci-Fi & Fantasy\",\n",
              "       'International Movies, Thrillers', \"Kids' TV\",\n",
              "       'International TV Shows, Romantic TV Shows, Spanish-Language TV Shows',\n",
              "       'Children & Family Movies, Comedies', 'Comedies, LGBTQ Movies',\n",
              "       'Comedies, Dramas, Romantic Movies', 'Action & Adventure, Dramas',\n",
              "       'Dramas, Independent Movies, Romantic Movies',\n",
              "       'Comedies, Independent Movies, Thrillers', 'TV Shows',\n",
              "       'Docuseries', 'Comedies, International Movies, Music & Musicals',\n",
              "       'Docuseries, International TV Shows, Science & Nature TV',\n",
              "       'British TV Shows, Docuseries, Science & Nature TV',\n",
              "       'Children & Family Movies, Dramas, Sports Movies',\n",
              "       'Children & Family Movies', 'Dramas, Sci-Fi & Fantasy',\n",
              "       'International TV Shows, TV Comedies, TV Dramas',\n",
              "       'Action & Adventure, Classic Movies, Dramas',\n",
              "       'Children & Family Movies, Dramas',\n",
              "       'Action & Adventure, International Movies, Romantic Movies',\n",
              "       'Children & Family Movies, Dramas, Romantic Movies',\n",
              "       'Children & Family Movies, Comedies, Music & Musicals',\n",
              "       'Classic Movies, Cult Movies, Dramas',\n",
              "       'Action & Adventure, International Movies, Sci-Fi & Fantasy',\n",
              "       'Comedies, Independent Movies', 'Comedies, Horror Movies',\n",
              "       'Children & Family Movies, Comedies, Romantic Movies',\n",
              "       'International TV Shows, TV Dramas, TV Horror', 'Thrillers',\n",
              "       'Stand-Up Comedy & Talk Shows, TV Comedies',\n",
              "       'International TV Shows, Romantic TV Shows, Teen TV Shows',\n",
              "       'Crime TV Shows, International TV Shows, Korean TV Shows',\n",
              "       'Comedies, International Movies, Sports Movies',\n",
              "       'Dramas, LGBTQ Movies, Romantic Movies', 'Comedies, Cult Movies',\n",
              "       'Dramas, Independent Movies, LGBTQ Movies',\n",
              "       'International TV Shows, Reality TV', 'Stand-Up Comedy',\n",
              "       'Documentaries, LGBTQ Movies',\n",
              "       \"Kids' TV, TV Action & Adventure, TV Comedies\",\n",
              "       'Anime Features, International Movies',\n",
              "       'Music & Musicals, Romantic Movies', 'Comedies, Music & Musicals',\n",
              "       'International TV Shows, TV Comedies',\n",
              "       'International Movies, Romantic Movies',\n",
              "       'Anime Features, Children & Family Movies, International Movies',\n",
              "       'British TV Shows, TV Comedies, TV Dramas', 'TV Dramas',\n",
              "       'Horror Movies',\n",
              "       'Action & Adventure, Children & Family Movies, Independent Movies',\n",
              "       'Dramas, International Movies, Music & Musicals',\n",
              "       'Comedies, International Movies, Sci-Fi & Fantasy',\n",
              "       'International TV Shows, Korean TV Shows, Stand-Up Comedy & Talk Shows',\n",
              "       'Docuseries, Science & Nature TV, TV Comedies',\n",
              "       'Dramas, Sports Movies',\n",
              "       'Dramas, Music & Musicals, Romantic Movies',\n",
              "       'Children & Family Movies, Comedies, International Movies',\n",
              "       'Action & Adventure, Documentaries, International Movies',\n",
              "       'Comedies, International Movies, Thrillers',\n",
              "       'Action & Adventure, Dramas, Romantic Movies',\n",
              "       'Horror Movies, Independent Movies, International Movies',\n",
              "       'Dramas, Independent Movies, Sci-Fi & Fantasy',\n",
              "       'International Movies, Sci-Fi & Fantasy',\n",
              "       'Docuseries, Reality TV, Science & Nature TV',\n",
              "       'British TV Shows, Docuseries, International TV Shows',\n",
              "       'Docuseries, International TV Shows',\n",
              "       'British TV Shows, International TV Shows, TV Comedies',\n",
              "       'Action & Adventure, Horror Movies',\n",
              "       'British TV Shows, Reality TV, Romantic TV Shows',\n",
              "       'Crime TV Shows, International TV Shows, TV Action & Adventure',\n",
              "       'International TV Shows, Reality TV, Romantic TV Shows',\n",
              "       'International Movies, Music & Musicals, Romantic Movies',\n",
              "       'TV Comedies, TV Dramas',\n",
              "       'Anime Series, Crime TV Shows, International TV Shows',\n",
              "       \"Kids' TV, TV Comedies, TV Dramas\",\n",
              "       'Action & Adventure, Comedies, Dramas',\n",
              "       'Documentaries, International Movies, Music & Musicals',\n",
              "       \"Kids' TV, TV Comedies\",\n",
              "       'Classic Movies, Dramas, International Movies',\n",
              "       'Comedies, Independent Movies, International Movies',\n",
              "       'Classic Movies, Comedies, Dramas',\n",
              "       'International TV Shows, TV Action & Adventure, TV Mysteries',\n",
              "       'Comedies, International Movies, LGBTQ Movies',\n",
              "       'Children & Family Movies, Comedies, Sci-Fi & Fantasy',\n",
              "       'TV Dramas, Teen TV Shows',\n",
              "       'Children & Family Movies, Independent Movies',\n",
              "       'International TV Shows, Spanish-Language TV Shows, TV Comedies',\n",
              "       'Crime TV Shows, TV Action & Adventure, TV Dramas',\n",
              "       'Action & Adventure, Anime Features, International Movies',\n",
              "       'Action & Adventure, Classic Movies, Comedies',\n",
              "       'Crime TV Shows, TV Dramas',\n",
              "       'TV Horror, TV Mysteries, TV Thrillers', 'TV Dramas, TV Thrillers',\n",
              "       'Comedies, Cult Movies, Dramas',\n",
              "       'Crime TV Shows, TV Comedies, Teen TV Shows',\n",
              "       'Dramas, Faith & Spirituality', 'Comedies, Dramas, LGBTQ Movies',\n",
              "       'Action & Adventure, Comedies, Cult Movies',\n",
              "       'International TV Shows, TV Action & Adventure, TV Comedies',\n",
              "       'Dramas, Independent Movies, Music & Musicals',\n",
              "       'International TV Shows, TV Horror, TV Thrillers',\n",
              "       'International TV Shows, TV Horror, TV Mysteries',\n",
              "       'International TV Shows, TV Dramas, Teen TV Shows',\n",
              "       'Anime Series, International TV Shows, Teen TV Shows',\n",
              "       'Dramas, Sci-Fi & Fantasy, Thrillers',\n",
              "       'TV Action & Adventure, TV Dramas, TV Mysteries',\n",
              "       'Crime TV Shows, International TV Shows, TV Comedies',\n",
              "       'Action & Adventure, Comedies, Sci-Fi & Fantasy',\n",
              "       \"Anime Series, Kids' TV\",\n",
              "       'Crime TV Shows, International TV Shows, Spanish-Language TV Shows',\n",
              "       'Horror Movies, Sci-Fi & Fantasy, Thrillers',\n",
              "       'International TV Shows, Korean TV Shows, TV Dramas',\n",
              "       'Stand-Up Comedy & Talk Shows',\n",
              "       'International Movies, Sci-Fi & Fantasy, Thrillers',\n",
              "       'Crime TV Shows, TV Action & Adventure',\n",
              "       'International TV Shows, Korean TV Shows, TV Action & Adventure',\n",
              "       'TV Action & Adventure, TV Comedies, TV Horror',\n",
              "       'International TV Shows, Romantic TV Shows',\n",
              "       \"Crime TV Shows, Kids' TV, TV Comedies\",\n",
              "       'TV Comedies, TV Dramas, Teen TV Shows',\n",
              "       'Docuseries, International TV Shows, Reality TV',\n",
              "       \"Classic & Cult TV, Kids' TV, TV Action & Adventure\",\n",
              "       'Horror Movies, Sci-Fi & Fantasy',\n",
              "       'Romantic TV Shows, TV Dramas, TV Sci-Fi & Fantasy',\n",
              "       'Dramas, International Movies, Sci-Fi & Fantasy',\n",
              "       'Children & Family Movies, Sports Movies',\n",
              "       'Dramas, Independent Movies, Thrillers',\n",
              "       'Independent Movies, International Movies, Thrillers',\n",
              "       'British TV Shows, TV Comedies',\n",
              "       'International TV Shows, Spanish-Language TV Shows, TV Dramas',\n",
              "       'Action & Adventure, Comedies, Independent Movies',\n",
              "       'International TV Shows, TV Action & Adventure, TV Dramas',\n",
              "       'Children & Family Movies, Music & Musicals', 'Music & Musicals',\n",
              "       'Action & Adventure, International Movies, Music & Musicals',\n",
              "       'Comedies, Sports Movies', 'Classic Movies, Thrillers',\n",
              "       'Docuseries, Reality TV', 'Crime TV Shows, TV Dramas, TV Horror',\n",
              "       'Crime TV Shows, TV Comedies, TV Dramas',\n",
              "       'British TV Shows, Docuseries, Reality TV',\n",
              "       'Reality TV, Science & Nature TV, TV Action & Adventure',\n",
              "       'Children & Family Movies, Documentaries, International Movies',\n",
              "       'Crime TV Shows, Romantic TV Shows, TV Dramas',\n",
              "       'British TV Shows, Docuseries',\n",
              "       'Documentaries, LGBTQ Movies, Music & Musicals',\n",
              "       'Romantic TV Shows, TV Dramas', 'Independent Movies, Thrillers',\n",
              "       'International TV Shows, TV Action & Adventure, TV Horror',\n",
              "       'Children & Family Movies, Documentaries, Sports Movies',\n",
              "       'Stand-Up Comedy & Talk Shows, TV Mysteries, TV Sci-Fi & Fantasy',\n",
              "       'International TV Shows, Reality TV, TV Comedies',\n",
              "       'Dramas, International Movies, LGBTQ Movies',\n",
              "       'Action & Adventure, Dramas, Independent Movies',\n",
              "       'British TV Shows, International TV Shows, TV Dramas',\n",
              "       'TV Action & Adventure, TV Dramas, TV Sci-Fi & Fantasy',\n",
              "       'TV Action & Adventure, TV Dramas, TV Horror',\n",
              "       'Action & Adventure, Anime Features, Sci-Fi & Fantasy',\n",
              "       'Anime Series', 'TV Dramas, TV Mysteries, TV Thrillers',\n",
              "       'Music & Musicals, Stand-Up Comedy',\n",
              "       'Docuseries, International TV Shows, Spanish-Language TV Shows',\n",
              "       'Crime TV Shows, International TV Shows, Reality TV',\n",
              "       \"British TV Shows, Kids' TV\",\n",
              "       'Docuseries, Spanish-Language TV Shows',\n",
              "       'Crime TV Shows, TV Dramas, TV Thrillers',\n",
              "       'Documentaries, International Movies, LGBTQ Movies',\n",
              "       'British TV Shows, Crime TV Shows, International TV Shows',\n",
              "       'Action & Adventure, Independent Movies',\n",
              "       'Classic Movies, Dramas, Romantic Movies',\n",
              "       'Crime TV Shows, Romantic TV Shows, Spanish-Language TV Shows',\n",
              "       'Children & Family Movies, Comedies, Dramas',\n",
              "       'Cult Movies, Horror Movies', \"Kids' TV, TV Thrillers\",\n",
              "       'Classic Movies, Cult Movies, Horror Movies',\n",
              "       'Anime Series, Crime TV Shows, TV Thrillers',\n",
              "       'Anime Series, TV Horror, TV Thrillers', 'Classic Movies, Dramas',\n",
              "       'British TV Shows, Crime TV Shows, Docuseries',\n",
              "       'Action & Adventure, International Movies, Thrillers',\n",
              "       'Anime Series, Teen TV Shows',\n",
              "       'Children & Family Movies, Dramas, International Movies',\n",
              "       'Dramas, Faith & Spirituality, International Movies',\n",
              "       'TV Horror, TV Mysteries, Teen TV Shows',\n",
              "       'Children & Family Movies, Classic Movies',\n",
              "       'TV Dramas, TV Sci-Fi & Fantasy', 'Reality TV, Teen TV Shows',\n",
              "       'Docuseries, Reality TV, Teen TV Shows',\n",
              "       'Classic & Cult TV, TV Comedies',\n",
              "       'International TV Shows, Korean TV Shows, Reality TV',\n",
              "       'International TV Shows, Stand-Up Comedy & Talk Shows, TV Comedies',\n",
              "       'British TV Shows, International TV Shows, Romantic TV Shows',\n",
              "       'International TV Shows, TV Dramas, TV Thrillers',\n",
              "       'Anime Features', 'TV Horror, TV Mysteries, TV Sci-Fi & Fantasy',\n",
              "       'Children & Family Movies, Classic Movies, Comedies',\n",
              "       'Comedies, Faith & Spirituality, Romantic Movies',\n",
              "       'Classic Movies, Comedies, International Movies',\n",
              "       'Action & Adventure, Horror Movies, Sci-Fi & Fantasy',\n",
              "       'Action & Adventure, Classic Movies',\n",
              "       'TV Dramas, TV Sci-Fi & Fantasy, TV Thrillers',\n",
              "       'Comedies, Sci-Fi & Fantasy',\n",
              "       'Action & Adventure, Cult Movies, Dramas',\n",
              "       'TV Action & Adventure, TV Dramas', \"Kids' TV, Korean TV Shows\",\n",
              "       'Action & Adventure, Independent Movies, International Movies',\n",
              "       'Dramas, Faith & Spirituality, Independent Movies',\n",
              "       'Docuseries, TV Comedies',\n",
              "       'Documentaries, Faith & Spirituality, Music & Musicals',\n",
              "       'Romantic TV Shows, TV Comedies',\n",
              "       \"Kids' TV, Spanish-Language TV Shows\",\n",
              "       \"British TV Shows, Kids' TV, TV Thrillers\",\n",
              "       'Action & Adventure, Romantic Movies',\n",
              "       'British TV Shows, Classic & Cult TV, TV Comedies',\n",
              "       'Action & Adventure, Horror Movies, International Movies',\n",
              "       'Children & Family Movies, Documentaries',\n",
              "       \"British TV Shows, Kids' TV, TV Comedies\",\n",
              "       'Horror Movies, Independent Movies, Sci-Fi & Fantasy',\n",
              "       'TV Sci-Fi & Fantasy, TV Thrillers',\n",
              "       'Romantic TV Shows, TV Comedies, TV Dramas',\n",
              "       'Reality TV, Romantic TV Shows',\n",
              "       'Classic Movies, Dramas, Independent Movies',\n",
              "       'Romantic TV Shows, TV Dramas, Teen TV Shows',\n",
              "       'TV Action & Adventure, TV Sci-Fi & Fantasy',\n",
              "       'British TV Shows, TV Horror, TV Thrillers',\n",
              "       'International Movies, Sports Movies', 'International Movies',\n",
              "       'Anime Series, International TV Shows, TV Horror',\n",
              "       'International TV Shows',\n",
              "       'Dramas, Music & Musicals, Sports Movies',\n",
              "       'International TV Shows, Spanish-Language TV Shows, TV Action & Adventure',\n",
              "       'Cult Movies, Dramas, International Movies',\n",
              "       'TV Action & Adventure, TV Comedies, TV Sci-Fi & Fantasy',\n",
              "       'Reality TV, Science & Nature TV',\n",
              "       'Action & Adventure, Anime Features, Children & Family Movies',\n",
              "       \"Kids' TV, TV Action & Adventure\",\n",
              "       'Children & Family Movies, Sci-Fi & Fantasy',\n",
              "       \"Crime TV Shows, Kids' TV\",\n",
              "       'International Movies, Music & Musicals, Thrillers',\n",
              "       'Crime TV Shows, Spanish-Language TV Shows, TV Action & Adventure',\n",
              "       \"Classic & Cult TV, Kids' TV, Spanish-Language TV Shows\",\n",
              "       'Romantic TV Shows, Spanish-Language TV Shows, TV Dramas',\n",
              "       'Action & Adventure, Cult Movies, International Movies',\n",
              "       'Crime TV Shows, Spanish-Language TV Shows, TV Dramas',\n",
              "       'Action & Adventure, Children & Family Movies, Dramas',\n",
              "       'Dramas, Romantic Movies, Sci-Fi & Fantasy',\n",
              "       'Action & Adventure, Dramas, Sci-Fi & Fantasy',\n",
              "       'International TV Shows, TV Mysteries, TV Thrillers',\n",
              "       'Anime Series, International TV Shows, TV Thrillers',\n",
              "       'Horror Movies, International Movies, Sci-Fi & Fantasy',\n",
              "       'Comedies, Cult Movies, International Movies',\n",
              "       'Comedies, Music & Musicals, Romantic Movies',\n",
              "       'Children & Family Movies, Comedies, Faith & Spirituality',\n",
              "       'Crime TV Shows, Docuseries, TV Mysteries',\n",
              "       'Crime TV Shows, Docuseries, Science & Nature TV',\n",
              "       'British TV Shows, Crime TV Shows, TV Dramas',\n",
              "       'Classic Movies, Comedies, Cult Movies',\n",
              "       'International Movies, Romantic Movies, Thrillers',\n",
              "       'Classic Movies, Dramas, Music & Musicals',\n",
              "       'Cult Movies, Horror Movies, Thrillers',\n",
              "       'Anime Features, Romantic Movies',\n",
              "       'Comedies, Dramas, Music & Musicals',\n",
              "       'Anime Features, International Movies, Romantic Movies',\n",
              "       'Documentaries, Faith & Spirituality, International Movies',\n",
              "       'Action & Adventure, Classic Movies, Sci-Fi & Fantasy',\n",
              "       'International TV Shows, Stand-Up Comedy & Talk Shows',\n",
              "       \"British TV Shows, Kids' TV, TV Dramas\",\n",
              "       'Classic & Cult TV, TV Action & Adventure, TV Horror',\n",
              "       'Children & Family Movies, Dramas, Faith & Spirituality',\n",
              "       'TV Action & Adventure, TV Comedies',\n",
              "       'Action & Adventure, Anime Features, Horror Movies',\n",
              "       'Crime TV Shows, International TV Shows, Romantic TV Shows',\n",
              "       'Classic Movies, Comedies, Music & Musicals',\n",
              "       'Comedies, Horror Movies, International Movies',\n",
              "       \"Kids' TV, Spanish-Language TV Shows, Teen TV Shows\",\n",
              "       'Independent Movies',\n",
              "       'Crime TV Shows, International TV Shows, TV Mysteries',\n",
              "       'Action & Adventure, Thrillers',\n",
              "       \"Kids' TV, TV Dramas, Teen TV Shows\",\n",
              "       'Anime Series, Crime TV Shows', \"Kids' TV, TV Dramas\",\n",
              "       'Crime TV Shows, TV Action & Adventure, TV Comedies',\n",
              "       'TV Comedies, Teen TV Shows',\n",
              "       'Reality TV, TV Horror, TV Thrillers',\n",
              "       'Documentaries, Horror Movies',\n",
              "       'Classic & Cult TV, TV Horror, TV Mysteries',\n",
              "       'Action & Adventure, Cult Movies, Sci-Fi & Fantasy',\n",
              "       'Anime Series, International TV Shows, Romantic TV Shows',\n",
              "       'Action & Adventure, Comedies, Romantic Movies',\n",
              "       'Comedies, Dramas, Faith & Spirituality',\n",
              "       'Comedies, Faith & Spirituality, International Movies',\n",
              "       'Romantic Movies', 'Dramas, Horror Movies, Sci-Fi & Fantasy',\n",
              "       'International TV Shows, Korean TV Shows, TV Comedies',\n",
              "       'Comedies, Independent Movies, LGBTQ Movies',\n",
              "       'TV Comedies, TV Dramas, TV Sci-Fi & Fantasy',\n",
              "       'Dramas, Music & Musicals',\n",
              "       'Dramas, Faith & Spirituality, Romantic Movies',\n",
              "       'International TV Shows, TV Action & Adventure, TV Sci-Fi & Fantasy',\n",
              "       'Reality TV, TV Comedies',\n",
              "       \"Docuseries, Kids' TV, Science & Nature TV\",\n",
              "       'Action & Adventure, Sci-Fi & Fantasy, Thrillers',\n",
              "       'Action & Adventure, Children & Family Movies, Sci-Fi & Fantasy',\n",
              "       'Action & Adventure, Children & Family Movies, Classic Movies',\n",
              "       'Horror Movies, International Movies, Romantic Movies',\n",
              "       'TV Action & Adventure', 'TV Comedies, TV Dramas, TV Horror',\n",
              "       'British TV Shows, International TV Shows, Stand-Up Comedy & Talk Shows',\n",
              "       'Dramas, Music & Musicals, Sci-Fi & Fantasy',\n",
              "       'Spanish-Language TV Shows, TV Dramas',\n",
              "       'Documentaries, Stand-Up Comedy',\n",
              "       'Classic & Cult TV, TV Action & Adventure, TV Dramas',\n",
              "       'British TV Shows, TV Dramas, TV Sci-Fi & Fantasy',\n",
              "       'Anime Features, Music & Musicals',\n",
              "       'International TV Shows, TV Comedies, TV Sci-Fi & Fantasy',\n",
              "       'Comedies, Independent Movies, Romantic Movies',\n",
              "       'Comedies, Cult Movies, Horror Movies',\n",
              "       'Comedies, Cult Movies, Sports Movies',\n",
              "       'Classic Movies, Documentaries', 'Sci-Fi & Fantasy, Thrillers',\n",
              "       'Classic & Cult TV, Crime TV Shows, International TV Shows',\n",
              "       \"Kids' TV, Korean TV Shows, TV Comedies\",\n",
              "       'British TV Shows, Romantic TV Shows, TV Dramas',\n",
              "       'Action & Adventure, Faith & Spirituality, Sci-Fi & Fantasy',\n",
              "       'TV Dramas, TV Sci-Fi & Fantasy, Teen TV Shows',\n",
              "       'Action & Adventure, Children & Family Movies',\n",
              "       'Comedies, Horror Movies, Independent Movies',\n",
              "       'Action & Adventure, Classic Movies, Cult Movies',\n",
              "       'TV Dramas, TV Horror, TV Mysteries',\n",
              "       'International Movies, Romantic Movies, Sci-Fi & Fantasy',\n",
              "       'Anime Series, Romantic TV Shows, Teen TV Shows',\n",
              "       'TV Action & Adventure, TV Horror, TV Sci-Fi & Fantasy',\n",
              "       'Anime Features, Music & Musicals, Sci-Fi & Fantasy',\n",
              "       'Action & Adventure, Anime Features, Classic Movies',\n",
              "       'International TV Shows, Reality TV, Spanish-Language TV Shows',\n",
              "       'Anime Series, Romantic TV Shows',\n",
              "       'International TV Shows, Reality TV, TV Action & Adventure',\n",
              "       'TV Comedies, TV Dramas, TV Mysteries',\n",
              "       'Docuseries, Science & Nature TV, TV Dramas',\n",
              "       'Crime TV Shows, TV Action & Adventure, TV Thrillers',\n",
              "       'Anime Features, Children & Family Movies',\n",
              "       'Docuseries, TV Dramas',\n",
              "       'British TV Shows, International TV Shows, TV Action & Adventure',\n",
              "       'Comedies, Cult Movies, Independent Movies',\n",
              "       'Action & Adventure, Horror Movies, Independent Movies',\n",
              "       'British TV Shows, Docuseries, TV Comedies',\n",
              "       'Comedies, Documentaries',\n",
              "       'British TV Shows, Classic & Cult TV, International TV Shows',\n",
              "       'TV Comedies, TV Sci-Fi & Fantasy',\n",
              "       'TV Comedies, TV Sci-Fi & Fantasy, Teen TV Shows',\n",
              "       'Documentaries, Dramas, International Movies',\n",
              "       'Action & Adventure, Classic Movies, International Movies',\n",
              "       'Cult Movies, Independent Movies, Thrillers',\n",
              "       'Comedies, Independent Movies, Music & Musicals',\n",
              "       'TV Action & Adventure, TV Dramas, Teen TV Shows',\n",
              "       'Romantic TV Shows, TV Action & Adventure, TV Dramas',\n",
              "       'Crime TV Shows, TV Comedies',\n",
              "       'Classic Movies, Cult Movies, Documentaries',\n",
              "       'Children & Family Movies, Comedies, Cult Movies',\n",
              "       \"Classic & Cult TV, Kids' TV, TV Comedies\",\n",
              "       'Classic Movies, Dramas, LGBTQ Movies',\n",
              "       'Comedies, Romantic Movies, Sports Movies',\n",
              "       \"Anime Series, Kids' TV, TV Action & Adventure\",\n",
              "       'Action & Adventure, Children & Family Movies, Comedies',\n",
              "       'Reality TV, TV Comedies, TV Horror',\n",
              "       'Classic Movies, Dramas, Sports Movies',\n",
              "       \"Kids' TV, TV Action & Adventure, TV Dramas\",\n",
              "       'Action & Adventure, Sci-Fi & Fantasy, Sports Movies',\n",
              "       'Dramas, Romantic Movies, Thrillers',\n",
              "       'Action & Adventure, Cult Movies',\n",
              "       'Children & Family Movies, Dramas, Independent Movies',\n",
              "       'Children & Family Movies, Comedies, LGBTQ Movies',\n",
              "       'Action & Adventure, Comedies, Music & Musicals',\n",
              "       'Classic Movies, Horror Movies, Thrillers',\n",
              "       'Classic & Cult TV, TV Dramas, TV Sci-Fi & Fantasy',\n",
              "       'Children & Family Movies, Comedies, Sports Movies',\n",
              "       'Docuseries, Stand-Up Comedy & Talk Shows',\n",
              "       'Action & Adventure, Dramas, Faith & Spirituality',\n",
              "       'TV Comedies, TV Horror, TV Thrillers',\n",
              "       'Classic Movies, Comedies, Independent Movies',\n",
              "       'Crime TV Shows, TV Horror, TV Mysteries',\n",
              "       'Children & Family Movies, Classic Movies, Dramas',\n",
              "       'Romantic TV Shows, Spanish-Language TV Shows, TV Comedies',\n",
              "       'Dramas, Faith & Spirituality, Sports Movies',\n",
              "       'Classic & Cult TV, TV Action & Adventure, TV Sci-Fi & Fantasy',\n",
              "       'International TV Shows, Korean TV Shows, TV Horror',\n",
              "       'Classic Movies, Comedies, Romantic Movies',\n",
              "       'Dramas, Horror Movies, Music & Musicals',\n",
              "       'Cult Movies, Horror Movies, Independent Movies',\n",
              "       'Classic Movies, Dramas, Thrillers',\n",
              "       'TV Dramas, TV Mysteries, TV Sci-Fi & Fantasy',\n",
              "       'Classic Movies, Independent Movies, Thrillers',\n",
              "       'TV Comedies, TV Mysteries',\n",
              "       'International TV Shows, Romantic TV Shows, TV Mysteries',\n",
              "       \"Kids' TV, TV Comedies, Teen TV Shows\",\n",
              "       'Crime TV Shows, TV Action & Adventure, TV Sci-Fi & Fantasy',\n",
              "       \"Kids' TV, TV Comedies, TV Sci-Fi & Fantasy\",\n",
              "       'Anime Series, International TV Shows, Spanish-Language TV Shows',\n",
              "       'Cult Movies, Dramas, Thrillers',\n",
              "       'International TV Shows, Spanish-Language TV Shows, TV Horror',\n",
              "       'Children & Family Movies, Faith & Spirituality',\n",
              "       'Comedies, Music & Musicals, Sports Movies',\n",
              "       'Classic Movies, Comedies, Sports Movies',\n",
              "       'Comedies, Dramas, Sports Movies',\n",
              "       'Action & Adventure, Dramas, Sports Movies',\n",
              "       \"Kids' TV, Reality TV, TV Dramas\",\n",
              "       'Horror Movies, LGBTQ Movies, Music & Musicals',\n",
              "       'Comedies, LGBTQ Movies, Music & Musicals',\n",
              "       'International TV Shows, Romantic TV Shows, TV Action & Adventure',\n",
              "       'Cult Movies, Documentaries, LGBTQ Movies',\n",
              "       'Action & Adventure, Romantic Movies, Sci-Fi & Fantasy',\n",
              "       'Classic & Cult TV, TV Sci-Fi & Fantasy',\n",
              "       'TV Action & Adventure, TV Mysteries, TV Sci-Fi & Fantasy',\n",
              "       'Children & Family Movies, Dramas, Music & Musicals',\n",
              "       'Docuseries, TV Sci-Fi & Fantasy',\n",
              "       \"British TV Shows, Classic & Cult TV, Kids' TV\",\n",
              "       'Action & Adventure, International Movies, Sports Movies',\n",
              "       'Docuseries, Science & Nature TV, TV Action & Adventure',\n",
              "       'Comedies, Cult Movies, LGBTQ Movies',\n",
              "       'Crime TV Shows, International TV Shows, TV Sci-Fi & Fantasy',\n",
              "       'Comedies, Horror Movies, Sci-Fi & Fantasy',\n",
              "       'Action & Adventure, Comedies, Horror Movies',\n",
              "       'Classic & Cult TV, Crime TV Shows, TV Dramas',\n",
              "       'TV Horror, Teen TV Shows',\n",
              "       'Reality TV, Spanish-Language TV Shows',\n",
              "       'Action & Adventure, Documentaries, Sports Movies',\n",
              "       'Anime Features, International Movies, Sci-Fi & Fantasy',\n",
              "       'LGBTQ Movies, Thrillers', 'Action & Adventure, Sports Movies',\n",
              "       'International Movies, LGBTQ Movies, Romantic Movies',\n",
              "       \"Kids' TV, Reality TV, Science & Nature TV\",\n",
              "       'International TV Shows, Spanish-Language TV Shows, Stand-Up Comedy & Talk Shows'],\n",
              "      dtype=object)"
            ]
          },
          "metadata": {},
          "execution_count": 23
        }
      ]
    },
    {
      "cell_type": "code",
      "source": [
        "df['description'].unique()"
      ],
      "metadata": {
        "id": "Yca_zHMHPCjx",
        "colab": {
          "base_uri": "https://localhost:8080/"
        },
        "outputId": "98572ce7-1604-4242-e00b-d5bf5883110d"
      },
      "execution_count": 24,
      "outputs": [
        {
          "output_type": "execute_result",
          "data": {
            "text/plain": [
              "array(['In a future where the elite inhabit an island paradise far from the crowded slums, you get one chance to join the 3% saved from squalor.',\n",
              "       'After a devastating earthquake hits Mexico City, trapped survivors from all walks of life wait to be rescued while trying desperately to stay alive.',\n",
              "       \"When an army recruit is found dead, his fellow soldiers are forced to confront a terrifying secret that's haunting their jungle island training camp.\",\n",
              "       ...,\n",
              "       \"In this documentary, South African rapper Nasty C hits the stage and streets of Tokyo, introducing himself to the city's sights, sounds and culture.\",\n",
              "       'Dessert wizard Adriano Zumbo looks for the next “Willy Wonka” in this tense competition that finds skilled amateurs competing for a $100,000 prize.',\n",
              "       'This documentary delves into the mystique behind the blues-rock trio and explores how the enigmatic band created their iconic look and sound.'],\n",
              "      dtype=object)"
            ]
          },
          "metadata": {},
          "execution_count": 24
        }
      ]
    },
    {
      "cell_type": "markdown",
      "source": [
        "## 3. ***Data Wrangling***"
      ],
      "metadata": {
        "id": "dauF4eBmngu3"
      }
    },
    {
      "cell_type": "markdown",
      "source": [
        "### Null Values Treatment"
      ],
      "metadata": {
        "id": "bKJF3rekwFvQ"
      }
    },
    {
      "cell_type": "code",
      "source": [
        "#Replacing missing values in 'director' column with Not Mention\n",
        "df['director'].replace(np.nan, 'Not Mention', inplace = True)\n",
        "\n",
        "#Replacing missing values in 'cast' column with Not Mention\n",
        "df['cast'].replace(np.nan, 'Not Mention', inplace = True)\n",
        "\n",
        "#Replacing missing values in 'country' column with mode\n",
        "df['country']= df['country'].fillna(df['country'].mode()[0])\n",
        "\n",
        "#Replacing missing values in 'rating' column with value most frequent rating i.e. mode\n",
        "df['rating'] = df['rating'].fillna(df['rating'].mode()[0])\n",
        "\n",
        "# Dropping the null values in 'date_added'\n",
        "df = df[df['date_added'].notna()]\n"
      ],
      "metadata": {
        "id": "wk-9a2fpoLcV"
      },
      "execution_count": 25,
      "outputs": []
    },
    {
      "cell_type": "code",
      "source": [
        "df.info()"
      ],
      "metadata": {
        "id": "x4sWP2vwXcg9",
        "colab": {
          "base_uri": "https://localhost:8080/"
        },
        "outputId": "5612d1c9-c945-4f45-931b-70a7eff5357f"
      },
      "execution_count": 26,
      "outputs": [
        {
          "output_type": "stream",
          "name": "stdout",
          "text": [
            "<class 'pandas.core.frame.DataFrame'>\n",
            "Int64Index: 7777 entries, 0 to 7786\n",
            "Data columns (total 12 columns):\n",
            " #   Column        Non-Null Count  Dtype \n",
            "---  ------        --------------  ----- \n",
            " 0   show_id       7777 non-null   object\n",
            " 1   type          7777 non-null   object\n",
            " 2   title         7777 non-null   object\n",
            " 3   director      7777 non-null   object\n",
            " 4   cast          7777 non-null   object\n",
            " 5   country       7777 non-null   object\n",
            " 6   date_added    7777 non-null   object\n",
            " 7   release_year  7777 non-null   int64 \n",
            " 8   rating        7777 non-null   object\n",
            " 9   duration      7777 non-null   object\n",
            " 10  listed_in     7777 non-null   object\n",
            " 11  description   7777 non-null   object\n",
            "dtypes: int64(1), object(11)\n",
            "memory usage: 789.9+ KB\n"
          ]
        }
      ]
    },
    {
      "cell_type": "code",
      "source": [
        "# Converting into a date-time format\n",
        "df['date_added'] = pd.to_datetime(df['date_added'])\n",
        "\n",
        "# Adding new column year added to get year in which movie is added to netflix\n",
        "df['year_added'] = df['date_added'].dt.year\n",
        "df['year_added'].astype(int)\n"
      ],
      "metadata": {
        "id": "C_92Fxm5YEQJ",
        "colab": {
          "base_uri": "https://localhost:8080/"
        },
        "outputId": "ac654f80-1e43-49b1-8a23-93dc31851569"
      },
      "execution_count": 27,
      "outputs": [
        {
          "output_type": "execute_result",
          "data": {
            "text/plain": [
              "0       2020\n",
              "1       2016\n",
              "2       2018\n",
              "3       2017\n",
              "4       2020\n",
              "        ... \n",
              "7782    2020\n",
              "7783    2019\n",
              "7784    2020\n",
              "7785    2020\n",
              "7786    2020\n",
              "Name: year_added, Length: 7777, dtype: int64"
            ]
          },
          "metadata": {},
          "execution_count": 27
        }
      ]
    },
    {
      "cell_type": "code",
      "source": [
        "# Renaming the ‘listed_in’ feature to the genre for easy use.\n",
        "df = df.rename(columns={\"listed_in\":\"genere\"})\n",
        "df['genere'] = df['genere'].apply(lambda x: x.split(\",\")[0])\n"
      ],
      "metadata": {
        "id": "tvm0eMSBZUOC"
      },
      "execution_count": 28,
      "outputs": []
    },
    {
      "cell_type": "code",
      "source": [
        "df['genere'].unique()"
      ],
      "metadata": {
        "id": "YoAVUN9eeo50",
        "colab": {
          "base_uri": "https://localhost:8080/"
        },
        "outputId": "bee4c098-66ca-4d2a-e746-74d1361b3d8c"
      },
      "execution_count": 29,
      "outputs": [
        {
          "output_type": "execute_result",
          "data": {
            "text/plain": [
              "array(['International TV Shows', 'Dramas', 'Horror Movies',\n",
              "       'Action & Adventure', 'Crime TV Shows', 'Documentaries',\n",
              "       'Independent Movies', 'Comedies', 'Sports Movies', 'Anime Series',\n",
              "       'Reality TV', 'TV Comedies', 'Docuseries', 'Movies',\n",
              "       'British TV Shows', 'International Movies', 'Sci-Fi & Fantasy',\n",
              "       \"Kids' TV\", 'Children & Family Movies', 'TV Shows',\n",
              "       'Classic Movies', 'Thrillers', 'Stand-Up Comedy & Talk Shows',\n",
              "       'Stand-Up Comedy', 'Anime Features', 'Music & Musicals',\n",
              "       'TV Dramas', 'TV Horror', 'TV Action & Adventure',\n",
              "       'Classic & Cult TV', 'Romantic TV Shows', 'Cult Movies',\n",
              "       'TV Sci-Fi & Fantasy', 'Romantic Movies',\n",
              "       'Spanish-Language TV Shows', 'LGBTQ Movies'], dtype=object)"
            ]
          },
          "metadata": {},
          "execution_count": 29
        }
      ]
    },
    {
      "cell_type": "code",
      "source": [
        "df.head()"
      ],
      "metadata": {
        "id": "knEsqRdbZ5ul",
        "colab": {
          "base_uri": "https://localhost:8080/",
          "height": 424
        },
        "outputId": "e37621c1-23b0-4062-d66e-8ecc94255c7b"
      },
      "execution_count": 30,
      "outputs": [
        {
          "output_type": "execute_result",
          "data": {
            "text/plain": [
              "  show_id     type  title           director  \\\n",
              "0      s1  TV Show     3%        Not Mention   \n",
              "1      s2    Movie   7:19  Jorge Michel Grau   \n",
              "2      s3    Movie  23:59       Gilbert Chan   \n",
              "3      s4    Movie      9        Shane Acker   \n",
              "4      s5    Movie     21     Robert Luketic   \n",
              "\n",
              "                                                cast        country  \\\n",
              "0  João Miguel, Bianca Comparato, Michel Gomes, R...         Brazil   \n",
              "1  Demián Bichir, Héctor Bonilla, Oscar Serrano, ...         Mexico   \n",
              "2  Tedd Chan, Stella Chung, Henley Hii, Lawrence ...      Singapore   \n",
              "3  Elijah Wood, John C. Reilly, Jennifer Connelly...  United States   \n",
              "4  Jim Sturgess, Kevin Spacey, Kate Bosworth, Aar...  United States   \n",
              "\n",
              "  date_added  release_year rating   duration                  genere  \\\n",
              "0 2020-08-14          2020  TV-MA  4 Seasons  International TV Shows   \n",
              "1 2016-12-23          2016  TV-MA     93 min                  Dramas   \n",
              "2 2018-12-20          2011      R     78 min           Horror Movies   \n",
              "3 2017-11-16          2009  PG-13     80 min      Action & Adventure   \n",
              "4 2020-01-01          2008  PG-13    123 min                  Dramas   \n",
              "\n",
              "                                         description  year_added  \n",
              "0  In a future where the elite inhabit an island ...        2020  \n",
              "1  After a devastating earthquake hits Mexico Cit...        2016  \n",
              "2  When an army recruit is found dead, his fellow...        2018  \n",
              "3  In a postapocalyptic world, rag-doll robots hi...        2017  \n",
              "4  A brilliant group of students become card-coun...        2020  "
            ],
            "text/html": [
              "\n",
              "  <div id=\"df-c49f4c27-0c52-4f92-a3f2-5effba5eaa52\">\n",
              "    <div class=\"colab-df-container\">\n",
              "      <div>\n",
              "<style scoped>\n",
              "    .dataframe tbody tr th:only-of-type {\n",
              "        vertical-align: middle;\n",
              "    }\n",
              "\n",
              "    .dataframe tbody tr th {\n",
              "        vertical-align: top;\n",
              "    }\n",
              "\n",
              "    .dataframe thead th {\n",
              "        text-align: right;\n",
              "    }\n",
              "</style>\n",
              "<table border=\"1\" class=\"dataframe\">\n",
              "  <thead>\n",
              "    <tr style=\"text-align: right;\">\n",
              "      <th></th>\n",
              "      <th>show_id</th>\n",
              "      <th>type</th>\n",
              "      <th>title</th>\n",
              "      <th>director</th>\n",
              "      <th>cast</th>\n",
              "      <th>country</th>\n",
              "      <th>date_added</th>\n",
              "      <th>release_year</th>\n",
              "      <th>rating</th>\n",
              "      <th>duration</th>\n",
              "      <th>genere</th>\n",
              "      <th>description</th>\n",
              "      <th>year_added</th>\n",
              "    </tr>\n",
              "  </thead>\n",
              "  <tbody>\n",
              "    <tr>\n",
              "      <th>0</th>\n",
              "      <td>s1</td>\n",
              "      <td>TV Show</td>\n",
              "      <td>3%</td>\n",
              "      <td>Not Mention</td>\n",
              "      <td>João Miguel, Bianca Comparato, Michel Gomes, R...</td>\n",
              "      <td>Brazil</td>\n",
              "      <td>2020-08-14</td>\n",
              "      <td>2020</td>\n",
              "      <td>TV-MA</td>\n",
              "      <td>4 Seasons</td>\n",
              "      <td>International TV Shows</td>\n",
              "      <td>In a future where the elite inhabit an island ...</td>\n",
              "      <td>2020</td>\n",
              "    </tr>\n",
              "    <tr>\n",
              "      <th>1</th>\n",
              "      <td>s2</td>\n",
              "      <td>Movie</td>\n",
              "      <td>7:19</td>\n",
              "      <td>Jorge Michel Grau</td>\n",
              "      <td>Demián Bichir, Héctor Bonilla, Oscar Serrano, ...</td>\n",
              "      <td>Mexico</td>\n",
              "      <td>2016-12-23</td>\n",
              "      <td>2016</td>\n",
              "      <td>TV-MA</td>\n",
              "      <td>93 min</td>\n",
              "      <td>Dramas</td>\n",
              "      <td>After a devastating earthquake hits Mexico Cit...</td>\n",
              "      <td>2016</td>\n",
              "    </tr>\n",
              "    <tr>\n",
              "      <th>2</th>\n",
              "      <td>s3</td>\n",
              "      <td>Movie</td>\n",
              "      <td>23:59</td>\n",
              "      <td>Gilbert Chan</td>\n",
              "      <td>Tedd Chan, Stella Chung, Henley Hii, Lawrence ...</td>\n",
              "      <td>Singapore</td>\n",
              "      <td>2018-12-20</td>\n",
              "      <td>2011</td>\n",
              "      <td>R</td>\n",
              "      <td>78 min</td>\n",
              "      <td>Horror Movies</td>\n",
              "      <td>When an army recruit is found dead, his fellow...</td>\n",
              "      <td>2018</td>\n",
              "    </tr>\n",
              "    <tr>\n",
              "      <th>3</th>\n",
              "      <td>s4</td>\n",
              "      <td>Movie</td>\n",
              "      <td>9</td>\n",
              "      <td>Shane Acker</td>\n",
              "      <td>Elijah Wood, John C. Reilly, Jennifer Connelly...</td>\n",
              "      <td>United States</td>\n",
              "      <td>2017-11-16</td>\n",
              "      <td>2009</td>\n",
              "      <td>PG-13</td>\n",
              "      <td>80 min</td>\n",
              "      <td>Action &amp; Adventure</td>\n",
              "      <td>In a postapocalyptic world, rag-doll robots hi...</td>\n",
              "      <td>2017</td>\n",
              "    </tr>\n",
              "    <tr>\n",
              "      <th>4</th>\n",
              "      <td>s5</td>\n",
              "      <td>Movie</td>\n",
              "      <td>21</td>\n",
              "      <td>Robert Luketic</td>\n",
              "      <td>Jim Sturgess, Kevin Spacey, Kate Bosworth, Aar...</td>\n",
              "      <td>United States</td>\n",
              "      <td>2020-01-01</td>\n",
              "      <td>2008</td>\n",
              "      <td>PG-13</td>\n",
              "      <td>123 min</td>\n",
              "      <td>Dramas</td>\n",
              "      <td>A brilliant group of students become card-coun...</td>\n",
              "      <td>2020</td>\n",
              "    </tr>\n",
              "  </tbody>\n",
              "</table>\n",
              "</div>\n",
              "      <button class=\"colab-df-convert\" onclick=\"convertToInteractive('df-c49f4c27-0c52-4f92-a3f2-5effba5eaa52')\"\n",
              "              title=\"Convert this dataframe to an interactive table.\"\n",
              "              style=\"display:none;\">\n",
              "        \n",
              "  <svg xmlns=\"http://www.w3.org/2000/svg\" height=\"24px\"viewBox=\"0 0 24 24\"\n",
              "       width=\"24px\">\n",
              "    <path d=\"M0 0h24v24H0V0z\" fill=\"none\"/>\n",
              "    <path d=\"M18.56 5.44l.94 2.06.94-2.06 2.06-.94-2.06-.94-.94-2.06-.94 2.06-2.06.94zm-11 1L8.5 8.5l.94-2.06 2.06-.94-2.06-.94L8.5 2.5l-.94 2.06-2.06.94zm10 10l.94 2.06.94-2.06 2.06-.94-2.06-.94-.94-2.06-.94 2.06-2.06.94z\"/><path d=\"M17.41 7.96l-1.37-1.37c-.4-.4-.92-.59-1.43-.59-.52 0-1.04.2-1.43.59L10.3 9.45l-7.72 7.72c-.78.78-.78 2.05 0 2.83L4 21.41c.39.39.9.59 1.41.59.51 0 1.02-.2 1.41-.59l7.78-7.78 2.81-2.81c.8-.78.8-2.07 0-2.86zM5.41 20L4 18.59l7.72-7.72 1.47 1.35L5.41 20z\"/>\n",
              "  </svg>\n",
              "      </button>\n",
              "      \n",
              "  <style>\n",
              "    .colab-df-container {\n",
              "      display:flex;\n",
              "      flex-wrap:wrap;\n",
              "      gap: 12px;\n",
              "    }\n",
              "\n",
              "    .colab-df-convert {\n",
              "      background-color: #E8F0FE;\n",
              "      border: none;\n",
              "      border-radius: 50%;\n",
              "      cursor: pointer;\n",
              "      display: none;\n",
              "      fill: #1967D2;\n",
              "      height: 32px;\n",
              "      padding: 0 0 0 0;\n",
              "      width: 32px;\n",
              "    }\n",
              "\n",
              "    .colab-df-convert:hover {\n",
              "      background-color: #E2EBFA;\n",
              "      box-shadow: 0px 1px 2px rgba(60, 64, 67, 0.3), 0px 1px 3px 1px rgba(60, 64, 67, 0.15);\n",
              "      fill: #174EA6;\n",
              "    }\n",
              "\n",
              "    [theme=dark] .colab-df-convert {\n",
              "      background-color: #3B4455;\n",
              "      fill: #D2E3FC;\n",
              "    }\n",
              "\n",
              "    [theme=dark] .colab-df-convert:hover {\n",
              "      background-color: #434B5C;\n",
              "      box-shadow: 0px 1px 3px 1px rgba(0, 0, 0, 0.15);\n",
              "      filter: drop-shadow(0px 1px 2px rgba(0, 0, 0, 0.3));\n",
              "      fill: #FFFFFF;\n",
              "    }\n",
              "  </style>\n",
              "\n",
              "      <script>\n",
              "        const buttonEl =\n",
              "          document.querySelector('#df-c49f4c27-0c52-4f92-a3f2-5effba5eaa52 button.colab-df-convert');\n",
              "        buttonEl.style.display =\n",
              "          google.colab.kernel.accessAllowed ? 'block' : 'none';\n",
              "\n",
              "        async function convertToInteractive(key) {\n",
              "          const element = document.querySelector('#df-c49f4c27-0c52-4f92-a3f2-5effba5eaa52');\n",
              "          const dataTable =\n",
              "            await google.colab.kernel.invokeFunction('convertToInteractive',\n",
              "                                                     [key], {});\n",
              "          if (!dataTable) return;\n",
              "\n",
              "          const docLinkHtml = 'Like what you see? Visit the ' +\n",
              "            '<a target=\"_blank\" href=https://colab.research.google.com/notebooks/data_table.ipynb>data table notebook</a>'\n",
              "            + ' to learn more about interactive tables.';\n",
              "          element.innerHTML = '';\n",
              "          dataTable['output_type'] = 'display_data';\n",
              "          await google.colab.output.renderOutput(dataTable, element);\n",
              "          const docLink = document.createElement('div');\n",
              "          docLink.innerHTML = docLinkHtml;\n",
              "          element.appendChild(docLink);\n",
              "        }\n",
              "      </script>\n",
              "    </div>\n",
              "  </div>\n",
              "  "
            ]
          },
          "metadata": {},
          "execution_count": 30
        }
      ]
    },
    {
      "cell_type": "code",
      "source": [
        "df.info()"
      ],
      "metadata": {
        "id": "I0ncZbB2aA3R",
        "colab": {
          "base_uri": "https://localhost:8080/"
        },
        "outputId": "d97d46b5-3011-41c7-e7fe-93ef3ddbab77"
      },
      "execution_count": 31,
      "outputs": [
        {
          "output_type": "stream",
          "name": "stdout",
          "text": [
            "<class 'pandas.core.frame.DataFrame'>\n",
            "Int64Index: 7777 entries, 0 to 7786\n",
            "Data columns (total 13 columns):\n",
            " #   Column        Non-Null Count  Dtype         \n",
            "---  ------        --------------  -----         \n",
            " 0   show_id       7777 non-null   object        \n",
            " 1   type          7777 non-null   object        \n",
            " 2   title         7777 non-null   object        \n",
            " 3   director      7777 non-null   object        \n",
            " 4   cast          7777 non-null   object        \n",
            " 5   country       7777 non-null   object        \n",
            " 6   date_added    7777 non-null   datetime64[ns]\n",
            " 7   release_year  7777 non-null   int64         \n",
            " 8   rating        7777 non-null   object        \n",
            " 9   duration      7777 non-null   object        \n",
            " 10  genere        7777 non-null   object        \n",
            " 11  description   7777 non-null   object        \n",
            " 12  year_added    7777 non-null   int64         \n",
            "dtypes: datetime64[ns](1), int64(2), object(10)\n",
            "memory usage: 850.6+ KB\n"
          ]
        }
      ]
    },
    {
      "cell_type": "markdown",
      "source": [
        "### What all manipulations have you done and insights you found?"
      ],
      "metadata": {
        "id": "MSa1f5Uengrz"
      }
    },
    {
      "cell_type": "markdown",
      "source": [
        "* Replaced missing values in 'director' and 'cast' column with Not Mention.\n",
        "* Replaced missing values in 'country' and 'rating' column with mode.\n",
        "* Dropped the null values in 'date_added'.\n",
        "* 'date_added' column coverted into datetime dtyape and also added new column called 'year_added'.\n",
        "* renamed 'listed_in' column to 'genere' and splited it for getting genere for easy use of info. "
      ],
      "metadata": {
        "id": "LbyXE7I1olp8"
      }
    },
    {
      "cell_type": "markdown",
      "source": [
        "## ***4. Data Vizualization, Storytelling & Experimenting with charts : Understand the relationships between variables***"
      ],
      "metadata": {
        "id": "GF8Ens_Soomf"
      }
    },
    {
      "cell_type": "code",
      "source": [
        "# Plotting Pie Chart between the TV- Shows and Movies of Netflix Dataset.\n",
        "plt.figure(figsize = (10,6))\n",
        "content = ['TV Show','Movie']\n",
        "plt.pie(df['type'].value_counts().sort_values(), labels = content,autopct='%1.2f%%',shadow=True)\n",
        "plt.title('Type of Netflix Content',fontweight='bold')\n",
        "plt.axis('equal')\n",
        "plt.show()"
      ],
      "metadata": {
        "id": "xyC9zolEZNRQ",
        "colab": {
          "base_uri": "https://localhost:8080/",
          "height": 373
        },
        "outputId": "96bf3876-0e78-4f06-f119-6204919460e0"
      },
      "execution_count": 32,
      "outputs": [
        {
          "output_type": "display_data",
          "data": {
            "text/plain": [
              "<Figure size 720x432 with 1 Axes>"
            ],
            "image/png": "[encoded data removed]"
          },
          "metadata": {}
        }
      ]
    },
    {
      "cell_type": "markdown",
      "source": [
        "* **There are more Movies on Netflix than TV Shows**"
      ],
      "metadata": {
        "id": "NYSPN-Regy2b"
      }
    },
    {
      "cell_type": "code",
      "source": [
        "# Finding number of movies and TV shows\n",
        "plt.figure(figsize=(10,6))\n",
        "p = sns.countplot(df.type)\n",
        "plt.title(\"Count of Movies and TV Shows\")\n",
        "#plt.xlabel(\"Type (Movie/TV Show)\")\n",
        "plt.ylabel(\"Total Count\")\n",
        "plt.show()"
      ],
      "metadata": {
        "id": "Rtvmg-BWgUBr",
        "colab": {
          "base_uri": "https://localhost:8080/",
          "height": 459
        },
        "outputId": "8a51207a-e271-4665-9351-3ee96c8d77f0"
      },
      "execution_count": 33,
      "outputs": [
        {
          "output_type": "stream",
          "name": "stderr",
          "text": [
            "/usr/local/lib/python3.8/dist-packages/seaborn/_decorators.py:36: FutureWarning: Pass the following variable as a keyword arg: x. From version 0.12, the only valid positional argument will be `data`, and passing other arguments without an explicit keyword will result in an error or misinterpretation.\n",
            "  warnings.warn(\n"
          ]
        },
        {
          "output_type": "display_data",
          "data": {
            "text/plain": [
              "<Figure size 720x432 with 1 Axes>"
            ],
            "image/png": "[encoded data removed]"
          },
          "metadata": {
            "needs_background": "light"
          }
        }
      ]
    },
    {
      "cell_type": "code",
      "source": [
        "# Counting number of movies and TV shows with respect to year_added\n",
        "df_tv = df[df['type'] == 'TV Show']\n",
        "df_movies = df[df['type'] == 'Movie']\n",
        "year_df = df.year_added.value_counts().to_frame().reset_index().rename(columns={\"index\": \"year\", \"year_added\":\"count\"}).sort_values(by=['year'])\n",
        "movies_year_df = df_movies.year_added.value_counts().to_frame().reset_index().rename(columns={\"index\": \"year\", \"year_added\":\"count\"}).sort_values(by=['year'])\n",
        "shows_year_df = df_tv.year_added.value_counts().to_frame().reset_index().rename(columns={\"index\": \"year\", \"year_added\":\"count\"}).sort_values(by=['year'])\n",
        "year_df.sort_values(by=['year'])"
      ],
      "metadata": {
        "id": "I8ELIY9uipSj",
        "colab": {
          "base_uri": "https://localhost:8080/",
          "height": 488
        },
        "outputId": "6c26b7e8-3bb7-4d16-f389-1bad1e03f349"
      },
      "execution_count": 34,
      "outputs": [
        {
          "output_type": "execute_result",
          "data": {
            "text/plain": [
              "    year  count\n",
              "11  2008      2\n",
              "12  2009      2\n",
              "13  2010      1\n",
              "8   2011     13\n",
              "10  2012      3\n",
              "9   2013     11\n",
              "7   2014     25\n",
              "6   2015     88\n",
              "4   2016    443\n",
              "3   2017   1225\n",
              "2   2018   1685\n",
              "0   2019   2153\n",
              "1   2020   2009\n",
              "5   2021    117"
            ],
            "text/html": [
              "\n",
              "  <div id=\"df-f0b5fa76-fa33-4da1-93c7-e49d82cc8222\">\n",
              "    <div class=\"colab-df-container\">\n",
              "      <div>\n",
              "<style scoped>\n",
              "    .dataframe tbody tr th:only-of-type {\n",
              "        vertical-align: middle;\n",
              "    }\n",
              "\n",
              "    .dataframe tbody tr th {\n",
              "        vertical-align: top;\n",
              "    }\n",
              "\n",
              "    .dataframe thead th {\n",
              "        text-align: right;\n",
              "    }\n",
              "</style>\n",
              "<table border=\"1\" class=\"dataframe\">\n",
              "  <thead>\n",
              "    <tr style=\"text-align: right;\">\n",
              "      <th></th>\n",
              "      <th>year</th>\n",
              "      <th>count</th>\n",
              "    </tr>\n",
              "  </thead>\n",
              "  <tbody>\n",
              "    <tr>\n",
              "      <th>11</th>\n",
              "      <td>2008</td>\n",
              "      <td>2</td>\n",
              "    </tr>\n",
              "    <tr>\n",
              "      <th>12</th>\n",
              "      <td>2009</td>\n",
              "      <td>2</td>\n",
              "    </tr>\n",
              "    <tr>\n",
              "      <th>13</th>\n",
              "      <td>2010</td>\n",
              "      <td>1</td>\n",
              "    </tr>\n",
              "    <tr>\n",
              "      <th>8</th>\n",
              "      <td>2011</td>\n",
              "      <td>13</td>\n",
              "    </tr>\n",
              "    <tr>\n",
              "      <th>10</th>\n",
              "      <td>2012</td>\n",
              "      <td>3</td>\n",
              "    </tr>\n",
              "    <tr>\n",
              "      <th>9</th>\n",
              "      <td>2013</td>\n",
              "      <td>11</td>\n",
              "    </tr>\n",
              "    <tr>\n",
              "      <th>7</th>\n",
              "      <td>2014</td>\n",
              "      <td>25</td>\n",
              "    </tr>\n",
              "    <tr>\n",
              "      <th>6</th>\n",
              "      <td>2015</td>\n",
              "      <td>88</td>\n",
              "    </tr>\n",
              "    <tr>\n",
              "      <th>4</th>\n",
              "      <td>2016</td>\n",
              "      <td>443</td>\n",
              "    </tr>\n",
              "    <tr>\n",
              "      <th>3</th>\n",
              "      <td>2017</td>\n",
              "      <td>1225</td>\n",
              "    </tr>\n",
              "    <tr>\n",
              "      <th>2</th>\n",
              "      <td>2018</td>\n",
              "      <td>1685</td>\n",
              "    </tr>\n",
              "    <tr>\n",
              "      <th>0</th>\n",
              "      <td>2019</td>\n",
              "      <td>2153</td>\n",
              "    </tr>\n",
              "    <tr>\n",
              "      <th>1</th>\n",
              "      <td>2020</td>\n",
              "      <td>2009</td>\n",
              "    </tr>\n",
              "    <tr>\n",
              "      <th>5</th>\n",
              "      <td>2021</td>\n",
              "      <td>117</td>\n",
              "    </tr>\n",
              "  </tbody>\n",
              "</table>\n",
              "</div>\n",
              "      <button class=\"colab-df-convert\" onclick=\"convertToInteractive('df-f0b5fa76-fa33-4da1-93c7-e49d82cc8222')\"\n",
              "              title=\"Convert this dataframe to an interactive table.\"\n",
              "              style=\"display:none;\">\n",
              "        \n",
              "  <svg xmlns=\"http://www.w3.org/2000/svg\" height=\"24px\"viewBox=\"0 0 24 24\"\n",
              "       width=\"24px\">\n",
              "    <path d=\"M0 0h24v24H0V0z\" fill=\"none\"/>\n",
              "    <path d=\"M18.56 5.44l.94 2.06.94-2.06 2.06-.94-2.06-.94-.94-2.06-.94 2.06-2.06.94zm-11 1L8.5 8.5l.94-2.06 2.06-.94-2.06-.94L8.5 2.5l-.94 2.06-2.06.94zm10 10l.94 2.06.94-2.06 2.06-.94-2.06-.94-.94-2.06-.94 2.06-2.06.94z\"/><path d=\"M17.41 7.96l-1.37-1.37c-.4-.4-.92-.59-1.43-.59-.52 0-1.04.2-1.43.59L10.3 9.45l-7.72 7.72c-.78.78-.78 2.05 0 2.83L4 21.41c.39.39.9.59 1.41.59.51 0 1.02-.2 1.41-.59l7.78-7.78 2.81-2.81c.8-.78.8-2.07 0-2.86zM5.41 20L4 18.59l7.72-7.72 1.47 1.35L5.41 20z\"/>\n",
              "  </svg>\n",
              "      </button>\n",
              "      \n",
              "  <style>\n",
              "    .colab-df-container {\n",
              "      display:flex;\n",
              "      flex-wrap:wrap;\n",
              "      gap: 12px;\n",
              "    }\n",
              "\n",
              "    .colab-df-convert {\n",
              "      background-color: #E8F0FE;\n",
              "      border: none;\n",
              "      border-radius: 50%;\n",
              "      cursor: pointer;\n",
              "      display: none;\n",
              "      fill: #1967D2;\n",
              "      height: 32px;\n",
              "      padding: 0 0 0 0;\n",
              "      width: 32px;\n",
              "    }\n",
              "\n",
              "    .colab-df-convert:hover {\n",
              "      background-color: #E2EBFA;\n",
              "      box-shadow: 0px 1px 2px rgba(60, 64, 67, 0.3), 0px 1px 3px 1px rgba(60, 64, 67, 0.15);\n",
              "      fill: #174EA6;\n",
              "    }\n",
              "\n",
              "    [theme=dark] .colab-df-convert {\n",
              "      background-color: #3B4455;\n",
              "      fill: #D2E3FC;\n",
              "    }\n",
              "\n",
              "    [theme=dark] .colab-df-convert:hover {\n",
              "      background-color: #434B5C;\n",
              "      box-shadow: 0px 1px 3px 1px rgba(0, 0, 0, 0.15);\n",
              "      filter: drop-shadow(0px 1px 2px rgba(0, 0, 0, 0.3));\n",
              "      fill: #FFFFFF;\n",
              "    }\n",
              "  </style>\n",
              "\n",
              "      <script>\n",
              "        const buttonEl =\n",
              "          document.querySelector('#df-f0b5fa76-fa33-4da1-93c7-e49d82cc8222 button.colab-df-convert');\n",
              "        buttonEl.style.display =\n",
              "          google.colab.kernel.accessAllowed ? 'block' : 'none';\n",
              "\n",
              "        async function convertToInteractive(key) {\n",
              "          const element = document.querySelector('#df-f0b5fa76-fa33-4da1-93c7-e49d82cc8222');\n",
              "          const dataTable =\n",
              "            await google.colab.kernel.invokeFunction('convertToInteractive',\n",
              "                                                     [key], {});\n",
              "          if (!dataTable) return;\n",
              "\n",
              "          const docLinkHtml = 'Like what you see? Visit the ' +\n",
              "            '<a target=\"_blank\" href=https://colab.research.google.com/notebooks/data_table.ipynb>data table notebook</a>'\n",
              "            + ' to learn more about interactive tables.';\n",
              "          element.innerHTML = '';\n",
              "          dataTable['output_type'] = 'display_data';\n",
              "          await google.colab.output.renderOutput(dataTable, element);\n",
              "          const docLink = document.createElement('div');\n",
              "          docLink.innerHTML = docLinkHtml;\n",
              "          element.appendChild(docLink);\n",
              "        }\n",
              "      </script>\n",
              "    </div>\n",
              "  </div>\n",
              "  "
            ]
          },
          "metadata": {},
          "execution_count": 34
        }
      ]
    },
    {
      "cell_type": "markdown",
      "source": [
        "* **We can see that after consistently increase in number of count till year 2019-2020 there is sudden drop in year 2021 due to COVID.** \n",
        "\n",
        "\n"
      ],
      "metadata": {
        "id": "PuYpwKPFk9mf"
      }
    },
    {
      "cell_type": "code",
      "source": [
        "# Plotting the plot for Top 10 Country on Netflix.\n",
        "\n",
        "df['top_country']=df['country'].apply(lambda x:x.split(',')[0])\n",
        "plt.figure(figsize = (10,6))\n",
        "ax = sns.countplot(x='top_country', data=df,order=df['top_country'].value_counts().index[:10])\n",
        "plt.title('Top 10 Countries on Netflix',fontweight='bold')\n",
        "plt.xlabel('country',fontweight='bold',fontsize=12)\n",
        "plt.ylabel('counts',fontweight='bold',fontsize=10)\n",
        "plt.show()\n"
      ],
      "metadata": {
        "id": "vQFI0dhAk72J",
        "colab": {
          "base_uri": "https://localhost:8080/",
          "height": 407
        },
        "outputId": "22cf0018-7d82-4105-fcc4-986e20c75ab9"
      },
      "execution_count": 35,
      "outputs": [
        {
          "output_type": "display_data",
          "data": {
            "text/plain": [
              "<Figure size 720x432 with 1 Axes>"
            ],
            "image/png": "[encoded data removed]"
          },
          "metadata": {
            "needs_background": "light"
          }
        }
      ]
    },
    {
      "cell_type": "markdown",
      "source": [
        "* **US is at top about content on Netflix followed by India and UK respectivly.**"
      ],
      "metadata": {
        "id": "eVotynm8m-xQ"
      }
    },
    {
      "cell_type": "code",
      "source": [
        "#Number of TV Shows VS Movies content in top 10 countries with maximum content\n",
        "\n",
        "fig = plt.figure(figsize=(12,6))\n",
        "ax = sns.countplot(y='top_country',data=df,hue='type',order=df['top_country'].value_counts().index[:10])\n",
        "plt.ylabel('Country',fontweight='bold')\n",
        "plt.title(\"Number of TV Shows and Movies in top 10 countries\",fontweight=\"bold\")\n",
        "plt.show()"
      ],
      "metadata": {
        "id": "MDZp2EI2iqFU",
        "colab": {
          "base_uri": "https://localhost:8080/",
          "height": 404
        },
        "outputId": "32bd2511-c2c3-4539-fb27-5e21dcf8d666"
      },
      "execution_count": 36,
      "outputs": [
        {
          "output_type": "display_data",
          "data": {
            "text/plain": [
              "<Figure size 864x432 with 1 Axes>"
            ],
            "image/png": "[encoded data removed]"
          },
          "metadata": {
            "needs_background": "light"
          }
        }
      ]
    },
    {
      "cell_type": "markdown",
      "source": [
        "* **Most of the countries have more movies than TV shows, But you can see that for South Korea and Japan it's the opposite. It maybe because KDramas are more popular in S Korea and Anime are more popular in Japan.**"
      ],
      "metadata": {
        "id": "__toguncpvXB"
      }
    },
    {
      "cell_type": "code",
      "source": [
        "#Rating based on Rating System of all the movies\n",
        "\n",
        "movie_ratings = df_movies.groupby(['rating'])['show_id'].count().reset_index(name='count').sort_values(by='count',ascending=False)\n",
        "fig_s = (10,6)\n",
        "fig, ax = plt.subplots(figsize = fig_s)\n",
        "sns.pointplot(x='rating',y='count',data=movie_ratings)\n",
        "plt.title('Top Movie Ratings Based On Rating System',size='18',fontweight='bold')\n",
        "plt.show()"
      ],
      "metadata": {
        "id": "zCd7KeeDiqHZ",
        "colab": {
          "base_uri": "https://localhost:8080/",
          "height": 408
        },
        "outputId": "09c4be4c-0533-41ca-e4d5-3ed6b8134df0"
      },
      "execution_count": 37,
      "outputs": [
        {
          "output_type": "display_data",
          "data": {
            "text/plain": [
              "<Figure size 720x432 with 1 Axes>"
            ],
            "image/png": "[encoded data removed]"
          },
          "metadata": {
            "needs_background": "light"
          }
        }
      ]
    },
    {
      "cell_type": "markdown",
      "source": [
        "* **Most number of movies rated TV-MA i.e. Adult Rating**"
      ],
      "metadata": {
        "id": "zn0TlYTbsuCC"
      }
    },
    {
      "cell_type": "code",
      "source": [
        "#Rating based on Rating System of all the TV Shows\n",
        "shows_ratings=df_tv.groupby(['rating'])['show_id'].count().reset_index(name='count').sort_values(by='count',ascending=False)\n",
        "fig,ax=plt.subplots(figsize=(14,7))\n",
        "sns.pointplot(x='rating',y='count',data=shows_ratings)\n",
        "plt.title('Top TV Shows Ratings Based on Rating System',size='20',fontweight='bold')\n",
        "plt.show()"
      ],
      "metadata": {
        "id": "ydQxU9R0iqKf",
        "colab": {
          "base_uri": "https://localhost:8080/",
          "height": 463
        },
        "outputId": "538628aa-39da-439a-c9fa-d2878b727bc3"
      },
      "execution_count": 38,
      "outputs": [
        {
          "output_type": "display_data",
          "data": {
            "text/plain": [
              "<Figure size 1008x504 with 1 Axes>"
            ],
            "image/png": "[encoded data removed]"
          },
          "metadata": {
            "needs_background": "light"
          }
        }
      ]
    },
    {
      "cell_type": "markdown",
      "source": [
        "* **Most number of TV Shows rated TV-MA i.e. Adult Rating**"
      ],
      "metadata": {
        "id": "gD3Wm1-DtPpC"
      }
    },
    {
      "cell_type": "code",
      "source": [
        "direc=df.copy()\n",
        "#removing unknown \n",
        "direc=direc[df['director']!='Not Mention']\n",
        "\n",
        "# Top 10 director whose content is available in netflix\n",
        "\n",
        "plt.figure(figsize = (14,6))\n",
        "sns.countplot(y='director',data=direc,order=direc.director.value_counts().head(10).index,palette='cubehelix')\n",
        "plt.title('Director with most movies/shows',fontweight=\"bold\")\n",
        "plt.show()"
      ],
      "metadata": {
        "id": "F8lr0BYAiqNX",
        "colab": {
          "base_uri": "https://localhost:8080/",
          "height": 404
        },
        "outputId": "79d8cf67-5d17-4f91-8eca-2fb672583df3"
      },
      "execution_count": 39,
      "outputs": [
        {
          "output_type": "display_data",
          "data": {
            "text/plain": [
              "<Figure size 1008x432 with 1 Axes>"
            ],
            "image/png": "[encoded data removed]"
          },
          "metadata": {
            "needs_background": "light"
          }
        }
      ]
    },
    {
      "cell_type": "markdown",
      "source": [
        "* **Raul Campos and Jan Sulter collectively have the most content on Netflix followed by Marcus and Jay respectivly.**\n",
        "\n"
      ],
      "metadata": {
        "id": "ruMpsHS_wLkq"
      }
    },
    {
      "cell_type": "code",
      "source": [
        "#getting plot for top actors\n",
        "\n",
        "#splitting into list\n",
        "df['cast_name'] = df['cast'].apply(lambda x :  x.split(',')) \n",
        "cast_count = []\n",
        "\n",
        "#count movies for each actor\n",
        "for i in df['cast_name']: cast_count += i\n",
        "    \n",
        "cast_dict = dict((i, cast_count.count(i)) for i in cast_count)\n",
        "\n",
        "df_cast_count = pd.DataFrame(cast_dict.values(),cast_dict.keys()).reset_index().sort_values(0,ascending=False).rename(\n",
        "    columns = {'index' : 'cast_name', 0 : 'count'}).iloc[1:11]\n",
        "plt.figure(figsize=(15,5))\n",
        "sns.barplot(y='cast_name',x='count',data=df_cast_count,palette=\"viridis\")\n",
        "plt.title(\"Top 10 ACTORS on Netflix\",size='16',fontweight=\"bold\")\n",
        "plt.xlabel('Cast Name')\n",
        "plt.show()\n",
        "     "
      ],
      "metadata": {
        "id": "Tob2ZKHKiqXz",
        "colab": {
          "base_uri": "https://localhost:8080/",
          "height": 352
        },
        "outputId": "f0ddb348-90a5-455c-b0d2-918f5f4be01e"
      },
      "execution_count": 40,
      "outputs": [
        {
          "output_type": "display_data",
          "data": {
            "text/plain": [
              "<Figure size 1080x360 with 1 Axes>"
            ],
            "image/png": "[encoded data removed]"
          },
          "metadata": {
            "needs_background": "light"
          }
        }
      ]
    },
    {
      "cell_type": "markdown",
      "source": [
        "* **Anupam Kher Have the most number of films on Netflix followed by Takahiro Sakurai And Shah Rukh Khan.**\n"
      ],
      "metadata": {
        "id": "hxo_7-xcxezB"
      }
    },
    {
      "cell_type": "code",
      "source": [
        "#Analysing how many movies released per year in last 10 years\n",
        "plt.figure(figsize=(14,6))\n",
        "plt.title('ANALYSIS ON RELEASE YEAR OF MOVIES IN LAST 10 YEARS', fontsize=15, fontweight='bold')\n",
        "sns.countplot(x=df_movies['release_year'],data=df_movies,order=df_movies['release_year'].value_counts().index[0:10],palette='viridis')"
      ],
      "metadata": {
        "id": "0AG02eAKx3mA",
        "colab": {
          "base_uri": "https://localhost:8080/",
          "height": 424
        },
        "outputId": "00fabc19-eb37-493c-edb8-4a0c0b462ba6"
      },
      "execution_count": 41,
      "outputs": [
        {
          "output_type": "execute_result",
          "data": {
            "text/plain": [
              "<matplotlib.axes._subplots.AxesSubplot at 0x7f6def6b9070>"
            ]
          },
          "metadata": {},
          "execution_count": 41
        },
        {
          "output_type": "display_data",
          "data": {
            "text/plain": [
              "<Figure size 1008x432 with 1 Axes>"
            ],
            "image/png": "[encoded data removed]"
          },
          "metadata": {
            "needs_background": "light"
          }
        }
      ]
    },
    {
      "cell_type": "code",
      "source": [
        "#Analysing how many TV SHOWS released per year in last 10 years\n",
        "plt.figure(figsize=(14,6))\n",
        "plt.title('ANALYSIS ON RELEASE YEAR OF TV SHOWS IN LAST 10 YEARS', fontsize=15, fontweight='bold')\n",
        "sns.countplot(x=df_tv['release_year'],data=df_tv,order=df_tv['release_year'].value_counts().index[0:10],palette=\"viridis\")"
      ],
      "metadata": {
        "id": "w857fDncx3pB",
        "colab": {
          "base_uri": "https://localhost:8080/",
          "height": 424
        },
        "outputId": "537942be-6e5b-4a54-f8ae-ebc45186754d"
      },
      "execution_count": 42,
      "outputs": [
        {
          "output_type": "execute_result",
          "data": {
            "text/plain": [
              "<matplotlib.axes._subplots.AxesSubplot at 0x7f6def705f40>"
            ]
          },
          "metadata": {},
          "execution_count": 42
        },
        {
          "output_type": "display_data",
          "data": {
            "text/plain": [
              "<Figure size 1008x432 with 1 Axes>"
            ],
            "image/png": "[encoded data removed]"
          },
          "metadata": {
            "needs_background": "light"
          }
        }
      ]
    },
    {
      "cell_type": "code",
      "source": [
        "#Top 10 genres on Netflix\n",
        "\n",
        "plt.figure(figsize=(10,6))\n",
        "ax = sns.countplot(y=df['genere'], order=df['genere'].value_counts().index[:10],palette='viridis')\n",
        "plt.title('Top 10 genere on Netflix', fontweight='bold')"
      ],
      "metadata": {
        "id": "3G2cBnlSx3t6",
        "colab": {
          "base_uri": "https://localhost:8080/",
          "height": 421
        },
        "outputId": "6092b368-94a1-4c30-a059-445fe553d6ea"
      },
      "execution_count": 43,
      "outputs": [
        {
          "output_type": "execute_result",
          "data": {
            "text/plain": [
              "Text(0.5, 1.0, 'Top 10 genere on Netflix')"
            ]
          },
          "metadata": {},
          "execution_count": 43
        },
        {
          "output_type": "display_data",
          "data": {
            "text/plain": [
              "<Figure size 720x432 with 1 Axes>"
            ],
            "image/png": "[encoded data removed]"
          },
          "metadata": {
            "needs_background": "light"
          }
        }
      ]
    },
    {
      "cell_type": "markdown",
      "source": [
        "* **Drama is the most popular genre followed by comedy on Netflix.**\n"
      ],
      "metadata": {
        "id": "3rWc6PVJ9Tev"
      }
    },
    {
      "cell_type": "code",
      "source": [],
      "metadata": {
        "id": "NGH3Ixh6x4CC"
      },
      "execution_count": 43,
      "outputs": []
    },
    {
      "cell_type": "markdown",
      "source": [
        "## ***5. Hypothesis Testing***"
      ],
      "metadata": {
        "id": "g-ATYxFrGrvw"
      }
    },
    {
      "cell_type": "markdown",
      "source": [
        "### **Is Netflix has increasingly focusing on TV rather than movies in recent years?**"
      ],
      "metadata": {
        "id": "Yfr_Vlr8HBkt"
      }
    },
    {
      "cell_type": "markdown",
      "source": [
        "Hypothesis Testing to check is there is any relation between year_added and type:\n",
        "\n",
        "* *Null Hypothesis:* year_added has no impact on type of content that gets added to the platform.\n",
        "* *Alternative Hypothesis:* year_added has impact on type of content that gets added to the platform."
      ],
      "metadata": {
        "id": "-7MS06SUHkB-"
      }
    },
    {
      "cell_type": "code",
      "source": [
        "hypo_data = pd.crosstab(df['type'], df['year_added'], margins=False)\n",
        "hypo_data"
      ],
      "metadata": {
        "id": "pqXc-SJYGIij",
        "colab": {
          "base_uri": "https://localhost:8080/",
          "height": 143
        },
        "outputId": "80a09d71-631a-44e0-9714-d878748a37ee"
      },
      "execution_count": 44,
      "outputs": [
        {
          "output_type": "execute_result",
          "data": {
            "text/plain": [
              "year_added  2008  2009  2010  2011  2012  2013  2014  2015  2016  2017  2018  \\\n",
              "type                                                                           \n",
              "Movie          1     2     1    13     3     6    19    58   258   864  1255   \n",
              "TV Show        1     0     0     0     0     5     6    30   185   361   430   \n",
              "\n",
              "year_added  2019  2020  2021  \n",
              "type                          \n",
              "Movie       1497  1312    88  \n",
              "TV Show      656   697    29  "
            ],
            "text/html": [
              "\n",
              "  <div id=\"df-44b7bf2f-a843-4241-83b4-a8f78e8afee3\">\n",
              "    <div class=\"colab-df-container\">\n",
              "      <div>\n",
              "<style scoped>\n",
              "    .dataframe tbody tr th:only-of-type {\n",
              "        vertical-align: middle;\n",
              "    }\n",
              "\n",
              "    .dataframe tbody tr th {\n",
              "        vertical-align: top;\n",
              "    }\n",
              "\n",
              "    .dataframe thead th {\n",
              "        text-align: right;\n",
              "    }\n",
              "</style>\n",
              "<table border=\"1\" class=\"dataframe\">\n",
              "  <thead>\n",
              "    <tr style=\"text-align: right;\">\n",
              "      <th>year_added</th>\n",
              "      <th>2008</th>\n",
              "      <th>2009</th>\n",
              "      <th>2010</th>\n",
              "      <th>2011</th>\n",
              "      <th>2012</th>\n",
              "      <th>2013</th>\n",
              "      <th>2014</th>\n",
              "      <th>2015</th>\n",
              "      <th>2016</th>\n",
              "      <th>2017</th>\n",
              "      <th>2018</th>\n",
              "      <th>2019</th>\n",
              "      <th>2020</th>\n",
              "      <th>2021</th>\n",
              "    </tr>\n",
              "    <tr>\n",
              "      <th>type</th>\n",
              "      <th></th>\n",
              "      <th></th>\n",
              "      <th></th>\n",
              "      <th></th>\n",
              "      <th></th>\n",
              "      <th></th>\n",
              "      <th></th>\n",
              "      <th></th>\n",
              "      <th></th>\n",
              "      <th></th>\n",
              "      <th></th>\n",
              "      <th></th>\n",
              "      <th></th>\n",
              "      <th></th>\n",
              "    </tr>\n",
              "  </thead>\n",
              "  <tbody>\n",
              "    <tr>\n",
              "      <th>Movie</th>\n",
              "      <td>1</td>\n",
              "      <td>2</td>\n",
              "      <td>1</td>\n",
              "      <td>13</td>\n",
              "      <td>3</td>\n",
              "      <td>6</td>\n",
              "      <td>19</td>\n",
              "      <td>58</td>\n",
              "      <td>258</td>\n",
              "      <td>864</td>\n",
              "      <td>1255</td>\n",
              "      <td>1497</td>\n",
              "      <td>1312</td>\n",
              "      <td>88</td>\n",
              "    </tr>\n",
              "    <tr>\n",
              "      <th>TV Show</th>\n",
              "      <td>1</td>\n",
              "      <td>0</td>\n",
              "      <td>0</td>\n",
              "      <td>0</td>\n",
              "      <td>0</td>\n",
              "      <td>5</td>\n",
              "      <td>6</td>\n",
              "      <td>30</td>\n",
              "      <td>185</td>\n",
              "      <td>361</td>\n",
              "      <td>430</td>\n",
              "      <td>656</td>\n",
              "      <td>697</td>\n",
              "      <td>29</td>\n",
              "    </tr>\n",
              "  </tbody>\n",
              "</table>\n",
              "</div>\n",
              "      <button class=\"colab-df-convert\" onclick=\"convertToInteractive('df-44b7bf2f-a843-4241-83b4-a8f78e8afee3')\"\n",
              "              title=\"Convert this dataframe to an interactive table.\"\n",
              "              style=\"display:none;\">\n",
              "        \n",
              "  <svg xmlns=\"http://www.w3.org/2000/svg\" height=\"24px\"viewBox=\"0 0 24 24\"\n",
              "       width=\"24px\">\n",
              "    <path d=\"M0 0h24v24H0V0z\" fill=\"none\"/>\n",
              "    <path d=\"M18.56 5.44l.94 2.06.94-2.06 2.06-.94-2.06-.94-.94-2.06-.94 2.06-2.06.94zm-11 1L8.5 8.5l.94-2.06 2.06-.94-2.06-.94L8.5 2.5l-.94 2.06-2.06.94zm10 10l.94 2.06.94-2.06 2.06-.94-2.06-.94-.94-2.06-.94 2.06-2.06.94z\"/><path d=\"M17.41 7.96l-1.37-1.37c-.4-.4-.92-.59-1.43-.59-.52 0-1.04.2-1.43.59L10.3 9.45l-7.72 7.72c-.78.78-.78 2.05 0 2.83L4 21.41c.39.39.9.59 1.41.59.51 0 1.02-.2 1.41-.59l7.78-7.78 2.81-2.81c.8-.78.8-2.07 0-2.86zM5.41 20L4 18.59l7.72-7.72 1.47 1.35L5.41 20z\"/>\n",
              "  </svg>\n",
              "      </button>\n",
              "      \n",
              "  <style>\n",
              "    .colab-df-container {\n",
              "      display:flex;\n",
              "      flex-wrap:wrap;\n",
              "      gap: 12px;\n",
              "    }\n",
              "\n",
              "    .colab-df-convert {\n",
              "      background-color: #E8F0FE;\n",
              "      border: none;\n",
              "      border-radius: 50%;\n",
              "      cursor: pointer;\n",
              "      display: none;\n",
              "      fill: #1967D2;\n",
              "      height: 32px;\n",
              "      padding: 0 0 0 0;\n",
              "      width: 32px;\n",
              "    }\n",
              "\n",
              "    .colab-df-convert:hover {\n",
              "      background-color: #E2EBFA;\n",
              "      box-shadow: 0px 1px 2px rgba(60, 64, 67, 0.3), 0px 1px 3px 1px rgba(60, 64, 67, 0.15);\n",
              "      fill: #174EA6;\n",
              "    }\n",
              "\n",
              "    [theme=dark] .colab-df-convert {\n",
              "      background-color: #3B4455;\n",
              "      fill: #D2E3FC;\n",
              "    }\n",
              "\n",
              "    [theme=dark] .colab-df-convert:hover {\n",
              "      background-color: #434B5C;\n",
              "      box-shadow: 0px 1px 3px 1px rgba(0, 0, 0, 0.15);\n",
              "      filter: drop-shadow(0px 1px 2px rgba(0, 0, 0, 0.3));\n",
              "      fill: #FFFFFF;\n",
              "    }\n",
              "  </style>\n",
              "\n",
              "      <script>\n",
              "        const buttonEl =\n",
              "          document.querySelector('#df-44b7bf2f-a843-4241-83b4-a8f78e8afee3 button.colab-df-convert');\n",
              "        buttonEl.style.display =\n",
              "          google.colab.kernel.accessAllowed ? 'block' : 'none';\n",
              "\n",
              "        async function convertToInteractive(key) {\n",
              "          const element = document.querySelector('#df-44b7bf2f-a843-4241-83b4-a8f78e8afee3');\n",
              "          const dataTable =\n",
              "            await google.colab.kernel.invokeFunction('convertToInteractive',\n",
              "                                                     [key], {});\n",
              "          if (!dataTable) return;\n",
              "\n",
              "          const docLinkHtml = 'Like what you see? Visit the ' +\n",
              "            '<a target=\"_blank\" href=https://colab.research.google.com/notebooks/data_table.ipynb>data table notebook</a>'\n",
              "            + ' to learn more about interactive tables.';\n",
              "          element.innerHTML = '';\n",
              "          dataTable['output_type'] = 'display_data';\n",
              "          await google.colab.output.renderOutput(dataTable, element);\n",
              "          const docLink = document.createElement('div');\n",
              "          docLink.innerHTML = docLinkHtml;\n",
              "          element.appendChild(docLink);\n",
              "        }\n",
              "      </script>\n",
              "    </div>\n",
              "  </div>\n",
              "  "
            ]
          },
          "metadata": {},
          "execution_count": 44
        }
      ]
    },
    {
      "cell_type": "code",
      "source": [
        "from scipy.stats import chisquare\n",
        "from scipy.stats import chi2_contingency\n",
        "chi2_contingency(hypo_data) \n"
      ],
      "metadata": {
        "id": "s-A7-5sVGUto",
        "colab": {
          "base_uri": "https://localhost:8080/"
        },
        "outputId": "04b27671-02ee-4c33-8599-7dbe0d555e81"
      },
      "execution_count": 45,
      "outputs": [
        {
          "output_type": "execute_result",
          "data": {
            "text/plain": [
              "(75.22727567916088,\n",
              " 8.635372719955464e-11,\n",
              " 13,\n",
              " array([[1.38279542e+00, 1.38279542e+00, 6.91397711e-01, 8.98817025e+00,\n",
              "         2.07419313e+00, 7.60537482e+00, 1.72849428e+01, 6.08429986e+01,\n",
              "         3.06289186e+02, 8.46962196e+02, 1.16500514e+03, 1.48857927e+03,\n",
              "         1.38901800e+03, 8.08935322e+01],\n",
              "        [6.17204578e-01, 6.17204578e-01, 3.08602289e-01, 4.01182975e+00,\n",
              "         9.25806866e-01, 3.39462518e+00, 7.71505722e+00, 2.71570014e+01,\n",
              "         1.36710814e+02, 3.78037804e+02, 5.19994857e+02, 6.64420728e+02,\n",
              "         6.19981998e+02, 3.61064678e+01]]))"
            ]
          },
          "metadata": {},
          "execution_count": 45
        }
      ]
    },
    {
      "cell_type": "markdown",
      "source": [
        "* The p value is smaller than significance level , we will reject the null hypothesis and accept the alternative hypothesis."
      ],
      "metadata": {
        "id": "j3Su12j9MGb7"
      }
    },
    {
      "cell_type": "markdown",
      "source": [
        "## ***6. Feature Engineering & Data Pre-processing***"
      ],
      "metadata": {
        "id": "yLjJCtPM0KBk"
      }
    },
    {
      "cell_type": "markdown",
      "source": [
        "### 1. Handling Missing Values"
      ],
      "metadata": {
        "id": "xiyOF9F70UgQ"
      }
    },
    {
      "cell_type": "code",
      "source": [
        "# Handling Missing Values & Missing Value Imputation"
      ],
      "metadata": {
        "id": "iRsAHk1K0fpS"
      },
      "execution_count": 46,
      "outputs": []
    },
    {
      "cell_type": "markdown",
      "source": [
        "#### What all missing value imputation techniques have you used and why did you use those techniques?"
      ],
      "metadata": {
        "id": "7wuGOrhz0itI"
      }
    },
    {
      "cell_type": "markdown",
      "source": [
        "Answer Here."
      ],
      "metadata": {
        "id": "1ixusLtI0pqI"
      }
    },
    {
      "cell_type": "markdown",
      "source": [
        "### 2. Handling Outliers"
      ],
      "metadata": {
        "id": "id1riN9m0vUs"
      }
    },
    {
      "cell_type": "code",
      "source": [
        "# Handling Outliers & Outlier treatments"
      ],
      "metadata": {
        "id": "M6w2CzZf04JK"
      },
      "execution_count": 47,
      "outputs": []
    },
    {
      "cell_type": "markdown",
      "source": [
        "##### What all outlier treatment techniques have you used and why did you use those techniques?"
      ],
      "metadata": {
        "id": "578E2V7j08f6"
      }
    },
    {
      "cell_type": "markdown",
      "source": [
        "Answer Here."
      ],
      "metadata": {
        "id": "uGZz5OrT1HH-"
      }
    },
    {
      "cell_type": "markdown",
      "source": [
        "### 3. Categorical Encoding"
      ],
      "metadata": {
        "id": "89xtkJwZ18nB"
      }
    },
    {
      "cell_type": "code",
      "source": [
        "# Encode your categorical columns"
      ],
      "metadata": {
        "id": "21JmIYMG2hEo"
      },
      "execution_count": 48,
      "outputs": []
    },
    {
      "cell_type": "markdown",
      "source": [
        "#### What all categorical encoding techniques have you used & why did you use those techniques?"
      ],
      "metadata": {
        "id": "67NQN5KX2AMe"
      }
    },
    {
      "cell_type": "markdown",
      "source": [
        "Answer Here."
      ],
      "metadata": {
        "id": "UDaue5h32n_G"
      }
    },
    {
      "cell_type": "markdown",
      "source": [
        "### 4. Textual Data Preprocessing \n",
        "(It's mandatory for textual dataset i.e., NLP, Sentiment Analysis, Text Clustering etc.)"
      ],
      "metadata": {
        "id": "Iwf50b-R2tYG"
      }
    },
    {
      "cell_type": "markdown",
      "source": [
        "#### 1. Expand Contraction"
      ],
      "metadata": {
        "id": "GMQiZwjn3iu7"
      }
    },
    {
      "cell_type": "code",
      "source": [
        "# Expand Contraction"
      ],
      "metadata": {
        "id": "PTouz10C3oNN"
      },
      "execution_count": 49,
      "outputs": []
    },
    {
      "cell_type": "markdown",
      "source": [
        "#### 2. Lower Casing"
      ],
      "metadata": {
        "id": "WVIkgGqN3qsr"
      }
    },
    {
      "cell_type": "code",
      "source": [
        "# Lower Casing"
      ],
      "metadata": {
        "id": "88JnJ1jN3w7j"
      },
      "execution_count": 50,
      "outputs": []
    },
    {
      "cell_type": "markdown",
      "source": [
        "#### 3. Removing Punctuations"
      ],
      "metadata": {
        "id": "XkPnILGE3zoT"
      }
    },
    {
      "cell_type": "code",
      "source": [
        "# Remove Punctuations"
      ],
      "metadata": {
        "id": "vqbBqNaA33c0"
      },
      "execution_count": 51,
      "outputs": []
    },
    {
      "cell_type": "markdown",
      "source": [
        "#### 4. Removing URLs & Removing words and digits contain digits."
      ],
      "metadata": {
        "id": "Hlsf0x5436Go"
      }
    },
    {
      "cell_type": "code",
      "source": [
        "# Remove URLs & Remove words and digits contain digits"
      ],
      "metadata": {
        "id": "2sxKgKxu4Ip3"
      },
      "execution_count": 52,
      "outputs": []
    },
    {
      "cell_type": "markdown",
      "source": [
        "#### 5. Removing Stopwords & Removing White spaces"
      ],
      "metadata": {
        "id": "mT9DMSJo4nBL"
      }
    },
    {
      "cell_type": "code",
      "source": [
        "# Remove Stopwords"
      ],
      "metadata": {
        "id": "T2LSJh154s8W"
      },
      "execution_count": 53,
      "outputs": []
    },
    {
      "cell_type": "code",
      "source": [
        "# Remove White spaces"
      ],
      "metadata": {
        "id": "EgLJGffy4vm0"
      },
      "execution_count": 54,
      "outputs": []
    },
    {
      "cell_type": "markdown",
      "source": [
        "#### 6. Rephrase Text"
      ],
      "metadata": {
        "id": "c49ITxTc407N"
      }
    },
    {
      "cell_type": "code",
      "source": [
        "# Rephrase Text"
      ],
      "metadata": {
        "id": "foqY80Qu48N2"
      },
      "execution_count": 55,
      "outputs": []
    },
    {
      "cell_type": "markdown",
      "source": [
        "#### 7. Tokenization"
      ],
      "metadata": {
        "id": "OeJFEK0N496M"
      }
    },
    {
      "cell_type": "code",
      "source": [
        "# Tokenization"
      ],
      "metadata": {
        "id": "ijx1rUOS5CUU"
      },
      "execution_count": 56,
      "outputs": []
    },
    {
      "cell_type": "markdown",
      "source": [
        "#### 8. Text Normalization"
      ],
      "metadata": {
        "id": "9ExmJH0g5HBk"
      }
    },
    {
      "cell_type": "code",
      "source": [
        "# Normalizing Text (i.e., Stemming, Lemmatization etc.)"
      ],
      "metadata": {
        "id": "AIJ1a-Zc5PY8"
      },
      "execution_count": 57,
      "outputs": []
    },
    {
      "cell_type": "markdown",
      "source": [
        "##### Which text normalization technique have you used and why?"
      ],
      "metadata": {
        "id": "cJNqERVU536h"
      }
    },
    {
      "cell_type": "markdown",
      "source": [
        "Answer Here."
      ],
      "metadata": {
        "id": "Z9jKVxE06BC1"
      }
    },
    {
      "cell_type": "markdown",
      "source": [
        "#### 9. Part of speech tagging"
      ],
      "metadata": {
        "id": "k5UmGsbsOxih"
      }
    },
    {
      "cell_type": "code",
      "source": [
        "# POS Taging"
      ],
      "metadata": {
        "id": "btT3ZJBAO6Ik"
      },
      "execution_count": 58,
      "outputs": []
    },
    {
      "cell_type": "markdown",
      "source": [
        "#### 10. Text Vectorization"
      ],
      "metadata": {
        "id": "T0VqWOYE6DLQ"
      }
    },
    {
      "cell_type": "code",
      "source": [
        "# Vectorizing Text"
      ],
      "metadata": {
        "id": "yBRtdhth6JDE"
      },
      "execution_count": 59,
      "outputs": []
    },
    {
      "cell_type": "markdown",
      "source": [
        "##### Which text vectorization technique have you used and why?"
      ],
      "metadata": {
        "id": "qBMux9mC6MCf"
      }
    },
    {
      "cell_type": "markdown",
      "source": [
        "Answer Here."
      ],
      "metadata": {
        "id": "su2EnbCh6UKQ"
      }
    },
    {
      "cell_type": "markdown",
      "source": [
        "### 4. Feature Manipulation & Selection"
      ],
      "metadata": {
        "id": "-oLEiFgy-5Pf"
      }
    },
    {
      "cell_type": "markdown",
      "source": [
        "#### 1. Feature Manipulation"
      ],
      "metadata": {
        "id": "C74aWNz2AliB"
      }
    },
    {
      "cell_type": "code",
      "source": [
        "# Manipulate Features to minimize feature correlation and create new features"
      ],
      "metadata": {
        "id": "h1qC4yhBApWC"
      },
      "execution_count": 60,
      "outputs": []
    },
    {
      "cell_type": "markdown",
      "source": [
        "#### 2. Feature Selection"
      ],
      "metadata": {
        "id": "2DejudWSA-a0"
      }
    },
    {
      "cell_type": "code",
      "source": [
        "# Select your features wisely to avoid overfitting"
      ],
      "metadata": {
        "id": "YLhe8UmaBCEE"
      },
      "execution_count": 61,
      "outputs": []
    },
    {
      "cell_type": "markdown",
      "source": [
        "##### What all feature selection methods have you used  and why?"
      ],
      "metadata": {
        "id": "pEMng2IbBLp7"
      }
    },
    {
      "cell_type": "markdown",
      "source": [
        "Answer Here."
      ],
      "metadata": {
        "id": "rb2Lh6Z8BgGs"
      }
    },
    {
      "cell_type": "markdown",
      "source": [
        "##### Which all features you found important and why?"
      ],
      "metadata": {
        "id": "rAdphbQ9Bhjc"
      }
    },
    {
      "cell_type": "markdown",
      "source": [
        "Answer Here."
      ],
      "metadata": {
        "id": "fGgaEstsBnaf"
      }
    },
    {
      "cell_type": "markdown",
      "source": [
        "### 5. Data Transformation"
      ],
      "metadata": {
        "id": "TNVZ9zx19K6k"
      }
    },
    {
      "cell_type": "markdown",
      "source": [
        "#### Do you think that your data needs to be transformed? If yes, which transformation have you used. Explain Why?"
      ],
      "metadata": {
        "id": "nqoHp30x9hH9"
      }
    },
    {
      "cell_type": "code",
      "source": [
        "# Transform Your data"
      ],
      "metadata": {
        "id": "I6quWQ1T9rtH"
      },
      "execution_count": 62,
      "outputs": []
    },
    {
      "cell_type": "markdown",
      "source": [
        "### 6. Data Scaling"
      ],
      "metadata": {
        "id": "rMDnDkt2B6du"
      }
    },
    {
      "cell_type": "code",
      "source": [
        "# Scaling your data"
      ],
      "metadata": {
        "id": "dL9LWpySC6x_"
      },
      "execution_count": 63,
      "outputs": []
    },
    {
      "cell_type": "markdown",
      "source": [
        "##### Which method have you used to scale you data and why?"
      ],
      "metadata": {
        "id": "yiiVWRdJDDil"
      }
    },
    {
      "cell_type": "markdown",
      "source": [
        "### 7. Dimesionality Reduction"
      ],
      "metadata": {
        "id": "1UUpS68QDMuG"
      }
    },
    {
      "cell_type": "markdown",
      "source": [
        "##### Do you think that dimensionality reduction is needed? Explain Why?"
      ],
      "metadata": {
        "id": "kexQrXU-DjzY"
      }
    },
    {
      "cell_type": "markdown",
      "source": [
        "Answer Here."
      ],
      "metadata": {
        "id": "GGRlBsSGDtTQ"
      }
    },
    {
      "cell_type": "code",
      "source": [
        "# DImensionality Reduction (If needed)"
      ],
      "metadata": {
        "id": "kQfvxBBHDvCa"
      },
      "execution_count": 64,
      "outputs": []
    },
    {
      "cell_type": "markdown",
      "source": [
        "##### Which dimensionality reduction technique have you used and why? (If dimensionality reduction done on dataset.)"
      ],
      "metadata": {
        "id": "T5CmagL3EC8N"
      }
    },
    {
      "cell_type": "markdown",
      "source": [
        "Answer Here."
      ],
      "metadata": {
        "id": "ZKr75IDuEM7t"
      }
    },
    {
      "cell_type": "markdown",
      "source": [
        "### 8. Data Splitting"
      ],
      "metadata": {
        "id": "BhH2vgX9EjGr"
      }
    },
    {
      "cell_type": "code",
      "source": [
        "# Split your data to train and test. Choose Splitting ratio wisely."
      ],
      "metadata": {
        "id": "0CTyd2UwEyNM"
      },
      "execution_count": 65,
      "outputs": []
    },
    {
      "cell_type": "markdown",
      "source": [
        "##### What data splitting ratio have you used and why? "
      ],
      "metadata": {
        "id": "qjKvONjwE8ra"
      }
    },
    {
      "cell_type": "markdown",
      "source": [
        "Answer Here."
      ],
      "metadata": {
        "id": "Y2lJ8cobFDb_"
      }
    },
    {
      "cell_type": "markdown",
      "source": [
        "### 9. Handling Imbalanced Dataset"
      ],
      "metadata": {
        "id": "P1XJ9OREExlT"
      }
    },
    {
      "cell_type": "markdown",
      "source": [
        "##### Do you think the dataset is imbalanced? Explain Why."
      ],
      "metadata": {
        "id": "VFOzZv6IFROw"
      }
    },
    {
      "cell_type": "markdown",
      "source": [
        "Answer Here."
      ],
      "metadata": {
        "id": "GeKDIv7pFgcC"
      }
    },
    {
      "cell_type": "code",
      "source": [
        "# Handling Imbalanced Dataset (If needed)"
      ],
      "metadata": {
        "id": "nQsRhhZLFiDs"
      },
      "execution_count": 66,
      "outputs": []
    },
    {
      "cell_type": "markdown",
      "source": [
        "##### What technique did you use to handle the imbalance dataset and why? (If needed to be balanced)"
      ],
      "metadata": {
        "id": "TIqpNgepFxVj"
      }
    },
    {
      "cell_type": "markdown",
      "source": [
        "Answer Here."
      ],
      "metadata": {
        "id": "qbet1HwdGDTz"
      }
    },
    {
      "cell_type": "markdown",
      "source": [
        "## ***7. ML Model Implementation***"
      ],
      "metadata": {
        "id": "VfCC591jGiD4"
      }
    },
    {
      "cell_type": "markdown",
      "source": [
        "### ML Model - 1"
      ],
      "metadata": {
        "id": "OB4l2ZhMeS1U"
      }
    },
    {
      "cell_type": "code",
      "source": [
        "# ML Model - 1 Implementation\n",
        "\n",
        "# Fit the Algorithm\n",
        "\n",
        "# Predict on the model"
      ],
      "metadata": {
        "id": "7ebyywQieS1U"
      },
      "execution_count": 67,
      "outputs": []
    },
    {
      "cell_type": "markdown",
      "source": [
        "#### 1. Explain the ML Model used and it's performance using Evaluation metric Score Chart."
      ],
      "metadata": {
        "id": "ArJBuiUVfxKd"
      }
    },
    {
      "cell_type": "code",
      "source": [
        "# Visualizing evaluation Metric Score chart"
      ],
      "metadata": {
        "id": "rqD5ZohzfxKe"
      },
      "execution_count": 68,
      "outputs": []
    },
    {
      "cell_type": "markdown",
      "source": [
        "#### 2. Cross- Validation & Hyperparameter Tuning"
      ],
      "metadata": {
        "id": "4qY1EAkEfxKe"
      }
    },
    {
      "cell_type": "code",
      "source": [
        "# ML Model - 1 Implementation with hyperparameter optimization techniques (i.e., GridSearch CV, RandomSearch CV, Bayesian Optimization etc.)\n",
        "\n",
        "# Fit the Algorithm\n",
        "\n",
        "# Predict on the model"
      ],
      "metadata": {
        "id": "Dy61ujd6fxKe"
      },
      "execution_count": 69,
      "outputs": []
    },
    {
      "cell_type": "markdown",
      "source": [
        "##### Which hyperparameter optimization technique have you used and why?"
      ],
      "metadata": {
        "id": "PiV4Ypx8fxKe"
      }
    },
    {
      "cell_type": "markdown",
      "source": [
        "Answer Here."
      ],
      "metadata": {
        "id": "negyGRa7fxKf"
      }
    },
    {
      "cell_type": "markdown",
      "source": [
        "##### Have you seen any improvement? Note down the improvement with updates Evaluation metric Score Chart."
      ],
      "metadata": {
        "id": "TfvqoZmBfxKf"
      }
    },
    {
      "cell_type": "markdown",
      "source": [
        "Answer Here."
      ],
      "metadata": {
        "id": "OaLui8CcfxKf"
      }
    },
    {
      "cell_type": "markdown",
      "source": [
        "### ML Model - 2"
      ],
      "metadata": {
        "id": "dJ2tPlVmpsJ0"
      }
    },
    {
      "cell_type": "markdown",
      "source": [
        "#### 1. Explain the ML Model used and it's performance using Evaluation metric Score Chart."
      ],
      "metadata": {
        "id": "JWYfwnehpsJ1"
      }
    },
    {
      "cell_type": "code",
      "source": [
        "# Visualizing evaluation Metric Score chart"
      ],
      "metadata": {
        "id": "yEl-hgQWpsJ1"
      },
      "execution_count": 70,
      "outputs": []
    },
    {
      "cell_type": "markdown",
      "source": [
        "#### 2. Cross- Validation & Hyperparameter Tuning"
      ],
      "metadata": {
        "id": "-jK_YjpMpsJ2"
      }
    },
    {
      "cell_type": "code",
      "source": [
        "# ML Model - 1 Implementation with hyperparameter optimization techniques (i.e., GridSearch CV, RandomSearch CV, Bayesian Optimization etc.)\n",
        "\n",
        "# Fit the Algorithm\n",
        "\n",
        "# Predict on the model"
      ],
      "metadata": {
        "id": "Dn0EOfS6psJ2"
      },
      "execution_count": 71,
      "outputs": []
    },
    {
      "cell_type": "markdown",
      "source": [
        "##### Which hyperparameter optimization technique have you used and why?"
      ],
      "metadata": {
        "id": "HAih1iBOpsJ2"
      }
    },
    {
      "cell_type": "markdown",
      "source": [
        "Answer Here."
      ],
      "metadata": {
        "id": "9kBgjYcdpsJ2"
      }
    },
    {
      "cell_type": "markdown",
      "source": [
        "##### Have you seen any improvement? Note down the improvement with updates Evaluation metric Score Chart."
      ],
      "metadata": {
        "id": "zVGeBEFhpsJ2"
      }
    },
    {
      "cell_type": "markdown",
      "source": [
        "Answer Here."
      ],
      "metadata": {
        "id": "74yRdG6UpsJ3"
      }
    },
    {
      "cell_type": "markdown",
      "source": [
        "#### 3. Explain each evaluation metric's indication towards business and the business impact pf the ML model used."
      ],
      "metadata": {
        "id": "bmKjuQ-FpsJ3"
      }
    },
    {
      "cell_type": "markdown",
      "source": [
        "Answer Here."
      ],
      "metadata": {
        "id": "BDKtOrBQpsJ3"
      }
    },
    {
      "cell_type": "markdown",
      "source": [
        "### ML Model - 3"
      ],
      "metadata": {
        "id": "Fze-IPXLpx6K"
      }
    },
    {
      "cell_type": "code",
      "source": [
        "# ML Model - 3 Implementation\n",
        "\n",
        "# Fit the Algorithm\n",
        "\n",
        "# Predict on the model"
      ],
      "metadata": {
        "id": "FFrSXAtrpx6M"
      },
      "execution_count": 72,
      "outputs": []
    },
    {
      "cell_type": "markdown",
      "source": [
        "#### 1. Explain the ML Model used and it's performance using Evaluation metric Score Chart."
      ],
      "metadata": {
        "id": "7AN1z2sKpx6M"
      }
    },
    {
      "cell_type": "code",
      "source": [
        "# Visualizing evaluation Metric Score chart"
      ],
      "metadata": {
        "id": "xIY4lxxGpx6M"
      },
      "execution_count": 73,
      "outputs": []
    },
    {
      "cell_type": "markdown",
      "source": [
        "#### 2. Cross- Validation & Hyperparameter Tuning"
      ],
      "metadata": {
        "id": "9PIHJqyupx6M"
      }
    },
    {
      "cell_type": "code",
      "source": [
        "# ML Model - 3 Implementation with hyperparameter optimization techniques (i.e., GridSearch CV, RandomSearch CV, Bayesian Optimization etc.)\n",
        "\n",
        "# Fit the Algorithm\n",
        "\n",
        "# Predict on the model"
      ],
      "metadata": {
        "id": "eSVXuaSKpx6M"
      },
      "execution_count": 74,
      "outputs": []
    },
    {
      "cell_type": "markdown",
      "source": [
        "##### Which hyperparameter optimization technique have you used and why?"
      ],
      "metadata": {
        "id": "_-qAgymDpx6N"
      }
    },
    {
      "cell_type": "markdown",
      "source": [
        "Answer Here."
      ],
      "metadata": {
        "id": "lQMffxkwpx6N"
      }
    },
    {
      "cell_type": "markdown",
      "source": [
        "##### Have you seen any improvement? Note down the improvement with updates Evaluation metric Score Chart."
      ],
      "metadata": {
        "id": "Z-hykwinpx6N"
      }
    },
    {
      "cell_type": "markdown",
      "source": [
        "Answer Here."
      ],
      "metadata": {
        "id": "MzVzZC6opx6N"
      }
    },
    {
      "cell_type": "markdown",
      "source": [
        "### 1. Which Evaluation metrics did you consider for a positive business impact and why?"
      ],
      "metadata": {
        "id": "h_CCil-SKHpo"
      }
    },
    {
      "cell_type": "markdown",
      "source": [
        "Answer Here."
      ],
      "metadata": {
        "id": "jHVz9hHDKFms"
      }
    },
    {
      "cell_type": "markdown",
      "source": [
        "### 2. Which ML model did you choose from the above created models as your final prediction model and why?"
      ],
      "metadata": {
        "id": "cBFFvTBNJzUa"
      }
    },
    {
      "cell_type": "markdown",
      "source": [
        "Answer Here."
      ],
      "metadata": {
        "id": "6ksF5Q1LKTVm"
      }
    },
    {
      "cell_type": "markdown",
      "source": [
        "### 3. Explain the model which you have used and the feature importance using any model explainability tool?"
      ],
      "metadata": {
        "id": "HvGl1hHyA_VK"
      }
    },
    {
      "cell_type": "markdown",
      "source": [
        "Answer Here."
      ],
      "metadata": {
        "id": "YnvVTiIxBL-C"
      }
    },
    {
      "cell_type": "markdown",
      "source": [
        "## ***8.*** ***Future Work (Optional)***"
      ],
      "metadata": {
        "id": "EyNgTHvd2WFk"
      }
    },
    {
      "cell_type": "markdown",
      "source": [
        "### 1. Save the best performing ml model in a pickle file or joblib file format for deployment process.\n"
      ],
      "metadata": {
        "id": "KH5McJBi2d8v"
      }
    },
    {
      "cell_type": "code",
      "source": [
        "# Save the File"
      ],
      "metadata": {
        "id": "bQIANRl32f4J"
      },
      "execution_count": 75,
      "outputs": []
    },
    {
      "cell_type": "markdown",
      "source": [
        "### 2. Again Load the saved model file and try to predict unseen data for a sanity check.\n"
      ],
      "metadata": {
        "id": "iW_Lq9qf2h6X"
      }
    },
    {
      "cell_type": "code",
      "source": [
        "# Load the File and predict unseen data."
      ],
      "metadata": {
        "id": "oEXk9ydD2nVC"
      },
      "execution_count": 76,
      "outputs": []
    },
    {
      "cell_type": "markdown",
      "source": [
        "### ***Congrats! Your model is successfully created and ready for deployment on a live server for a real user interaction !!!***"
      ],
      "metadata": {
        "id": "-Kee-DAl2viO"
      }
    },
    {
      "cell_type": "markdown",
      "source": [
        "# **Conclusion**"
      ],
      "metadata": {
        "id": "gCX9965dhzqZ"
      }
    },
    {
      "cell_type": "markdown",
      "source": [
        "Write the conclusion here."
      ],
      "metadata": {
        "id": "Fjb1IsQkh3yE"
      }
    },
    {
      "cell_type": "markdown",
      "source": [
        "### ***Hurrah! You have successfully completed your Machine Learning Capstone Project !!!***"
      ],
      "metadata": {
        "id": "gIfDvo9L0UH2"
      }
    }
  ]
}